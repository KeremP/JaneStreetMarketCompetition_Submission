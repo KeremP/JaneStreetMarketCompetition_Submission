{
 "cells": [
  {
   "cell_type": "code",
   "execution_count": 1,
   "metadata": {},
   "outputs": [],
   "source": [
    "import os\n",
    "import time\n",
    "import pickle\n",
    "import random\n",
    "import numpy as np\n",
    "import pandas as pd\n",
    "from tqdm import tqdm, trange\n",
    "from sklearn.metrics import log_loss, roc_auc_score, f1_score\n",
    "\n",
    "import torch\n",
    "import torch.nn as nn\n",
    "from torch.autograd import Variable\n",
    "from torch.utils.data import DataLoader\n",
    "from torch.nn import CrossEntropyLoss, MSELoss\n",
    "from torch.nn.modules.loss import _WeightedLoss\n",
    "import torch.nn.functional as F"
   ]
  },
  {
   "cell_type": "code",
   "execution_count": 2,
   "metadata": {},
   "outputs": [],
   "source": [
    "import matplotlib.pyplot as plt\n",
    "%matplotlib inline"
   ]
  },
  {
   "cell_type": "code",
   "execution_count": 3,
   "metadata": {},
   "outputs": [],
   "source": [
    "DATA_PATH = 'input/'"
   ]
  },
  {
   "cell_type": "code",
   "execution_count": 4,
   "metadata": {},
   "outputs": [],
   "source": [
    "BATCH_SIZE = 8192\n",
    "EPOCHS = 200\n",
    "LR = 1e-3\n",
    "WEIGHT_DECAY = 1e-5\n",
    "EARLYSTOP_NUM = 3\n",
    "nFOLDS = 5"
   ]
  },
  {
   "cell_type": "code",
   "execution_count": 5,
   "metadata": {},
   "outputs": [
    {
     "name": "stdout",
     "output_type": "stream",
     "text": [
      "Reading input data...\n",
      "Optimizing memory usage...\n",
      "Complete\n"
     ]
    }
   ],
   "source": [
    "TRAIN = True\n",
    "CACHE_PATH ='models/'\n",
    "print('Reading input data...')\n",
    "train = pd.read_csv(f'{DATA_PATH}train.csv')\n",
    "train = train.query('date > 85').reset_index(drop=True)\n",
    "print('Optimizing memory usage...')\n",
    "train = train.astype({c: np.float32 for c in train.select_dtypes(include='float64').columns})\n",
    "print('Complete')\n",
    "features = [c for c in train.columns if 'feature' in c]\n",
    "f_mean = train[features[1:]].mean()\n",
    "train[features] = train[features].fillna(method='ffill').fillna(0)\n",
    "train = train.query('weight > 0').reset_index(drop=True)\n",
    "train['action'] = (train['resp'] > 0).astype('int') #BCE Target\n",
    "train['action_1'] = (train['resp_1'] > 0).astype('int')\n",
    "train['action_2'] = (train['resp_2'] > 0).astype('int')\n",
    "train['action_3'] = (train['resp_3'] > 0).astype('int')\n",
    "train['action_4'] = (train['resp_4'] > 0).astype('int')"
   ]
  },
  {
   "cell_type": "code",
   "execution_count": 6,
   "metadata": {},
   "outputs": [],
   "source": [
    "def seed_everything(seed=42):\n",
    "    random.seed(seed)\n",
    "    os.environ['PYTHONHASHSEED'] = str(seed)\n",
    "    np.random.seed(seed)\n",
    "    torch.manual_seed(seed)\n",
    "    torch.cuda.manual_seed(seed)\n",
    "    torch.backends.cudnn.deterministic = True\n",
    "seed_everything(seed=42)"
   ]
  },
  {
   "cell_type": "code",
   "execution_count": 6,
   "metadata": {},
   "outputs": [],
   "source": [
    "def fillna_npwhere_njit(array, values):\n",
    "    if np.isnan(array.sum()):\n",
    "        array = np.where(np.isnan(array), values, array)\n",
    "    return array"
   ]
  },
  {
   "cell_type": "code",
   "execution_count": 7,
   "metadata": {},
   "outputs": [],
   "source": [
    "class RunningEWMean:\n",
    "    def __init__(self, WIN_SIZE=20, n_size=1, lt_mean=None):\n",
    "        if lt_mean is not None:\n",
    "            self.s = lt_mean\n",
    "        else:\n",
    "            self.s = np.zeros(n_size)\n",
    "        self.past_value = np.zeros(n_size)\n",
    "        self.alpha = 2 / (WIN_SIZE + 1)\n",
    "\n",
    "    def clear(self):\n",
    "        self.s = 0\n",
    "\n",
    "    def push(self, x):\n",
    "\n",
    "        x = fillna_npwhere_njit(x, self.past_value)\n",
    "        self.past_value = x\n",
    "        self.s = self.alpha * x + (1 - self.alpha) * self.s\n",
    "\n",
    "    def get_mean(self):\n",
    "        return self.s"
   ]
  },
  {
   "cell_type": "code",
   "execution_count": 8,
   "metadata": {},
   "outputs": [],
   "source": [
    "class EarlyStopping:\n",
    "    def __init__(self, patience=7, mode=\"max\", delta=0.):\n",
    "        self.patience = patience\n",
    "        self.counter = 0\n",
    "        self.mode = mode\n",
    "        self.best_score = None\n",
    "        self.early_stop = False\n",
    "        self.delta = delta\n",
    "        if self.mode == \"min\":\n",
    "            self.val_score = np.Inf\n",
    "        else:\n",
    "            self.val_score = -np.Inf\n",
    "\n",
    "    def __call__(self, epoch_score, model, model_path):\n",
    "\n",
    "        if self.mode == \"min\":\n",
    "            score = -1.0 * epoch_score\n",
    "        else:\n",
    "            score = np.copy(epoch_score)\n",
    "\n",
    "        if self.best_score is None:\n",
    "            self.best_score = score\n",
    "            self.save_checkpoint(epoch_score, model, model_path)\n",
    "        elif score < self.best_score: #  + self.delta\n",
    "            self.counter += 1\n",
    "            print('EarlyStopping counter: {} out of {}'.format(self.counter, self.patience))\n",
    "            if self.counter >= self.patience:\n",
    "                self.early_stop = True\n",
    "        else:\n",
    "            self.best_score = score\n",
    "            # ema.apply_shadow()\n",
    "            self.save_checkpoint(epoch_score, model, model_path)\n",
    "            # ema.restore()\n",
    "            self.counter = 0\n",
    "\n",
    "    def save_checkpoint(self, epoch_score, model, model_path):\n",
    "        if epoch_score not in [-np.inf, np.inf, -np.nan, np.nan]:\n",
    "            print('Validation score improved ({} --> {}). Saving model!'.format(self.val_score, epoch_score))\n",
    "            torch.save(model.state_dict(), model_path)\n",
    "        self.val_score = epoch_score"
   ]
  },
  {
   "cell_type": "code",
   "execution_count": 9,
   "metadata": {},
   "outputs": [],
   "source": [
    "target_cols = [target for target in train.columns if 'action' in target]\n",
    "if TRAIN:\n",
    "    feat_cols= [col for col in features]\n",
    "    \n",
    "    train['cross_41_42_43'] = train['feature_41'] + train['feature_42'] + train['feature_43']\n",
    "    \n",
    "    train['cross_1_2'] = train['feature_1'] / (train['feature_2'] + 1e-5)\n",
    "   \n",
    "    feat_cols.extend(['cross_41_42_43','cross_1_2'])"
   ]
  },
  {
   "cell_type": "code",
   "execution_count": 10,
   "metadata": {},
   "outputs": [
    {
     "data": {
      "text/plain": [
       "132"
      ]
     },
     "execution_count": 10,
     "metadata": {},
     "output_type": "execute_result"
    }
   ],
   "source": [
    "len(feat_cols)"
   ]
  },
  {
   "cell_type": "code",
   "execution_count": 12,
   "metadata": {},
   "outputs": [],
   "source": [
    "valid = train.loc[(train.date >= 450) & (train.date < 500)].reset_index(drop=True)\n",
    "train = train.loc[train.date < 450].reset_index(drop=True)"
   ]
  },
  {
   "cell_type": "code",
   "execution_count": 11,
   "metadata": {},
   "outputs": [],
   "source": [
    "class SmoothBCEwLogits(_WeightedLoss):\n",
    "    def __init__(self, weight=None, reduction='mean', smoothing=0.0):\n",
    "        super().__init__(weight=weight, reduction=reduction)\n",
    "        self.smoothing = smoothing\n",
    "        self.weight = weight\n",
    "        self.reduction = reduction\n",
    "\n",
    "    @staticmethod\n",
    "    def _smooth(targets:torch.Tensor, n_labels:int, smoothing=0.0):\n",
    "        assert 0 <= smoothing < 1\n",
    "        with torch.no_grad():\n",
    "            targets = targets * (1.0 - smoothing) + 0.5 * smoothing\n",
    "        return targets\n",
    "\n",
    "    def forward(self, inputs, targets):\n",
    "        targets = SmoothBCEwLogits._smooth(targets, inputs.size(-1),\n",
    "            self.smoothing)\n",
    "        loss = F.binary_cross_entropy_with_logits(inputs, targets,self.weight)\n",
    "\n",
    "        if  self.reduction == 'sum':\n",
    "            loss = loss.sum()\n",
    "        elif  self.reduction == 'mean':\n",
    "            loss = loss.mean()\n",
    "\n",
    "        return loss"
   ]
  },
  {
   "cell_type": "code",
   "execution_count": 12,
   "metadata": {},
   "outputs": [],
   "source": [
    "class MarketDataset:\n",
    "    def __init__(self, df):\n",
    "        self.features = df[feat_cols].values\n",
    "\n",
    "        self.label = df[target_cols].values.reshape(-1, len(target_cols))\n",
    "\n",
    "    def __len__(self):\n",
    "        return len(self.label)\n",
    "\n",
    "    def __getitem__(self, idx):\n",
    "        return {\n",
    "            'features': torch.tensor(self.features[idx], dtype=torch.float),\n",
    "            'label': torch.tensor(self.label[idx], dtype=torch.float)\n",
    "        }"
   ]
  },
  {
   "cell_type": "code",
   "execution_count": 13,
   "metadata": {},
   "outputs": [],
   "source": [
    "class Model(nn.Module):\n",
    "    def __init__(self):\n",
    "        super(Model, self).__init__()\n",
    "        self.batch_norm0 = nn.BatchNorm1d(len(feat_cols))\n",
    "        self.dropout0 = nn.Dropout(0.2)\n",
    "\n",
    "        dropout_rate = 0.2\n",
    "        hidden_size = 256\n",
    "        self.dense1 = nn.Linear(len(feat_cols), hidden_size)\n",
    "        self.batch_norm1 = nn.BatchNorm1d(hidden_size)\n",
    "        self.dropout1 = nn.Dropout(dropout_rate)\n",
    "\n",
    "        self.dense2 = nn.Linear(hidden_size+len(feat_cols), hidden_size)\n",
    "        self.batch_norm2 = nn.BatchNorm1d(hidden_size)\n",
    "        self.dropout2 = nn.Dropout(dropout_rate)\n",
    "\n",
    "        self.dense3 = nn.Linear(hidden_size+hidden_size, hidden_size)\n",
    "        self.batch_norm3 = nn.BatchNorm1d(hidden_size)\n",
    "        self.dropout3 = nn.Dropout(dropout_rate)\n",
    "\n",
    "        self.dense4 = nn.Linear(hidden_size+hidden_size, hidden_size)\n",
    "        self.batch_norm4 = nn.BatchNorm1d(hidden_size)\n",
    "        self.dropout4 = nn.Dropout(dropout_rate)\n",
    "\n",
    "        self.dense5 = nn.Linear(hidden_size+hidden_size, len(target_cols))\n",
    "\n",
    "        self.Relu = nn.ReLU(inplace=True)\n",
    "        self.PReLU = nn.PReLU()\n",
    "        self.LeakyReLU = nn.LeakyReLU(negative_slope=0.01, inplace=True)\n",
    "        # self.GeLU = nn.GELU()\n",
    "        self.RReLU = nn.RReLU()\n",
    "\n",
    "    def forward(self, x):\n",
    "        x = self.batch_norm0(x)\n",
    "        x = self.dropout0(x)\n",
    "\n",
    "        x1 = self.dense1(x)\n",
    "        x1 = self.batch_norm1(x1)\n",
    "        # x = F.relu(x)\n",
    "        # x = self.PReLU(x)\n",
    "        x1 = self.LeakyReLU(x1)\n",
    "        x1 = self.dropout1(x1)\n",
    "\n",
    "        x = torch.cat([x, x1], 1)\n",
    "\n",
    "        x2 = self.dense2(x)\n",
    "        x2 = self.batch_norm2(x2)\n",
    "        # x = F.relu(x)\n",
    "        # x = self.PReLU(x)\n",
    "        x2 = self.LeakyReLU(x2)\n",
    "        x2 = self.dropout2(x2)\n",
    "\n",
    "        x = torch.cat([x1, x2], 1)\n",
    "\n",
    "        x3 = self.dense3(x)\n",
    "        x3 = self.batch_norm3(x3)\n",
    "        # x = F.relu(x)\n",
    "        # x = self.PReLU(x)\n",
    "        x3 = self.LeakyReLU(x3)\n",
    "        x3 = self.dropout3(x3)\n",
    "\n",
    "        x = torch.cat([x2, x3], 1)\n",
    "\n",
    "        x4 = self.dense4(x)\n",
    "        x4 = self.batch_norm4(x4)\n",
    "        # x = F.relu(x)\n",
    "        # x = self.PReLU(x)\n",
    "        x4 = self.LeakyReLU(x4)\n",
    "        x4 = self.dropout4(x4)\n",
    "\n",
    "        x = torch.cat([x3, x4], 1)\n",
    "\n",
    "        x = self.dense5(x)\n",
    "\n",
    "        return x"
   ]
  },
  {
   "cell_type": "code",
   "execution_count": 14,
   "metadata": {},
   "outputs": [],
   "source": [
    "def train_fn(model, optimizer, loss_fn, dataloader, device):\n",
    "    model.train()\n",
    "    final_loss = 0\n",
    "    \n",
    "    for data in dataloader:\n",
    "        optimizer.zero_grad()\n",
    "        X,y = data['features'].to(device),data['label'].to(device)\n",
    "        outputs = model(X)\n",
    "        loss = loss_fn(outputs,y)\n",
    "        loss.backward()\n",
    "        optimizer.step()\n",
    "        \n",
    "        final_loss += loss.item()\n",
    "    final_loss/=len(dataloader)\n",
    "        \n",
    "    return final_loss\n",
    "        "
   ]
  },
  {
   "cell_type": "code",
   "execution_count": 15,
   "metadata": {},
   "outputs": [],
   "source": [
    "def inference(model, dataloader, device,loss_fn=None):\n",
    "    model.eval()\n",
    "    preds = []\n",
    "    val_loss = 0\n",
    "    for data in dataloader:\n",
    "        X,y = data['features'].to(device),data['label'].to(device)\n",
    "        with torch.no_grad():\n",
    "            outputs = model(X)\n",
    "        if loss_fn:\n",
    "            loss = loss_fn(outputs,y)\n",
    "        \n",
    "            val_loss += loss.item()\n",
    "        \n",
    "        preds.append(outputs.sigmoid().detach().cpu().numpy())\n",
    "        \n",
    "        \n",
    "        \n",
    "    preds = np.concatenate(preds).reshape(-1,len(target_cols))\n",
    "    \n",
    "    if loss_fn:\n",
    "        val_loss/=len(dataloader)\n",
    "    else:\n",
    "        val_loss = None\n",
    "    \n",
    "    \n",
    "    \n",
    "    return val_loss, preds"
   ]
  },
  {
   "cell_type": "code",
   "execution_count": 16,
   "metadata": {},
   "outputs": [],
   "source": [
    "def utility_score_bincount(date, weight, resp, action):\n",
    "    count_i = len(np.unique(date))\n",
    "    # print('weight: ', weight)\n",
    "    # print('resp: ', resp)\n",
    "    # print('action: ', action)\n",
    "    # print('weight * resp * action: ', weight * resp * action)\n",
    "    Pi = np.bincount(date, weight * resp * action)\n",
    "    t = np.sum(Pi) / np.sqrt(np.sum(Pi ** 2)) * np.sqrt(250 / count_i)\n",
    "    u = np.clip(t, 0, 6) * np.sum(Pi)\n",
    "    return u"
   ]
  },
  {
   "cell_type": "code",
   "execution_count": 28,
   "metadata": {},
   "outputs": [],
   "source": [
    "from sklearn.model_selection import KFold\n",
    "from sklearn.model_selection._split import _BaseKFold, indexable, _num_samples\n",
    "from sklearn.utils.validation import _deprecate_positional_args\n",
    "\n",
    "# modified code for group gaps; source\n",
    "# https://github.com/getgaurav2/scikit-learn/blob/d4a3af5cc9da3a76f0266932644b884c99724c57/sklearn/model_selection/_split.py#L2243\n",
    "class PurgedGroupTimeSeriesSplit(_BaseKFold):\n",
    "    \"\"\"Time Series cross-validator variant with non-overlapping groups.\n",
    "    Allows for a gap in groups to avoid potentially leaking info from\n",
    "    train into test if the model has windowed or lag features.\n",
    "    Provides train/test indices to split time series data samples\n",
    "    that are observed at fixed time intervals according to a\n",
    "    third-party provided group.\n",
    "    In each split, test indices must be higher than before, and thus shuffling\n",
    "    in cross validator is inappropriate.\n",
    "    This cross-validation object is a variation of :class:`KFold`.\n",
    "    In the kth split, it returns first k folds as train set and the\n",
    "    (k+1)th fold as test set.\n",
    "    The same group will not appear in two different folds (the number of\n",
    "    distinct groups has to be at least equal to the number of folds).\n",
    "    Note that unlike standard cross-validation methods, successive\n",
    "    training sets are supersets of those that come before them.\n",
    "    Read more in the :ref:`User Guide <cross_validation>`.\n",
    "    Parameters\n",
    "    ----------\n",
    "    n_splits : int, default=5\n",
    "        Number of splits. Must be at least 2.\n",
    "    max_train_group_size : int, default=Inf\n",
    "        Maximum group size for a single training set.\n",
    "    group_gap : int, default=None\n",
    "        Gap between train and test\n",
    "    max_test_group_size : int, default=Inf\n",
    "        We discard this number of groups from the end of each train split\n",
    "    \"\"\"\n",
    "\n",
    "    @_deprecate_positional_args\n",
    "    def __init__(self,\n",
    "                 n_splits=5,\n",
    "                 *,\n",
    "                 max_train_group_size=np.inf,\n",
    "                 max_test_group_size=np.inf,\n",
    "                 group_gap=None,\n",
    "                 verbose=False\n",
    "                 ):\n",
    "        super().__init__(n_splits, shuffle=False, random_state=None)\n",
    "        self.max_train_group_size = max_train_group_size\n",
    "        self.group_gap = group_gap\n",
    "        self.max_test_group_size = max_test_group_size\n",
    "        self.verbose = verbose\n",
    "\n",
    "    def split(self, X, y=None, groups=None):\n",
    "        \"\"\"Generate indices to split data into training and test set.\n",
    "        Parameters\n",
    "        ----------\n",
    "        X : array-like of shape (n_samples, n_features)\n",
    "            Training data, where n_samples is the number of samples\n",
    "            and n_features is the number of features.\n",
    "        y : array-like of shape (n_samples,)\n",
    "            Always ignored, exists for compatibility.\n",
    "        groups : array-like of shape (n_samples,)\n",
    "            Group labels for the samples used while splitting the dataset into\n",
    "            train/test set.\n",
    "        Yields\n",
    "        ------\n",
    "        train : ndarray\n",
    "            The training set indices for that split.\n",
    "        test : ndarray\n",
    "            The testing set indices for that split.\n",
    "        \"\"\"\n",
    "        if groups is None:\n",
    "            raise ValueError(\n",
    "                \"The 'groups' parameter should not be None\")\n",
    "        X, y, groups = indexable(X, y, groups)\n",
    "        n_samples = _num_samples(X)\n",
    "        n_splits = self.n_splits\n",
    "        group_gap = self.group_gap\n",
    "        max_test_group_size = self.max_test_group_size\n",
    "        max_train_group_size = self.max_train_group_size\n",
    "        n_folds = n_splits + 1\n",
    "        group_dict = {}\n",
    "        u, ind = np.unique(groups, return_index=True)\n",
    "        unique_groups = u[np.argsort(ind)]\n",
    "        n_samples = _num_samples(X)\n",
    "        n_groups = _num_samples(unique_groups)\n",
    "        for idx in np.arange(n_samples):\n",
    "            if (groups[idx] in group_dict):\n",
    "                group_dict[groups[idx]].append(idx)\n",
    "            else:\n",
    "                group_dict[groups[idx]] = [idx]\n",
    "        if n_folds > n_groups:\n",
    "            raise ValueError(\n",
    "                (\"Cannot have number of folds={0} greater than\"\n",
    "                 \" the number of groups={1}\").format(n_folds,\n",
    "                                                     n_groups))\n",
    "\n",
    "        group_test_size = min(n_groups // n_folds, max_test_group_size)\n",
    "        group_test_starts = range(n_groups - n_splits * group_test_size,\n",
    "                                  n_groups, group_test_size)\n",
    "        for group_test_start in group_test_starts:\n",
    "            train_array = []\n",
    "            test_array = []\n",
    "\n",
    "            group_st = max(0, group_test_start - group_gap - max_train_group_size)\n",
    "            for train_group_idx in unique_groups[group_st:(group_test_start - group_gap)]:\n",
    "                train_array_tmp = group_dict[train_group_idx]\n",
    "                \n",
    "                train_array = np.sort(np.unique(\n",
    "                                      np.concatenate((train_array,\n",
    "                                                      train_array_tmp)),\n",
    "                                      axis=None), axis=None)\n",
    "\n",
    "            train_end = train_array.size\n",
    " \n",
    "            for test_group_idx in unique_groups[group_test_start:\n",
    "                                                group_test_start +\n",
    "                                                group_test_size]:\n",
    "                test_array_tmp = group_dict[test_group_idx]\n",
    "                test_array = np.sort(np.unique(\n",
    "                                              np.concatenate((test_array,\n",
    "                                                              test_array_tmp)),\n",
    "                                     axis=None), axis=None)\n",
    "\n",
    "            test_array  = test_array[group_gap:]\n",
    "            \n",
    "            \n",
    "            if self.verbose > 0:\n",
    "                    pass\n",
    "                    \n",
    "            yield [int(i) for i in train_array], [int(i) for i in test_array]"
   ]
  },
  {
   "cell_type": "code",
   "execution_count": 29,
   "metadata": {},
   "outputs": [],
   "source": [
    "gkf = PurgedGroupTimeSeriesSplit(n_splits=5, group_gap=20)\n",
    "splits = list(gkf.split(train[['resp']],groups=train['date'].values))"
   ]
  },
  {
   "cell_type": "code",
   "execution_count": 22,
   "metadata": {},
   "outputs": [
    {
     "name": "stdout",
     "output_type": "stream",
     "text": [
      "Fold: 0\n"
     ]
    },
    {
     "name": "stderr",
     "output_type": "stream",
     "text": [
      "Train loss 0.6942214053578493 Valid loss 0.6899000365158607 ROC_score 0.5406128243802982 f1_score 0.49847951979268584 Utility_score 862.7976144912805:   0%|          | 1/200 [00:40<2:14:36, 40.59s/it]"
     ]
    },
    {
     "name": "stdout",
     "output_type": "stream",
     "text": [
      "Validation score improved (-inf --> 0.49847951979268584). Saving model!\n"
     ]
    },
    {
     "name": "stderr",
     "output_type": "stream",
     "text": [
      "Train loss 0.6910398864164585 Valid loss 0.6891503313492084 ROC_score 0.5450345295385846 f1_score 0.4910939077751599 Utility_score 1093.113411911562:   1%|          | 2/200 [01:20<2:12:46, 40.24s/it] "
     ]
    },
    {
     "name": "stdout",
     "output_type": "stream",
     "text": [
      "EarlyStopping counter: 1 out of 7\n"
     ]
    },
    {
     "name": "stderr",
     "output_type": "stream",
     "text": [
      "Train loss 0.6904450676790098 Valid loss 0.6889645148967874 ROC_score 0.5458816805894727 f1_score 0.5084474518484372 Utility_score 1384.524902778681:   2%|▏         | 3/200 [02:00<2:12:39, 40.40s/it]"
     ]
    },
    {
     "name": "stdout",
     "output_type": "stream",
     "text": [
      "Validation score improved (0.49847951979268584 --> 0.5084474518484372). Saving model!\n"
     ]
    },
    {
     "name": "stderr",
     "output_type": "stream",
     "text": [
      "Train loss 0.6900495025442868 Valid loss 0.6887563734218992 ROC_score 0.5462245560410363 f1_score 0.5370017654022128 Utility_score 1414.6836732567908:   2%|▏         | 4/200 [02:41<2:12:01, 40.42s/it]"
     ]
    },
    {
     "name": "stdout",
     "output_type": "stream",
     "text": [
      "Validation score improved (0.5084474518484372 --> 0.5370017654022128). Saving model!\n"
     ]
    },
    {
     "name": "stderr",
     "output_type": "stream",
     "text": [
      "Train loss 0.6898129920407039 Valid loss 0.6888869569219392 ROC_score 0.5454548256923072 f1_score 0.5605082193694604 Utility_score 1451.50843683913:   2%|▎         | 5/200 [03:22<2:12:14, 40.69s/it]  "
     ]
    },
    {
     "name": "stdout",
     "output_type": "stream",
     "text": [
      "Validation score improved (0.5370017654022128 --> 0.5605082193694604). Saving model!\n"
     ]
    },
    {
     "name": "stderr",
     "output_type": "stream",
     "text": [
      "Train loss 0.6896006239623558 Valid loss 0.688597296846324 ROC_score 0.5472304048090204 f1_score 0.5677851065863684 Utility_score 1492.4527852091264:   3%|▎         | 6/200 [04:00<2:09:21, 40.01s/it]"
     ]
    },
    {
     "name": "stdout",
     "output_type": "stream",
     "text": [
      "Validation score improved (0.5605082193694604 --> 0.5677851065863684). Saving model!\n"
     ]
    },
    {
     "name": "stderr",
     "output_type": "stream",
     "text": [
      "Train loss 0.689417319690309 Valid loss 0.6884307943541428 ROC_score 0.5477792335105058 f1_score 0.5742506478900787 Utility_score 1510.8063647084298:   4%|▎         | 7/200 [04:40<2:08:28, 39.94s/it]"
     ]
    },
    {
     "name": "stdout",
     "output_type": "stream",
     "text": [
      "Validation score improved (0.5677851065863684 --> 0.5742506478900787). Saving model!\n"
     ]
    },
    {
     "name": "stderr",
     "output_type": "stream",
     "text": [
      "Train loss 0.6892828792333603 Valid loss 0.6883258799026752 ROC_score 0.548769472614652 f1_score 0.5534497571095442 Utility_score 1589.8587171756867:   4%|▍         | 8/200 [05:21<2:08:43, 40.22s/it]"
     ]
    },
    {
     "name": "stdout",
     "output_type": "stream",
     "text": [
      "EarlyStopping counter: 1 out of 7\n"
     ]
    },
    {
     "name": "stderr",
     "output_type": "stream",
     "text": [
      "Train loss 0.6890800035581356 Valid loss 0.6882167253000983 ROC_score 0.5492379396677609 f1_score 0.5211215462325053 Utility_score 1521.4480885246426:   4%|▍         | 9/200 [06:03<2:09:10, 40.58s/it]"
     ]
    },
    {
     "name": "stdout",
     "output_type": "stream",
     "text": [
      "EarlyStopping counter: 2 out of 7\n"
     ]
    },
    {
     "name": "stderr",
     "output_type": "stream",
     "text": [
      "Train loss 0.6890088221648845 Valid loss 0.6881525701489942 ROC_score 0.5497461577133531 f1_score 0.5084495731568933 Utility_score 1488.6716003559818:   5%|▌         | 10/200 [06:44<2:09:14, 40.81s/it]"
     ]
    },
    {
     "name": "stdout",
     "output_type": "stream",
     "text": [
      "EarlyStopping counter: 3 out of 7\n"
     ]
    },
    {
     "name": "stderr",
     "output_type": "stream",
     "text": [
      "Train loss 0.6888465626937587 Valid loss 0.6880754109086662 ROC_score 0.5500923809655516 f1_score 0.5091581642668016 Utility_score 1545.482611927263:   6%|▌         | 11/200 [07:26<2:09:19, 41.06s/it] "
     ]
    },
    {
     "name": "stdout",
     "output_type": "stream",
     "text": [
      "Epoch    11: reducing learning rate of group 0 to 1.0000e-04.\n",
      "EarlyStopping counter: 4 out of 7\n"
     ]
    },
    {
     "name": "stderr",
     "output_type": "stream",
     "text": [
      "Train loss 0.6880431327877975 Valid loss 0.6875145065373388 ROC_score 0.552555440074226 f1_score 0.5508385534051444 Utility_score 1938.2076562199377:   6%|▌         | 12/200 [08:07<2:09:08, 41.22s/it]"
     ]
    },
    {
     "name": "stdout",
     "output_type": "stream",
     "text": [
      "EarlyStopping counter: 5 out of 7\n"
     ]
    },
    {
     "name": "stderr",
     "output_type": "stream",
     "text": [
      "Train loss 0.687688393927202 Valid loss 0.6874578821248022 ROC_score 0.5528473653088715 f1_score 0.5482939515949907 Utility_score 1979.2596690431096:   6%|▋         | 13/200 [08:50<2:09:32, 41.56s/it]"
     ]
    },
    {
     "name": "stdout",
     "output_type": "stream",
     "text": [
      "EarlyStopping counter: 6 out of 7\n"
     ]
    },
    {
     "name": "stderr",
     "output_type": "stream",
     "text": [
      "Train loss 0.687688393927202 Valid loss 0.6874578821248022 ROC_score 0.5528473653088715 f1_score 0.5482939515949907 Utility_score 1979.2596690431096:   6%|▋         | 13/200 [09:31<2:17:06, 43.99s/it]"
     ]
    },
    {
     "name": "stdout",
     "output_type": "stream",
     "text": [
      "EarlyStopping counter: 7 out of 7\n",
      "Early stopping\n",
      "Fold: 1\n"
     ]
    },
    {
     "name": "stderr",
     "output_type": "stream",
     "text": [
      "\n",
      "Train loss 0.694222438989616 Valid loss 0.689551869343067 ROC_score 0.5419043347498517 f1_score 0.5501508101847277 Utility_score 1136.3073665192555:   0%|          | 1/200 [00:41<2:18:55, 41.89s/it]"
     ]
    },
    {
     "name": "stdout",
     "output_type": "stream",
     "text": [
      "Validation score improved (-inf --> 0.5501508101847277). Saving model!\n"
     ]
    },
    {
     "name": "stderr",
     "output_type": "stream",
     "text": [
      "Train loss 0.6911067711870845 Valid loss 0.6889642867548712 ROC_score 0.5458634619345621 f1_score 0.5072906867356538 Utility_score 1162.7675288115072:   1%|          | 2/200 [01:23<2:17:32, 41.68s/it]"
     ]
    },
    {
     "name": "stdout",
     "output_type": "stream",
     "text": [
      "EarlyStopping counter: 1 out of 7\n"
     ]
    },
    {
     "name": "stderr",
     "output_type": "stream",
     "text": [
      "Train loss 0.6904247624845039 Valid loss 0.6887483267948545 ROC_score 0.5466059296971306 f1_score 0.5274590163934426 Utility_score 1422.872358467016:   2%|▏         | 3/200 [02:05<2:17:20, 41.83s/it] "
     ]
    },
    {
     "name": "stdout",
     "output_type": "stream",
     "text": [
      "EarlyStopping counter: 2 out of 7\n"
     ]
    },
    {
     "name": "stderr",
     "output_type": "stream",
     "text": [
      "Train loss 0.69001575722927 Valid loss 0.6886494426891722 ROC_score 0.5470380542551727 f1_score 0.5437901109989909 Utility_score 1458.5460215938137:   2%|▏         | 4/200 [02:47<2:17:00, 41.94s/it] "
     ]
    },
    {
     "name": "stdout",
     "output_type": "stream",
     "text": [
      "EarlyStopping counter: 3 out of 7\n"
     ]
    },
    {
     "name": "stderr",
     "output_type": "stream",
     "text": [
      "Train loss 0.6897813238021804 Valid loss 0.6886787620084039 ROC_score 0.5469331211848643 f1_score 0.5658792086507741 Utility_score 1453.975271158827:   2%|▎         | 5/200 [03:30<2:16:59, 42.15s/it]"
     ]
    },
    {
     "name": "stdout",
     "output_type": "stream",
     "text": [
      "Validation score improved (0.5501508101847277 --> 0.5658792086507741). Saving model!\n"
     ]
    },
    {
     "name": "stderr",
     "output_type": "stream",
     "text": [
      "Train loss 0.689595004043928 Valid loss 0.6886385514818388 ROC_score 0.5469105544647295 f1_score 0.5646481682569754 Utility_score 1588.4240536590883:   3%|▎         | 6/200 [04:12<2:16:58, 42.36s/it]"
     ]
    },
    {
     "name": "stdout",
     "output_type": "stream",
     "text": [
      "EarlyStopping counter: 1 out of 7\n"
     ]
    },
    {
     "name": "stderr",
     "output_type": "stream",
     "text": [
      "Train loss 0.6894044018373257 Valid loss 0.6883797337268961 ROC_score 0.5483070244312009 f1_score 0.5635005253723963 Utility_score 1662.0596834404764:   4%|▎         | 7/200 [04:54<2:15:57, 42.26s/it]"
     ]
    },
    {
     "name": "stdout",
     "output_type": "stream",
     "text": [
      "EarlyStopping counter: 2 out of 7\n"
     ]
    },
    {
     "name": "stderr",
     "output_type": "stream",
     "text": [
      "Train loss 0.6892577791359367 Valid loss 0.6883892766360579 ROC_score 0.5485875744893103 f1_score 0.5552850756927157 Utility_score 1580.1233088772856:   4%|▍         | 8/200 [05:36<2:14:16, 41.96s/it]"
     ]
    },
    {
     "name": "stdout",
     "output_type": "stream",
     "text": [
      "EarlyStopping counter: 3 out of 7\n"
     ]
    },
    {
     "name": "stderr",
     "output_type": "stream",
     "text": [
      "Train loss 0.6891325813968007 Valid loss 0.6879937607666542 ROC_score 0.5504640589494673 f1_score 0.5316444096403609 Utility_score 1588.5277117873818:   4%|▍         | 9/200 [06:13<2:08:53, 40.49s/it]"
     ]
    },
    {
     "name": "stdout",
     "output_type": "stream",
     "text": [
      "Epoch     9: reducing learning rate of group 0 to 1.0000e-04.\n",
      "EarlyStopping counter: 4 out of 7\n"
     ]
    },
    {
     "name": "stderr",
     "output_type": "stream",
     "text": [
      "Train loss 0.6882676772954988 Valid loss 0.6874791650936521 ROC_score 0.5530425285611595 f1_score 0.5407204353142978 Utility_score 1933.39065200274:   5%|▌         | 10/200 [06:50<2:05:31, 39.64s/it] "
     ]
    },
    {
     "name": "stdout",
     "output_type": "stream",
     "text": [
      "EarlyStopping counter: 5 out of 7\n"
     ]
    },
    {
     "name": "stderr",
     "output_type": "stream",
     "text": [
      "Train loss 0.688052435473698 Valid loss 0.6874526595247203 ROC_score 0.5532159942482491 f1_score 0.5364313424475655 Utility_score 1995.9452751354534:   6%|▌         | 11/200 [07:28<2:03:16, 39.13s/it]"
     ]
    },
    {
     "name": "stdout",
     "output_type": "stream",
     "text": [
      "EarlyStopping counter: 6 out of 7\n"
     ]
    },
    {
     "name": "stderr",
     "output_type": "stream",
     "text": [
      "Train loss 0.688052435473698 Valid loss 0.6874526595247203 ROC_score 0.5532159942482491 f1_score 0.5364313424475655 Utility_score 1995.9452751354534:   6%|▌         | 11/200 [08:06<2:19:16, 44.22s/it]"
     ]
    },
    {
     "name": "stdout",
     "output_type": "stream",
     "text": [
      "EarlyStopping counter: 7 out of 7\n",
      "Early stopping\n",
      "Fold: 2\n"
     ]
    },
    {
     "name": "stderr",
     "output_type": "stream",
     "text": [
      "\n",
      "Train loss 0.6943906356648701 Valid loss 0.6898654432132326 ROC_score 0.541190879354628 f1_score 0.5182802734499475 Utility_score 1299.588033196664:   0%|          | 1/200 [00:38<2:06:31, 38.15s/it]"
     ]
    },
    {
     "name": "stdout",
     "output_type": "stream",
     "text": [
      "Validation score improved (-inf --> 0.5182802734499475). Saving model!\n"
     ]
    },
    {
     "name": "stderr",
     "output_type": "stream",
     "text": [
      "Train loss 0.6911887806363222 Valid loss 0.6889548178376823 ROC_score 0.545656713769208 f1_score 0.500902757594173 Utility_score 1330.9403709622125:   1%|          | 2/200 [01:15<2:05:24, 38.00s/it]"
     ]
    },
    {
     "name": "stdout",
     "output_type": "stream",
     "text": [
      "EarlyStopping counter: 1 out of 7\n"
     ]
    },
    {
     "name": "stderr",
     "output_type": "stream",
     "text": [
      "Train loss 0.69044313488937 Valid loss 0.6887619927011687 ROC_score 0.546242573562458 f1_score 0.5236928310975251 Utility_score 1237.351447075281:   2%|▏         | 3/200 [01:54<2:05:05, 38.10s/it]  "
     ]
    },
    {
     "name": "stdout",
     "output_type": "stream",
     "text": [
      "Validation score improved (0.5182802734499475 --> 0.5236928310975251). Saving model!\n"
     ]
    },
    {
     "name": "stderr",
     "output_type": "stream",
     "text": [
      "Train loss 0.6901187213455758 Valid loss 0.6886296292831158 ROC_score 0.5470000646709117 f1_score 0.5382173541800295 Utility_score 1444.982908130064:   2%|▏         | 4/200 [02:33<2:05:21, 38.37s/it]"
     ]
    },
    {
     "name": "stdout",
     "output_type": "stream",
     "text": [
      "Validation score improved (0.5236928310975251 --> 0.5382173541800295). Saving model!\n"
     ]
    },
    {
     "name": "stderr",
     "output_type": "stream",
     "text": [
      "Train loss 0.6897432636923906 Valid loss 0.6887641734090345 ROC_score 0.5461131207807627 f1_score 0.5716231194368051 Utility_score 1453.0149817439105:   2%|▎         | 5/200 [03:10<2:03:37, 38.04s/it]"
     ]
    },
    {
     "name": "stdout",
     "output_type": "stream",
     "text": [
      "Validation score improved (0.5382173541800295 --> 0.5716231194368051). Saving model!\n"
     ]
    },
    {
     "name": "stderr",
     "output_type": "stream",
     "text": [
      "Train loss 0.6896495419304546 Valid loss 0.6885464458630003 ROC_score 0.5475495952640894 f1_score 0.5703125594273675 Utility_score 1552.108827768:   3%|▎         | 6/200 [03:48<2:03:17, 38.13s/it]    "
     ]
    },
    {
     "name": "stdout",
     "output_type": "stream",
     "text": [
      "EarlyStopping counter: 1 out of 7\n"
     ]
    },
    {
     "name": "stderr",
     "output_type": "stream",
     "text": [
      "Train loss 0.6894541484553639 Valid loss 0.688333887478401 ROC_score 0.5483980590255999 f1_score 0.5629199862118649 Utility_score 1479.6487659440722:   4%|▎         | 7/200 [04:28<2:04:29, 38.70s/it]"
     ]
    },
    {
     "name": "stdout",
     "output_type": "stream",
     "text": [
      "EarlyStopping counter: 2 out of 7\n"
     ]
    },
    {
     "name": "stderr",
     "output_type": "stream",
     "text": [
      "Train loss 0.6893038553435628 Valid loss 0.6881955224892189 ROC_score 0.5492345532412317 f1_score 0.5475336484972145 Utility_score 1477.1597595996063:   4%|▍         | 8/200 [05:06<2:03:02, 38.45s/it]"
     ]
    },
    {
     "name": "stdout",
     "output_type": "stream",
     "text": [
      "EarlyStopping counter: 3 out of 7\n"
     ]
    },
    {
     "name": "stderr",
     "output_type": "stream",
     "text": [
      "Train loss 0.6891266489174308 Valid loss 0.6882861133279472 ROC_score 0.5489835837480805 f1_score 0.5156377715637772 Utility_score 1492.7978804062977:   4%|▍         | 9/200 [05:47<2:04:54, 39.24s/it]"
     ]
    },
    {
     "name": "stdout",
     "output_type": "stream",
     "text": [
      "Epoch     9: reducing learning rate of group 0 to 1.0000e-04.\n",
      "EarlyStopping counter: 4 out of 7\n"
     ]
    },
    {
     "name": "stderr",
     "output_type": "stream",
     "text": [
      "Train loss 0.6883789264574284 Valid loss 0.687670306912784 ROC_score 0.5519060789279354 f1_score 0.5360686422288846 Utility_score 1905.061235102301:   5%|▌         | 10/200 [06:26<2:03:44, 39.07s/it] "
     ]
    },
    {
     "name": "stdout",
     "output_type": "stream",
     "text": [
      "EarlyStopping counter: 5 out of 7\n"
     ]
    },
    {
     "name": "stderr",
     "output_type": "stream",
     "text": [
      "Train loss 0.6880551027815517 Valid loss 0.6876125726206549 ROC_score 0.5522542393435816 f1_score 0.5357228671091115 Utility_score 1864.1387001226553:   6%|▌         | 11/200 [07:04<2:02:32, 38.90s/it]"
     ]
    },
    {
     "name": "stdout",
     "output_type": "stream",
     "text": [
      "EarlyStopping counter: 6 out of 7\n"
     ]
    },
    {
     "name": "stderr",
     "output_type": "stream",
     "text": [
      "Train loss 0.6880551027815517 Valid loss 0.6876125726206549 ROC_score 0.5522542393435816 f1_score 0.5357228671091115 Utility_score 1864.1387001226553:   6%|▌         | 11/200 [07:41<2:12:15, 41.98s/it]"
     ]
    },
    {
     "name": "stdout",
     "output_type": "stream",
     "text": [
      "EarlyStopping counter: 7 out of 7\n",
      "Early stopping\n",
      "Fold: 3\n"
     ]
    },
    {
     "name": "stderr",
     "output_type": "stream",
     "text": [
      "\n",
      "Train loss 0.6943177304616789 Valid loss 0.6896747864525894 ROC_score 0.54086496073723 f1_score 0.5211111997950003 Utility_score 977.3179389108732:   0%|          | 1/200 [00:38<2:07:00, 38.29s/it]"
     ]
    },
    {
     "name": "stdout",
     "output_type": "stream",
     "text": [
      "Validation score improved (-inf --> 0.5211111997950003). Saving model!\n"
     ]
    },
    {
     "name": "stderr",
     "output_type": "stream",
     "text": [
      "Train loss 0.6911503316425696 Valid loss 0.6890310295696916 ROC_score 0.544764364133137 f1_score 0.5108992060752503 Utility_score 1222.2763160884142:   1%|          | 2/200 [01:16<2:06:26, 38.32s/it]"
     ]
    },
    {
     "name": "stdout",
     "output_type": "stream",
     "text": [
      "EarlyStopping counter: 1 out of 7\n"
     ]
    },
    {
     "name": "stderr",
     "output_type": "stream",
     "text": [
      "Train loss 0.6904660586903735 Valid loss 0.6888415094079643 ROC_score 0.5456740506856306 f1_score 0.5386382895508767 Utility_score 1368.4691665149105:   2%|▏         | 3/200 [01:53<2:04:03, 37.79s/it]"
     ]
    },
    {
     "name": "stdout",
     "output_type": "stream",
     "text": [
      "Validation score improved (0.5211111997950003 --> 0.5386382895508767). Saving model!\n"
     ]
    },
    {
     "name": "stderr",
     "output_type": "stream",
     "text": [
      "Train loss 0.6901644820847163 Valid loss 0.6888160212286587 ROC_score 0.5455029806625389 f1_score 0.5603974615250257 Utility_score 1348.6572317105301:   2%|▏         | 4/200 [02:30<2:03:00, 37.65s/it]"
     ]
    },
    {
     "name": "stdout",
     "output_type": "stream",
     "text": [
      "Validation score improved (0.5386382895508767 --> 0.5603974615250257). Saving model!\n"
     ]
    },
    {
     "name": "stderr",
     "output_type": "stream",
     "text": [
      "Train loss 0.6898620321256358 Valid loss 0.6887718459655499 ROC_score 0.5460074636564927 f1_score 0.5757988679584318 Utility_score 1455.6254751857875:   2%|▎         | 5/200 [03:08<2:02:19, 37.64s/it]"
     ]
    },
    {
     "name": "stdout",
     "output_type": "stream",
     "text": [
      "Validation score improved (0.5603974615250257 --> 0.5757988679584318). Saving model!\n"
     ]
    },
    {
     "name": "stderr",
     "output_type": "stream",
     "text": [
      "Train loss 0.6896507376577796 Valid loss 0.6887145165739388 ROC_score 0.5470650815296473 f1_score 0.5758684619562165 Utility_score 1437.0784723579814:   3%|▎         | 6/200 [03:45<2:01:13, 37.49s/it]"
     ]
    },
    {
     "name": "stdout",
     "output_type": "stream",
     "text": [
      "Validation score improved (0.5757988679584318 --> 0.5758684619562165). Saving model!\n"
     ]
    },
    {
     "name": "stderr",
     "output_type": "stream",
     "text": [
      "Train loss 0.6895104196013474 Valid loss 0.6883740938943008 ROC_score 0.5485102730174797 f1_score 0.5607733623110508 Utility_score 1618.7189283925134:   4%|▎         | 7/200 [04:24<2:02:16, 38.01s/it]"
     ]
    },
    {
     "name": "stdout",
     "output_type": "stream",
     "text": [
      "EarlyStopping counter: 1 out of 7\n"
     ]
    },
    {
     "name": "stderr",
     "output_type": "stream",
     "text": [
      "Train loss 0.689345764677699 Valid loss 0.6883306852702437 ROC_score 0.5487349295268437 f1_score 0.5320415557711282 Utility_score 1506.7095789743753:   4%|▍         | 8/200 [05:03<2:02:23, 38.25s/it] "
     ]
    },
    {
     "name": "stdout",
     "output_type": "stream",
     "text": [
      "EarlyStopping counter: 2 out of 7\n"
     ]
    },
    {
     "name": "stderr",
     "output_type": "stream",
     "text": [
      "Train loss 0.6891914348049861 Valid loss 0.688182284092081 ROC_score 0.5498390475975724 f1_score 0.5084505996847672 Utility_score 1628.036824528428:   4%|▍         | 9/200 [05:40<2:00:41, 37.91s/it] "
     ]
    },
    {
     "name": "stdout",
     "output_type": "stream",
     "text": [
      "EarlyStopping counter: 3 out of 7\n"
     ]
    },
    {
     "name": "stderr",
     "output_type": "stream",
     "text": [
      "Train loss 0.688936677284357 Valid loss 0.6881314659940785 ROC_score 0.550124486626079 f1_score 0.5072042068361087 Utility_score 1530.010572511973:   5%|▌         | 10/200 [06:19<2:00:49, 38.15s/it]"
     ]
    },
    {
     "name": "stdout",
     "output_type": "stream",
     "text": [
      "Epoch    10: reducing learning rate of group 0 to 1.0000e-04.\n",
      "EarlyStopping counter: 4 out of 7\n"
     ]
    },
    {
     "name": "stderr",
     "output_type": "stream",
     "text": [
      "Train loss 0.6882175566946588 Valid loss 0.687492296613496 ROC_score 0.5529379230246932 f1_score 0.5457901911779024 Utility_score 1937.0453762058125:   6%|▌         | 11/200 [06:57<2:00:18, 38.19s/it]"
     ]
    },
    {
     "name": "stdout",
     "output_type": "stream",
     "text": [
      "EarlyStopping counter: 5 out of 7\n"
     ]
    },
    {
     "name": "stderr",
     "output_type": "stream",
     "text": [
      "Train loss 0.6878543125420082 Valid loss 0.6874830620042209 ROC_score 0.5531221563299108 f1_score 0.5419132513158003 Utility_score 2042.8376131268708:   6%|▌         | 12/200 [07:35<1:59:55, 38.27s/it]"
     ]
    },
    {
     "name": "stdout",
     "output_type": "stream",
     "text": [
      "EarlyStopping counter: 6 out of 7\n"
     ]
    },
    {
     "name": "stderr",
     "output_type": "stream",
     "text": [
      "Train loss 0.6878543125420082 Valid loss 0.6874830620042209 ROC_score 0.5531221563299108 f1_score 0.5419132513158003 Utility_score 2042.8376131268708:   6%|▌         | 12/200 [08:15<2:09:15, 41.25s/it]"
     ]
    },
    {
     "name": "stdout",
     "output_type": "stream",
     "text": [
      "EarlyStopping counter: 7 out of 7\n",
      "Early stopping\n",
      "Fold: 4\n"
     ]
    },
    {
     "name": "stderr",
     "output_type": "stream",
     "text": [
      "\n",
      "Train loss 0.6939800621532812 Valid loss 0.6894721142176924 ROC_score 0.5417868612877221 f1_score 0.5326166083333677 Utility_score 1063.9256372547484:   0%|          | 1/200 [00:39<2:10:00, 39.20s/it]"
     ]
    },
    {
     "name": "stdout",
     "output_type": "stream",
     "text": [
      "Validation score improved (-inf --> 0.5326166083333677). Saving model!\n"
     ]
    },
    {
     "name": "stderr",
     "output_type": "stream",
     "text": [
      "Train loss 0.6910778433084488 Valid loss 0.6893048142564708 ROC_score 0.5437460089126365 f1_score 0.5029602135034816 Utility_score 1122.8546488364586:   1%|          | 2/200 [01:16<2:07:18, 38.58s/it]"
     ]
    },
    {
     "name": "stdout",
     "output_type": "stream",
     "text": [
      "EarlyStopping counter: 1 out of 7\n"
     ]
    },
    {
     "name": "stderr",
     "output_type": "stream",
     "text": [
      "Train loss 0.6903264864188868 Valid loss 0.6889166133157139 ROC_score 0.5453324322886843 f1_score 0.527347354619968 Utility_score 1291.0982369901353:   2%|▏         | 3/200 [01:54<2:06:29, 38.52s/it] "
     ]
    },
    {
     "name": "stdout",
     "output_type": "stream",
     "text": [
      "EarlyStopping counter: 2 out of 7\n"
     ]
    },
    {
     "name": "stderr",
     "output_type": "stream",
     "text": [
      "Train loss 0.6900058595872507 Valid loss 0.6889884389680008 ROC_score 0.5453040743915294 f1_score 0.5512522152137111 Utility_score 1307.7812400844446:   2%|▏         | 4/200 [02:34<2:07:04, 38.90s/it]"
     ]
    },
    {
     "name": "stdout",
     "output_type": "stream",
     "text": [
      "Validation score improved (0.5326166083333677 --> 0.5512522152137111). Saving model!\n"
     ]
    },
    {
     "name": "stderr",
     "output_type": "stream",
     "text": [
      "Train loss 0.6897625421605459 Valid loss 0.6889858266402935 ROC_score 0.5456751870938453 f1_score 0.5708157759117227 Utility_score 1510.799623723227:   2%|▎         | 5/200 [03:14<2:07:45, 39.31s/it] "
     ]
    },
    {
     "name": "stdout",
     "output_type": "stream",
     "text": [
      "Validation score improved (0.5512522152137111 --> 0.5708157759117227). Saving model!\n"
     ]
    },
    {
     "name": "stderr",
     "output_type": "stream",
     "text": [
      "Train loss 0.6896182814749275 Valid loss 0.6887458398424345 ROC_score 0.5466530316189202 f1_score 0.5762994852597099 Utility_score 1497.759544310115:   3%|▎         | 6/200 [03:53<2:06:31, 39.13s/it]"
     ]
    },
    {
     "name": "stdout",
     "output_type": "stream",
     "text": [
      "Validation score improved (0.5708157759117227 --> 0.5762994852597099). Saving model!\n"
     ]
    },
    {
     "name": "stderr",
     "output_type": "stream",
     "text": [
      "Train loss 0.6894278987878706 Valid loss 0.6884313698472648 ROC_score 0.5480524650397581 f1_score 0.5506698250293609 Utility_score 1598.0341521730227:   4%|▎         | 7/200 [04:31<2:05:04, 38.89s/it]"
     ]
    },
    {
     "name": "stdout",
     "output_type": "stream",
     "text": [
      "EarlyStopping counter: 1 out of 7\n"
     ]
    },
    {
     "name": "stderr",
     "output_type": "stream",
     "text": [
      "Train loss 0.6892556933368125 Valid loss 0.6882723569869995 ROC_score 0.5489411347252175 f1_score 0.5256401076568626 Utility_score 1516.732406236661:   4%|▍         | 8/200 [05:11<2:04:59, 39.06s/it] "
     ]
    },
    {
     "name": "stdout",
     "output_type": "stream",
     "text": [
      "EarlyStopping counter: 2 out of 7\n"
     ]
    },
    {
     "name": "stderr",
     "output_type": "stream",
     "text": [
      "Train loss 0.6890666786490417 Valid loss 0.6881341687564192 ROC_score 0.5496490332942653 f1_score 0.522676794221868 Utility_score 1612.6142193528842:   4%|▍         | 9/200 [05:50<2:04:51, 39.22s/it]"
     ]
    },
    {
     "name": "stdout",
     "output_type": "stream",
     "text": [
      "EarlyStopping counter: 3 out of 7\n"
     ]
    },
    {
     "name": "stderr",
     "output_type": "stream",
     "text": [
      "Train loss 0.6889106347793486 Valid loss 0.6882343497769586 ROC_score 0.5497333597614448 f1_score 0.5122866953385127 Utility_score 1572.6847496620373:   5%|▌         | 10/200 [06:29<2:03:56, 39.14s/it]"
     ]
    },
    {
     "name": "stdout",
     "output_type": "stream",
     "text": [
      "Epoch    10: reducing learning rate of group 0 to 1.0000e-04.\n",
      "EarlyStopping counter: 4 out of 7\n"
     ]
    },
    {
     "name": "stderr",
     "output_type": "stream",
     "text": [
      "Train loss 0.6882405677219716 Valid loss 0.6875546882892477 ROC_score 0.5527519811411565 f1_score 0.5488500193274063 Utility_score 1934.5000803592748:   6%|▌         | 11/200 [07:09<2:03:45, 39.29s/it]"
     ]
    },
    {
     "name": "stdout",
     "output_type": "stream",
     "text": [
      "EarlyStopping counter: 5 out of 7\n"
     ]
    },
    {
     "name": "stderr",
     "output_type": "stream",
     "text": [
      "Train loss 0.6878732188445765 Valid loss 0.687488814880108 ROC_score 0.5531700952104107 f1_score 0.5457136361421914 Utility_score 2021.3236089506315:   6%|▌         | 12/200 [07:49<2:03:23, 39.38s/it] "
     ]
    },
    {
     "name": "stdout",
     "output_type": "stream",
     "text": [
      "EarlyStopping counter: 6 out of 7\n"
     ]
    },
    {
     "name": "stderr",
     "output_type": "stream",
     "text": [
      "Train loss 0.6878732188445765 Valid loss 0.687488814880108 ROC_score 0.5531700952104107 f1_score 0.5457136361421914 Utility_score 2021.3236089506315:   6%|▌         | 12/200 [08:27<2:12:28, 42.28s/it]"
     ]
    },
    {
     "name": "stdout",
     "output_type": "stream",
     "text": [
      "EarlyStopping counter: 7 out of 7\n",
      "Early stopping\n"
     ]
    },
    {
     "name": "stderr",
     "output_type": "stream",
     "text": [
      "\n"
     ]
    }
   ],
   "source": [
    "device = torch.device(\"cuda\")\n",
    "for _fold in range(nFOLDS):\n",
    "    print(f'Fold: {_fold}')\n",
    "    seed_everything(seed=1111+_fold)\n",
    "    torch.cuda.empty_cache()\n",
    "    model = Model().to(device)\n",
    "    \n",
    "    optimizer = torch.optim.Adam(model.parameters(),lr=LR,weight_decay=WEIGHT_DECAY)\n",
    "    \n",
    "    scheduler = torch.optim.lr_scheduler.ReduceLROnPlateau(optimizer,mode='max',patience=3,verbose=True)\n",
    "    \n",
    "    loss_fn = SmoothBCEwLogits(smoothing=0.005)\n",
    "    \n",
    "    model_weights = f'{CACHE_PATH}/online_model_v6_{_fold}.pkl'\n",
    "    es = EarlyStopping(patience=7,mode='max')\n",
    "    \n",
    "    train_set = MarketDataset(train)\n",
    "    val_set = MarketDataset(valid)\n",
    "    \n",
    "    train_loader = DataLoader(train_set,batch_size=BATCH_SIZE,shuffle=False)\n",
    "    valid_loader = DataLoader(val_set,batch_size=BATCH_SIZE,shuffle=False)\n",
    "    \n",
    "    for epoch in (t:=trange(EPOCHS)):\n",
    "        train_loss = train_fn(model,optimizer,loss_fn,train_loader,device)\n",
    "        \n",
    "        valid_loss, valid_preds = inference(model,valid_loader,device,loss_fn)\n",
    "        \n",
    "        roc_score = roc_auc_score(valid[target_cols].values,valid_preds)\n",
    "        valid_preds = np.median(valid_preds,axis=1)\n",
    "        valid_preds = np.where(valid_preds >= 0.5, 1, 0).astype(int)\n",
    "        f1 = f1_score(valid[['action']].values,valid_preds)\n",
    "        scheduler.step(f1)\n",
    "        valid_u_score = utility_score_bincount(date=valid.date.values,weight=valid.weight.values,\n",
    "                                               resp=valid.resp.values,action=valid_preds)\n",
    "        nn.utils.clip_grad_norm_(model.parameters(),5)\n",
    "        \n",
    "        es(f1,model,model_path=model_weights)\n",
    "        if es.early_stop:\n",
    "            print('Early stopping')\n",
    "            break\n",
    "        \n",
    "        t.set_description(\"Train loss {} Valid loss {} ROC_score {} f1_score {} Utility_score {}\".format(train_loss,valid_loss,roc_score,f1,valid_u_score))\n",
    "    "
   ]
  },
  {
   "cell_type": "code",
   "execution_count": 17,
   "metadata": {},
   "outputs": [],
   "source": [
    "test_set = train.query('date > 400').reset_index(drop=True)"
   ]
  },
  {
   "cell_type": "code",
   "execution_count": 18,
   "metadata": {},
   "outputs": [],
   "source": [
    "models = {}\n",
    "metrics = {}\n",
    "y_hat = {}\n",
    "for mFold in range(nFOLDS):\n",
    "    device = torch.device(\"cuda\")\n",
    "    resnet = Model().to(device)\n",
    "    resnet.load_state_dict(torch.load('models/online_model_v6_{}.pkl'.format(mFold)))\n",
    "    resnet.eval()\n",
    "    model_name = f\"M_{mFold}\"\n",
    "    models[model_name] = resnet\n",
    "    \n",
    "    val_set = MarketDataset(test_set)\n",
    "    val_loader = DataLoader(val_set,batch_size=BATCH_SIZE,shuffle=False)\n",
    "    \n",
    "    valid_preds = []\n",
    "    _, valid_preds = inference(resnet,val_loader,device)\n",
    "\n",
    "    \n",
    "    \n",
    "    roc_score = roc_auc_score(test_set[target_cols].values,valid_preds)\n",
    "    valid_preds = np.median(valid_preds,axis=1)\n",
    "    valid_preds = np.where(valid_preds >= 0.503, 1, 0).astype(int)\n",
    "    f1 = f1_score(test_set[['action']].values,valid_preds)\n",
    "    valid_u_score = utility_score_bincount(date=test_set.date.values,weight=test_set.weight.values,\n",
    "                                            resp=test_set.resp.values,action=valid_preds)\n",
    "    y_hat[model_name] = valid_preds\n",
    "    \n",
    "    metrics[model_name] = {\n",
    "        \"f1\":f1,\n",
    "        \"AUC\":roc_score,\n",
    "        \"utility\": valid_u_score\n",
    "    }\n",
    "metrics = pd.DataFrame(metrics).T.astype(float)"
   ]
  },
  {
   "cell_type": "code",
   "execution_count": 19,
   "metadata": {},
   "outputs": [
    {
     "data": {
      "text/plain": [
       "Text(0, 0.5, '')"
      ]
     },
     "execution_count": 19,
     "metadata": {},
     "output_type": "execute_result"
    },
    {
     "data": {
      "image/png": "[encoded data removed]",
      "text/plain": [
       "<Figure size 1080x504 with 2 Axes>"
      ]
     },
     "metadata": {
      "needs_background": "light"
     },
     "output_type": "display_data"
    }
   ],
   "source": [
    "import matplotlib.pyplot as plt\n",
    "import seaborn as sns\n",
    "\n",
    "%matplotlib inline\n",
    "\n",
    "fig, ax = plt.subplots(1,2,figsize=(15,7))\n",
    "sns.barplot(x=metrics.index,y='f1', data=metrics,palette=[\"#1f77b4\",\"#ff7f0e\"],ax=ax[0])\n",
    "sns.barplot(x=metrics.index,y='AUC', data=metrics,palette=[\"#1f77b4\",\"#ff7f0e\"],ax=ax[1])\n",
    "\n",
    "ax[0].set_title(\"F1-Score\",fontsize=15)\n",
    "ax[1].set_title(\"ROC-AUC Score\",fontsize=15)\n",
    "\n",
    "ax[0].set_ylabel(\"\",visible=False)\n",
    "ax[1].set_ylabel(\"\",visible=False)"
   ]
  },
  {
   "cell_type": "code",
   "execution_count": 20,
   "metadata": {},
   "outputs": [],
   "source": [
    "def ensemble_selector(loss_function, y_hats, y_true, init_size=1,\n",
    "                      replacement=True, max_iter=100,binary_proba=True):\n",
    "    \"\"\"Implementation of the algorithm of Caruana et al. (2004) 'Ensemble\n",
    "    Selection from Libraries of Models'. Given a loss function mapping\n",
    "    predicted and ground truth values to a scalar along with a dictionary of\n",
    "    models with predicted and ground truth values, constructs an optimal\n",
    "    ensemble minimizing ensemble loss, by default allowing models to appear\n",
    "    several times in the ensemble.\n",
    "\n",
    "    Parameters\n",
    "    ----------\n",
    "    loss_function: function\n",
    "        accepting two arguments - numpy arrays of predictions and true values - \n",
    "        and returning a scalar\n",
    "    y_hats: dict\n",
    "        with keys being model names and values being numpy arrays of predicted\n",
    "        values\n",
    "    y_true: np.array\n",
    "        numpy array of true values, same for each model\n",
    "    init_size: int\n",
    "        number of models in the initial ensemble, picked by the best loss.\n",
    "        Default is 1\n",
    "    replacement: bool\n",
    "        whether the models should be returned back to the pool of models once\n",
    "        added to the ensemble. Default is True\n",
    "    max_iter: int\n",
    "        number of iterations for selection with replacement to perform. Only\n",
    "        relevant if 'replacement' is True, otherwise iterations continue until\n",
    "        the dataset is exhausted i.e.\n",
    "        min(len(y_hats.keys())-init_size, max_iter). Default is 100\n",
    "\n",
    "    Returns\n",
    "    -------\n",
    "    ensemble_loss: pd.Series\n",
    "        with loss of the ensemble over iterations\n",
    "    model_weights: pd.DataFrame\n",
    "        with model names across columns and ensemble selection iterations\n",
    "        across rows. Each value is the weight of a model in the ensemble\n",
    "\n",
    "    \"\"\"\n",
    "    # Step 1: compute losses\n",
    "    losses = dict()\n",
    "    for model, y_hat in y_hats.items():\n",
    "        if binary_proba:\n",
    "            \n",
    "            valid_pred = np.where(y_hat >= 0.5, 1, 0).astype(int)\n",
    "            losses[model] = loss_function(y_true,valid_pred)\n",
    "        else:\n",
    "            losses[model] = loss_function(y_true,valid_pred)\n",
    "\n",
    "    # Get the initial ensemble comprised of the best models\n",
    "    losses = pd.Series(losses).sort_values()\n",
    "    init_ensemble = losses.iloc[:init_size].index.tolist()\n",
    "\n",
    "    # Compute its loss\n",
    "    if init_size == 1:\n",
    "        # Take the best loss\n",
    "        init_loss = losses.loc[init_ensemble].values[0]\n",
    "        y_hat_avg = y_hats[init_ensemble[0]].copy()\n",
    "    else:\n",
    "        # Average the predictions over several models\n",
    "        y_hat_avg = np.array(\n",
    "            [y_hats[mod] for mod in init_ensemble]).mean(axis=0)\n",
    "        if binary_proba:\n",
    "            valid_pred_avg = np.where(y_hat_avg >= 0.5, 1, 0).astype(int)\n",
    "            init_loss = loss_function(y_true,valid_pred_avg)\n",
    "        else:\n",
    "            init_loss = loss_function(y_true,y_hat_avg)\n",
    "\n",
    "    # Define the set of available models\n",
    "    if replacement:\n",
    "        available_models = list(y_hats.keys())\n",
    "    else:\n",
    "        available_models = losses.index.difference(init_ensemble).tolist()\n",
    "        # Redefine maximum number of iterations\n",
    "        max_iter = min(len(available_models), max_iter)\n",
    "\n",
    "    # Sift through the available models keeping track of the ensemble loss\n",
    "    # Redefine variables for the clarity of exposition\n",
    "    current_loss = init_loss\n",
    "    current_size = init_size\n",
    "\n",
    "    loss_progress = [current_loss]\n",
    "    ensemble_members = [init_ensemble]\n",
    "    for i in range(max_iter):\n",
    "        # Compute weights for predictions\n",
    "        w_current = current_size / (current_size + 1)\n",
    "        w_new = 1 / (current_size + 1)\n",
    "\n",
    "        # Try all models one by one\n",
    "        tmp_losses = dict()\n",
    "        tmp_y_avg = dict()\n",
    "        for mod in available_models:\n",
    "            if binary_proba:\n",
    "                \n",
    "                tmp_y_avg[mod] = w_current * y_hat_avg + w_new * y_hats[mod]\n",
    "                valid_tmp_avg = np.where(tmp_y_avg[mod] >= 0.5, 1, 0).astype(int)\n",
    "                tmp_losses[mod] = loss_function(y_true,valid_tmp_avg)\n",
    "            else:\n",
    "                tmp_y_avg[mod] = w_current * y_hat_avg + w_new * y_hats[mod]\n",
    "                tmp_losses[mod] = loss_function(y_true,tmp_y_avg[mod])\n",
    "\n",
    "        # Locate the best trial\n",
    "        best_model = pd.Series(tmp_losses).sort_values().index[0]\n",
    "\n",
    "        # Update the loop variables and record progress\n",
    "        current_loss = tmp_losses[best_model]\n",
    "        loss_progress.append(current_loss)\n",
    "        y_hat_avg = tmp_y_avg[best_model]\n",
    "        current_size += 1\n",
    "        ensemble_members.append(ensemble_members[-1] + [best_model])\n",
    "\n",
    "        if not replacement:\n",
    "            available_models.remove(best_model)\n",
    "\n",
    "    # Organize the output\n",
    "    ensemble_loss = pd.Series(loss_progress, name=\"loss\")\n",
    "    model_weights = pd.DataFrame(index=ensemble_loss.index,\n",
    "                                 columns=y_hats.keys())\n",
    "    for ix, row in model_weights.iterrows():\n",
    "        weights = pd.Series(ensemble_members[ix]).value_counts()\n",
    "        weights = weights / weights.sum()\n",
    "        model_weights.loc[ix, weights.index] = weights\n",
    "\n",
    "    return ensemble_loss, model_weights.fillna(0).astype(float)"
   ]
  },
  {
   "cell_type": "code",
   "execution_count": 21,
   "metadata": {},
   "outputs": [],
   "source": [
    "ensemble_loss, model_weights = ensemble_selector(\n",
    "    loss_function=lambda p,t:-f1_score(p,t), y_hats=y_hat,\n",
    "    y_true=test_set[['action']].values,init_size=1,replacement=True,max_iter=10\n",
    ")\n",
    "# ensemble_AUC, model_weights_AUC = ensemble_selector(\n",
    "#     loss_function=lambda p,t:-roc_auc_score(p,t), y_hats=y_hat,\n",
    "#     y_true=test_set[['action']].values,init_size=1,replacement=True,max_iter=10\n",
    "# )"
   ]
  },
  {
   "cell_type": "code",
   "execution_count": 22,
   "metadata": {},
   "outputs": [],
   "source": [
    "y_val_avg = np.array([_y for m, _y in y_hat.items()]).mean(axis=0)\n",
    "y_val_avg = np.where(y_val_avg >= 0.5, 1, 0).astype(int)\n",
    "ens_loss_val_avg = f1_score(y_val_avg,test_set[['action']].values)\n",
    "ens_utility_avg =  utility_score_bincount(date=test_set.date.values,weight=test_set.weight.values,\n",
    "                                        resp=test_set.resp.values,action=y_val_avg)"
   ]
  },
  {
   "cell_type": "code",
   "execution_count": 23,
   "metadata": {},
   "outputs": [
    {
     "name": "stdout",
     "output_type": "stream",
     "text": [
      "0     0.556781\n",
      "1     0.569546\n",
      "2     0.557267\n",
      "3     0.564495\n",
      "4     0.557267\n",
      "5     0.564495\n",
      "6     0.557267\n",
      "7     0.564495\n",
      "8     0.557267\n",
      "9     0.564495\n",
      "10    0.557267\n",
      "Name: loss, dtype: float64\n"
     ]
    }
   ],
   "source": [
    "print(-ensemble_loss)"
   ]
  },
  {
   "cell_type": "code",
   "execution_count": 45,
   "metadata": {},
   "outputs": [
    {
     "name": "stdout",
     "output_type": "stream",
     "text": [
      "0     0.522155\n",
      "1     0.522155\n",
      "2     0.522155\n",
      "3     0.522155\n",
      "4     0.522155\n",
      "5     0.522155\n",
      "6     0.522155\n",
      "7     0.522155\n",
      "8     0.522155\n",
      "9     0.522155\n",
      "10    0.522155\n",
      "Name: loss, dtype: float64\n"
     ]
    }
   ],
   "source": [
    "print(-ensemble_AUC)"
   ]
  },
  {
   "cell_type": "code",
   "execution_count": 24,
   "metadata": {},
   "outputs": [
    {
     "data": {
      "text/html": [
       "<div>\n",
       "<style scoped>\n",
       "    .dataframe tbody tr th:only-of-type {\n",
       "        vertical-align: middle;\n",
       "    }\n",
       "\n",
       "    .dataframe tbody tr th {\n",
       "        vertical-align: top;\n",
       "    }\n",
       "\n",
       "    .dataframe thead th {\n",
       "        text-align: right;\n",
       "    }\n",
       "</style>\n",
       "<table border=\"1\" class=\"dataframe\">\n",
       "  <thead>\n",
       "    <tr style=\"text-align: right;\">\n",
       "      <th></th>\n",
       "      <th>M_0</th>\n",
       "      <th>M_1</th>\n",
       "      <th>M_2</th>\n",
       "      <th>M_3</th>\n",
       "      <th>M_4</th>\n",
       "    </tr>\n",
       "  </thead>\n",
       "  <tbody>\n",
       "    <tr>\n",
       "      <th>0</th>\n",
       "      <td>0.000000</td>\n",
       "      <td>0.0</td>\n",
       "      <td>0.0</td>\n",
       "      <td>1.000000</td>\n",
       "      <td>0.000000</td>\n",
       "    </tr>\n",
       "    <tr>\n",
       "      <th>1</th>\n",
       "      <td>0.500000</td>\n",
       "      <td>0.0</td>\n",
       "      <td>0.0</td>\n",
       "      <td>0.500000</td>\n",
       "      <td>0.000000</td>\n",
       "    </tr>\n",
       "    <tr>\n",
       "      <th>2</th>\n",
       "      <td>0.333333</td>\n",
       "      <td>0.0</td>\n",
       "      <td>0.0</td>\n",
       "      <td>0.333333</td>\n",
       "      <td>0.333333</td>\n",
       "    </tr>\n",
       "    <tr>\n",
       "      <th>3</th>\n",
       "      <td>0.250000</td>\n",
       "      <td>0.0</td>\n",
       "      <td>0.0</td>\n",
       "      <td>0.500000</td>\n",
       "      <td>0.250000</td>\n",
       "    </tr>\n",
       "    <tr>\n",
       "      <th>4</th>\n",
       "      <td>0.400000</td>\n",
       "      <td>0.0</td>\n",
       "      <td>0.0</td>\n",
       "      <td>0.400000</td>\n",
       "      <td>0.200000</td>\n",
       "    </tr>\n",
       "    <tr>\n",
       "      <th>5</th>\n",
       "      <td>0.333333</td>\n",
       "      <td>0.0</td>\n",
       "      <td>0.0</td>\n",
       "      <td>0.500000</td>\n",
       "      <td>0.166667</td>\n",
       "    </tr>\n",
       "    <tr>\n",
       "      <th>6</th>\n",
       "      <td>0.428571</td>\n",
       "      <td>0.0</td>\n",
       "      <td>0.0</td>\n",
       "      <td>0.428571</td>\n",
       "      <td>0.142857</td>\n",
       "    </tr>\n",
       "    <tr>\n",
       "      <th>7</th>\n",
       "      <td>0.375000</td>\n",
       "      <td>0.0</td>\n",
       "      <td>0.0</td>\n",
       "      <td>0.500000</td>\n",
       "      <td>0.125000</td>\n",
       "    </tr>\n",
       "    <tr>\n",
       "      <th>8</th>\n",
       "      <td>0.444444</td>\n",
       "      <td>0.0</td>\n",
       "      <td>0.0</td>\n",
       "      <td>0.444444</td>\n",
       "      <td>0.111111</td>\n",
       "    </tr>\n",
       "    <tr>\n",
       "      <th>9</th>\n",
       "      <td>0.400000</td>\n",
       "      <td>0.0</td>\n",
       "      <td>0.0</td>\n",
       "      <td>0.500000</td>\n",
       "      <td>0.100000</td>\n",
       "    </tr>\n",
       "    <tr>\n",
       "      <th>10</th>\n",
       "      <td>0.454545</td>\n",
       "      <td>0.0</td>\n",
       "      <td>0.0</td>\n",
       "      <td>0.454545</td>\n",
       "      <td>0.090909</td>\n",
       "    </tr>\n",
       "  </tbody>\n",
       "</table>\n",
       "</div>"
      ],
      "text/plain": [
       "         M_0  M_1  M_2       M_3       M_4\n",
       "0   0.000000  0.0  0.0  1.000000  0.000000\n",
       "1   0.500000  0.0  0.0  0.500000  0.000000\n",
       "2   0.333333  0.0  0.0  0.333333  0.333333\n",
       "3   0.250000  0.0  0.0  0.500000  0.250000\n",
       "4   0.400000  0.0  0.0  0.400000  0.200000\n",
       "5   0.333333  0.0  0.0  0.500000  0.166667\n",
       "6   0.428571  0.0  0.0  0.428571  0.142857\n",
       "7   0.375000  0.0  0.0  0.500000  0.125000\n",
       "8   0.444444  0.0  0.0  0.444444  0.111111\n",
       "9   0.400000  0.0  0.0  0.500000  0.100000\n",
       "10  0.454545  0.0  0.0  0.454545  0.090909"
      ]
     },
     "execution_count": 24,
     "metadata": {},
     "output_type": "execute_result"
    }
   ],
   "source": [
    "model_weights"
   ]
  },
  {
   "cell_type": "code",
   "execution_count": 25,
   "metadata": {},
   "outputs": [],
   "source": [
    "ensemble_f1_test = []\n",
    "U_score = []\n",
    "for _, row in model_weights.iterrows():\n",
    "    tmp_y_hat = np.array(\n",
    "        [y_hat[model_name]*weight for model_name, weight in row.items()]\n",
    "        ).sum(axis=0)\n",
    "    tmp_y_hat = np.where(tmp_y_hat>=0.5, 1, 0).astype(int)\n",
    "    ensemble_f1_test.append(f1_score(tmp_y_hat, test_set[['action']].values))\n",
    "    U_score.append(utility_score_bincount(date=test_set.date.values,weight=test_set.weight.values,\n",
    "                                        resp=test_set.resp.values,action=tmp_y_hat))\n",
    "ensemble_f1_test = pd.Series(ensemble_f1_test)\n",
    "U_score = pd.Series(U_score)"
   ]
  },
  {
   "cell_type": "code",
   "execution_count": 26,
   "metadata": {},
   "outputs": [
    {
     "data": {
      "image/png": "[encoded data removed]",
      "text/plain": [
       "<Figure size 1080x504 with 1 Axes>"
      ]
     },
     "metadata": {
      "needs_background": "light"
     },
     "output_type": "display_data"
    }
   ],
   "source": [
    "fig, ax = plt.subplots(figsize=(15,7))\n",
    "\n",
    "ax.plot(ensemble_f1_test,color=\"#1f77b4\",lw=2.75,label='ensemble f1-score')\n",
    "ax.plot(pd.Series(ensemble_f1_test[0],ensemble_f1_test.index),color='k',lw=1.75,ls='--',dashes=(5,5),label='baseline 1: best model')\n",
    "ax.plot(pd.Series(ens_loss_val_avg,ensemble_loss.index),color='r',lw=1.75,ls='--',dashes=(5,5),label='baseline 2: avg of all models')\n",
    "\n",
    "ax.margins(x=0.0)\n",
    "ax.set_xlabel('Optimization Step',visible=True)\n",
    "ax.legend(loc=\"upper right\", bbox_to_anchor=(1, 0.72),\n",
    "                 frameon=True, edgecolor=\"k\", fancybox=False,\n",
    "                 framealpha=0.7, shadow=False, ncol=1, fontsize=15)\n",
    "fig.tight_layout()"
   ]
  },
  {
   "cell_type": "code",
   "execution_count": 27,
   "metadata": {},
   "outputs": [
    {
     "data": {
      "image/png": "[encoded data removed]",
      "text/plain": [
       "<Figure size 1080x504 with 1 Axes>"
      ]
     },
     "metadata": {
      "needs_background": "light"
     },
     "output_type": "display_data"
    }
   ],
   "source": [
    "fig, ax = plt.subplots(figsize=(15,7))\n",
    "\n",
    "ax.plot(U_score,color=\"#1f77b4\",lw=2.75,label='Utility Score')\n",
    "ax.plot(pd.Series(U_score[0],U_score.index),color='k',lw=1.75,ls='--',dashes=(5,5),label='baseline 1: best model')\n",
    "ax.plot(pd.Series(ens_utility_avg,ensemble_loss.index),color='r',lw=1.75,ls='--',dashes=(5,5),label='baseline 2: avg of all models')\n",
    "\n",
    "ax.margins(x=0.0)\n",
    "ax.set_xlabel('Optimization Step',visible=True)\n",
    "ax.legend(loc=\"upper right\", bbox_to_anchor=(1, 0.72),\n",
    "                 frameon=True, edgecolor=\"k\", fancybox=False,\n",
    "                 framealpha=0.7, shadow=False, ncol=1, fontsize=15)\n",
    "fig.tight_layout()"
   ]
  },
  {
   "cell_type": "code",
   "execution_count": 28,
   "metadata": {},
   "outputs": [
    {
     "data": {
      "image/png": "[encoded data removed]",
      "text/plain": [
       "<Figure size 1080x504 with 1 Axes>"
      ]
     },
     "metadata": {
      "needs_background": "light"
     },
     "output_type": "display_data"
    }
   ],
   "source": [
    "\n",
    "# Locate non-zero weights and sort models by their average weight\n",
    "weights_to_plot = model_weights.loc[:, (model_weights != 0).any()]\n",
    "weights_to_plot = weights_to_plot[\n",
    "    weights_to_plot.mean().sort_values(ascending=False).index]\n",
    "\n",
    "# A palette corresponding to the number of models with non-zero weights\n",
    "palette = sns.cubehelix_palette(weights_to_plot.shape[1], reverse=True)\n",
    "\n",
    "# Plot\n",
    "fig, ax = plt.subplots(1, 1, figsize=(15, 7))\n",
    "weights_to_plot.plot(kind=\"bar\", stacked=True, color=palette, ax=ax,\n",
    "                     alpha=0.85)\n",
    "\n",
    "ax.margins(x=0.0)\n",
    "ax.set_xlabel(\"Optimization Step\", fontsize=15, visible=True)\n",
    "ax.set_ylabel(\"Ensemble Weight\", fontsize=15, visible=True)\n",
    "ax.yaxis.set_tick_params(rotation=0, labelsize=15)\n",
    "ax.xaxis.set_tick_params(rotation=0, labelsize=15)\n",
    "ax.legend(loc=\"best\", bbox_to_anchor=(1, 0.92),\n",
    "          frameon=True, edgecolor=\"k\", fancybox=False,\n",
    "          framealpha=0.7, shadow=False, ncol=1, fontsize=15)\n",
    "fig.tight_layout()"
   ]
  },
  {
   "cell_type": "code",
   "execution_count": null,
   "metadata": {},
   "outputs": [],
   "source": []
  }
 ],
 "metadata": {
  "kernelspec": {
   "display_name": "Python [conda env:py38]",
   "language": "python",
   "name": "conda-env-py38-py"
  },
  "language_info": {
   "codemirror_mode": {
    "name": "ipython",
    "version": 3
   },
   "file_extension": ".py",
   "mimetype": "text/x-python",
   "name": "python",
   "nbconvert_exporter": "python",
   "pygments_lexer": "ipython3",
   "version": "3.8.6"
  }
 },
 "nbformat": 4,
 "nbformat_minor": 4
}
