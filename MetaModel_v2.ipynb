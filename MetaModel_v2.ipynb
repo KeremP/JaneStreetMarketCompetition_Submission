{
 "cells": [
  {
   "cell_type": "code",
   "execution_count": 2,
   "metadata": {},
   "outputs": [],
   "source": [
    "import os\n",
    "import time\n",
    "import pickle\n",
    "import random\n",
    "import numpy as np\n",
    "import pandas as pd\n",
    "from tqdm import tqdm, trange\n",
    "from sklearn.metrics import log_loss, roc_auc_score, f1_score, accuracy_score\n",
    "import sklearn.metrics as sk_metrics\n",
    "from mlfinlab.clustering.feature_clusters import get_feature_clusters\n",
    "\n",
    "from scipy.cluster.hierarchy import linkage, fcluster\n",
    "from scipy.spatial.distance import squareform\n",
    "\n",
    "import torch\n",
    "import torch.nn as nn\n",
    "from torch.autograd import Variable\n",
    "from torch.utils.data import DataLoader\n",
    "from torch.nn import CrossEntropyLoss, MSELoss\n",
    "from torch.nn.modules.loss import _WeightedLoss\n",
    "import torch.nn.functional as F\n",
    "\n",
    "import xgboost as xgb\n",
    "\n",
    "import matplotlib.pyplot as plt\n",
    "\n",
    "%matplotlib inline"
   ]
  },
  {
   "cell_type": "code",
   "execution_count": 3,
   "metadata": {},
   "outputs": [],
   "source": [
    "DATA_PATH = 'input/'"
   ]
  },
  {
   "cell_type": "code",
   "execution_count": 4,
   "metadata": {},
   "outputs": [],
   "source": [
    "BATCH_SIZE = 8192\n",
    "EPOCHS = 200\n",
    "LR = 1e-3\n",
    "WEIGHT_DECAY = 1e-5\n",
    "EARLYSTOP_NUM = 3\n",
    "nFOLDS = 5\n",
    "device = torch.device('cuda')"
   ]
  },
  {
   "cell_type": "code",
   "execution_count": 5,
   "metadata": {},
   "outputs": [
    {
     "name": "stdout",
     "output_type": "stream",
     "text": [
      "Reading input data...\n",
      "Optimizing memory usage...\n",
      "Complete\n"
     ]
    }
   ],
   "source": [
    "TRAIN = False\n",
    "CACHE_PATH ='models/'\n",
    "print('Reading input data...')\n",
    "train = pd.read_csv(f'{DATA_PATH}train.csv')\n",
    "train = train.query('date > 85').reset_index(drop=True)\n",
    "print('Optimizing memory usage...')\n",
    "train = train.astype({c: np.float32 for c in train.select_dtypes(include='float64').columns})\n",
    "print('Complete')\n",
    "features = [c for c in train.columns if 'feature' in c]\n",
    "f_mean = train[features[1:]].mean()\n",
    "train[features] = train[features].fillna(method='ffill').fillna(0)\n",
    "train = train.query('weight > 0').reset_index(drop=True)\n",
    "train['action'] = (train['resp'] > 0).astype('int') #BCE Target\n",
    "train['action_1'] = (train['resp_1'] > 0).astype('int')\n",
    "train['action_2'] = (train['resp_2'] > 0).astype('int')\n",
    "train['action_3'] = (train['resp_3'] > 0).astype('int')\n",
    "train['action_4'] = (train['resp_4'] > 0).astype('int')"
   ]
  },
  {
   "cell_type": "code",
   "execution_count": 6,
   "metadata": {},
   "outputs": [],
   "source": [
    "target_cols = [target for target in train.columns if 'action' in target]\n",
    "feat_cols= [col for col in features]\n",
    "    \n",
    "train['cross_41_42_43'] = train['feature_41'] + train['feature_42'] + train['feature_43']\n",
    "    \n",
    "train['cross_1_2'] = train['feature_1'] / (train['feature_2'] + 1e-5)\n",
    "   \n",
    "feat_cols.extend(['cross_41_42_43','cross_1_2'])"
   ]
  },
  {
   "cell_type": "code",
   "execution_count": 7,
   "metadata": {},
   "outputs": [],
   "source": [
    "def seed_everything(seed=42):\n",
    "    random.seed(seed)\n",
    "    os.environ['PYTHONHASHSEED'] = str(seed)\n",
    "    np.random.seed(seed)\n",
    "    torch.manual_seed(seed)\n",
    "    torch.cuda.manual_seed(seed)\n",
    "    torch.backends.cudnn.deterministic = True\n",
    "seed_everything(seed=1111)"
   ]
  },
  {
   "cell_type": "code",
   "execution_count": 8,
   "metadata": {},
   "outputs": [],
   "source": [
    "#Resnet\n",
    "class Model(nn.Module):\n",
    "    def __init__(self):\n",
    "        super(Model, self).__init__()\n",
    "        self.batch_norm0 = nn.BatchNorm1d(len(feat_cols))\n",
    "        self.dropout0 = nn.Dropout(0.2)\n",
    "\n",
    "        dropout_rate = 0.2\n",
    "        hidden_size = 256\n",
    "        self.dense1 = nn.Linear(len(feat_cols), hidden_size)\n",
    "        nn.init.kaiming_normal_(self.dense1.weight,mode='fan_out')\n",
    "        self.batch_norm1 = nn.BatchNorm1d(hidden_size)\n",
    "        self.dropout1 = nn.Dropout(dropout_rate)\n",
    "\n",
    "        self.dense2 = nn.Linear(hidden_size+len(feat_cols), hidden_size)\n",
    "        nn.init.kaiming_normal_(self.dense2.weight,mode='fan_out')\n",
    "        self.batch_norm2 = nn.BatchNorm1d(hidden_size)\n",
    "        self.dropout2 = nn.Dropout(dropout_rate)\n",
    "\n",
    "        self.dense3 = nn.Linear(hidden_size+hidden_size, hidden_size)\n",
    "        nn.init.kaiming_normal_(self.dense3.weight,mode='fan_out')\n",
    "        self.batch_norm3 = nn.BatchNorm1d(hidden_size)\n",
    "        self.dropout3 = nn.Dropout(dropout_rate)\n",
    "\n",
    "        self.dense4 = nn.Linear(hidden_size+hidden_size, hidden_size)\n",
    "        nn.init.kaiming_normal_(self.dense4.weight,mode='fan_out')\n",
    "        self.batch_norm4 = nn.BatchNorm1d(hidden_size)\n",
    "        self.dropout4 = nn.Dropout(dropout_rate)\n",
    "\n",
    "        self.dense5 = nn.Linear(hidden_size+hidden_size, len(target_cols))\n",
    "        nn.init.kaiming_normal_(self.dense5.weight,mode='fan_out')\n",
    "\n",
    "        self.Relu = nn.ReLU(inplace=True)\n",
    "        self.PReLU = nn.PReLU()\n",
    "        self.LeakyReLU = nn.LeakyReLU(negative_slope=0.01, inplace=True)\n",
    "        # self.GeLU = nn.GELU()\n",
    "        self.RReLU = nn.RReLU()\n",
    "\n",
    "    def forward(self, x):\n",
    "        x = self.batch_norm0(x)\n",
    "        x = self.dropout0(x)\n",
    "\n",
    "        x1 = self.dense1(x)\n",
    "        x1 = self.batch_norm1(x1)\n",
    "        # x = F.relu(x)\n",
    "        # x = self.PReLU(x)\n",
    "        x1 = self.LeakyReLU(x1)\n",
    "        x1 = self.dropout1(x1)\n",
    "\n",
    "        x = torch.cat([x, x1], 1)\n",
    "\n",
    "        x2 = self.dense2(x)\n",
    "        x2 = self.batch_norm2(x2)\n",
    "        # x = F.relu(x)\n",
    "        # x = self.PReLU(x)\n",
    "        x2 = self.LeakyReLU(x2)\n",
    "        x2 = self.dropout2(x2)\n",
    "\n",
    "        x = torch.cat([x1, x2], 1)\n",
    "\n",
    "        x3 = self.dense3(x)\n",
    "        x3 = self.batch_norm3(x3)\n",
    "        # x = F.relu(x)\n",
    "        # x = self.PReLU(x)\n",
    "        x3 = self.LeakyReLU(x3)\n",
    "        x3 = self.dropout3(x3)\n",
    "\n",
    "        x = torch.cat([x2, x3], 1)\n",
    "\n",
    "        x4 = self.dense4(x)\n",
    "        x4 = self.batch_norm4(x4)\n",
    "        # x = F.relu(x)\n",
    "        # x = self.PReLU(x)\n",
    "        x4 = self.LeakyReLU(x4)\n",
    "        x4 = self.dropout4(x4)\n",
    "\n",
    "        x = torch.cat([x3, x4], 1)\n",
    "\n",
    "        x = self.dense5(x)\n",
    "\n",
    "        return x"
   ]
  },
  {
   "cell_type": "code",
   "execution_count": 9,
   "metadata": {},
   "outputs": [],
   "source": [
    "class MarketDataset:\n",
    "    def __init__(self, df):\n",
    "        self.features = df[feat_cols].values\n",
    "\n",
    "        self.label = df[target_cols].values.reshape(-1, len(target_cols))\n",
    "\n",
    "    def __len__(self):\n",
    "        return len(self.label)\n",
    "\n",
    "    def __getitem__(self, idx):\n",
    "        return {\n",
    "            'features': torch.tensor(self.features[idx], dtype=torch.float),\n",
    "            'label': torch.tensor(self.label[idx], dtype=torch.float)\n",
    "        }"
   ]
  },
  {
   "cell_type": "code",
   "execution_count": 10,
   "metadata": {},
   "outputs": [],
   "source": [
    "test_set = train.query('date>400')"
   ]
  },
  {
   "cell_type": "code",
   "execution_count": 11,
   "metadata": {},
   "outputs": [],
   "source": [
    "test_loader = DataLoader(MarketDataset(test_set),batch_size=BATCH_SIZE,shuffle=False)"
   ]
  },
  {
   "cell_type": "code",
   "execution_count": 12,
   "metadata": {},
   "outputs": [],
   "source": [
    "model_list = []\n",
    "for model in range(nFOLDS):\n",
    "    resnet = Model().to(device)\n",
    "    resnet_weights = f'{CACHE_PATH}model_v7_{model}.pkl'\n",
    "    resnet.load_state_dict(torch.load(resnet_weights))\n",
    "    resnet.eval()\n",
    "    model_list.append(resnet)"
   ]
  },
  {
   "cell_type": "code",
   "execution_count": 13,
   "metadata": {},
   "outputs": [],
   "source": [
    "def inference(model, dataloader, device):\n",
    "    model.eval()\n",
    "    preds = []\n",
    "    val_loss = 0\n",
    "    for data in tqdm(dataloader):\n",
    "        X,y = data['features'].to(device),data['label'].to(device)\n",
    "        with torch.no_grad():\n",
    "            outputs = model(X)\n",
    "        \n",
    "        preds.append(outputs.sigmoid().detach().cpu().numpy())\n",
    "        \n",
    "        \n",
    "        \n",
    "    preds = np.concatenate(preds).reshape(-1,len(target_cols))\n",
    "    \n",
    "    \n",
    "    return preds"
   ]
  },
  {
   "cell_type": "code",
   "execution_count": 14,
   "metadata": {},
   "outputs": [
    {
     "name": "stderr",
     "output_type": "stream",
     "text": [
      "100%|██████████| 53/53 [00:10<00:00,  4.94it/s]\n",
      "100%|██████████| 53/53 [00:10<00:00,  4.96it/s]\n",
      "100%|██████████| 53/53 [00:10<00:00,  5.04it/s]\n",
      "100%|██████████| 53/53 [00:10<00:00,  5.14it/s]\n",
      "100%|██████████| 53/53 [00:10<00:00,  5.07it/s]\n"
     ]
    }
   ],
   "source": [
    "preds = np.zeros((len(test_set),len(target_cols)))\n",
    "for model in model_list:\n",
    "    preds += inference(model,test_loader,device)/len(model_list)\n",
    "    "
   ]
  },
  {
   "cell_type": "code",
   "execution_count": 15,
   "metadata": {},
   "outputs": [],
   "source": [
    "preds = np.median(preds,axis=1)"
   ]
  },
  {
   "cell_type": "code",
   "execution_count": 16,
   "metadata": {},
   "outputs": [
    {
     "data": {
      "text/plain": [
       "array([0.53755017, 0.53074092, 0.50976699, ..., 0.47874612, 0.53868132,\n",
       "       0.44762865])"
      ]
     },
     "execution_count": 16,
     "metadata": {},
     "output_type": "execute_result"
    }
   ],
   "source": [
    "preds"
   ]
  },
  {
   "cell_type": "code",
   "execution_count": 17,
   "metadata": {},
   "outputs": [],
   "source": [
    "actual = test_set['action'].values"
   ]
  },
  {
   "cell_type": "code",
   "execution_count": 18,
   "metadata": {},
   "outputs": [],
   "source": [
    "def plot_roc(actual, prediction):\n",
    "    # Calculate ROC / AUC\n",
    "    fpr, tpr, thresholds = sk_metrics.roc_curve(actual, prediction, pos_label=1)\n",
    "    roc_auc = sk_metrics.auc(fpr, tpr)\n",
    "\n",
    "    # Plot\n",
    "    plt.plot(fpr, tpr, color='darkorange',\n",
    "             lw=2, label='ROC curve (area = %0.2f)' % roc_auc)\n",
    "    plt.plot([0, 1], [0, 1], color='navy', lw=2, linestyle='--')\n",
    "    plt.xlim([0.0, 1.0])\n",
    "    plt.ylim([0.0, 1.05])\n",
    "    plt.xlabel('False Positive Rate')\n",
    "    plt.ylabel('True Positive Rate')\n",
    "    plt.title('Receiver Operating Characteristic Example')\n",
    "    plt.legend(loc=\"lower right\")\n",
    "    plt.show()"
   ]
  },
  {
   "cell_type": "code",
   "execution_count": 19,
   "metadata": {},
   "outputs": [
    {
     "data": {
      "image/png": "[encoded data removed]",
      "text/plain": [
       "<Figure size 432x288 with 1 Axes>"
      ]
     },
     "metadata": {
      "needs_background": "light"
     },
     "output_type": "display_data"
    }
   ],
   "source": [
    "plot_roc(actual,preds)"
   ]
  },
  {
   "cell_type": "code",
   "execution_count": 20,
   "metadata": {},
   "outputs": [],
   "source": [
    "thresh = 0.5\n",
    "prediction_int = np.where(preds>=thresh,1,0)"
   ]
  },
  {
   "cell_type": "code",
   "execution_count": 21,
   "metadata": {},
   "outputs": [],
   "source": [
    "#from keras.utils import to_categorical\n",
    "meta_labels = prediction_int & actual"
   ]
  },
  {
   "cell_type": "code",
   "execution_count": 22,
   "metadata": {},
   "outputs": [],
   "source": [
    "prediction_int = prediction_int.reshape((-1,1))\n",
    "new_features = np.concatenate((prediction_int,test_set[feat_cols].values),axis=1)"
   ]
  },
  {
   "cell_type": "code",
   "execution_count": 23,
   "metadata": {},
   "outputs": [
    {
     "data": {
      "text/plain": [
       "(433544, 133)"
      ]
     },
     "execution_count": 23,
     "metadata": {},
     "output_type": "execute_result"
    }
   ],
   "source": [
    "new_features.shape"
   ]
  },
  {
   "cell_type": "code",
   "execution_count": 60,
   "metadata": {},
   "outputs": [],
   "source": [
    "def _F1_eval(preds, labels):\n",
    "    t = np.arange(0, 1, 0.005)\n",
    "    f = np.repeat(0, 200)\n",
    "    results = np.vstack([t, f]).T\n",
    "    # assuming labels only containing 0's and 1's\n",
    "    n_pos_examples = sum(labels)\n",
    "    if n_pos_examples == 0:\n",
    "        raise ValueError(\"labels not containing positive examples\")\n",
    "\n",
    "    for i in range(200):\n",
    "        pred_indexes = (preds >= results[i, 0])\n",
    "        TP = sum(labels[pred_indexes])\n",
    "        FP = len(labels[pred_indexes]) - TP\n",
    "        precision = 0\n",
    "        recall = TP / n_pos_examples\n",
    "\n",
    "        if (FP + TP) > 0:\n",
    "            precision = TP / (FP + TP)\n",
    "\n",
    "        if (precision + recall > 0):\n",
    "            F1 = 2 * precision * recall / (precision + recall)\n",
    "        else:\n",
    "            F1 = 0\n",
    "        results[i, 1] = F1\n",
    "    return (max(results[:, 1]))"
   ]
  },
  {
   "cell_type": "code",
   "execution_count": 58,
   "metadata": {},
   "outputs": [],
   "source": [
    "#XGBoost eval callback\n",
    "def F1_eval(preds, dtrain):\n",
    "    res = _F1_eval(preds, dtrain.get_label())\n",
    "    return 'f1_err', 1-res"
   ]
  },
  {
   "cell_type": "code",
   "execution_count": 62,
   "metadata": {},
   "outputs": [],
   "source": [
    "param_dist = {\n",
    "    'objective':'binary:logistic',\n",
    "    'n_estimators':300,\n",
    "    'tree_method':'gpu_hist',\n",
    "    'colsample_bytree':.1162\n",
    "}\n",
    "\n",
    "clf = xgb.XGBClassifier(**param_dist)\n"
   ]
  },
  {
   "cell_type": "code",
   "execution_count": 63,
   "metadata": {
    "collapsed": true,
    "jupyter": {
     "outputs_hidden": true
    }
   },
   "outputs": [
    {
     "name": "stdout",
     "output_type": "stream",
     "text": [
      "[0]\tvalidation_0-error:0.29316\tvalidation_0-f1_err:0.96081\n",
      "[1]\tvalidation_0-error:0.29288\tvalidation_0-f1_err:0.96908\n",
      "[2]\tvalidation_0-error:0.29211\tvalidation_0-f1_err:0.96174\n",
      "[3]\tvalidation_0-error:0.29134\tvalidation_0-f1_err:0.95430\n",
      "[4]\tvalidation_0-error:0.29124\tvalidation_0-f1_err:0.94981\n",
      "[5]\tvalidation_0-error:0.29041\tvalidation_0-f1_err:0.93106\n",
      "[6]\tvalidation_0-error:0.28944\tvalidation_0-f1_err:0.91575\n",
      "[7]\tvalidation_0-error:0.28858\tvalidation_0-f1_err:0.89749\n",
      "[8]\tvalidation_0-error:0.28838\tvalidation_0-f1_err:0.89078\n",
      "[9]\tvalidation_0-error:0.28779\tvalidation_0-f1_err:0.88091\n",
      "[10]\tvalidation_0-error:0.28166\tvalidation_0-f1_err:0.75181\n",
      "[11]\tvalidation_0-error:0.28067\tvalidation_0-f1_err:0.74688\n",
      "[12]\tvalidation_0-error:0.28021\tvalidation_0-f1_err:0.73893\n",
      "[13]\tvalidation_0-error:0.27905\tvalidation_0-f1_err:0.72858\n",
      "[14]\tvalidation_0-error:0.27843\tvalidation_0-f1_err:0.71669\n",
      "[15]\tvalidation_0-error:0.27749\tvalidation_0-f1_err:0.70931\n",
      "[16]\tvalidation_0-error:0.27692\tvalidation_0-f1_err:0.70295\n",
      "[17]\tvalidation_0-error:0.27573\tvalidation_0-f1_err:0.69305\n",
      "[18]\tvalidation_0-error:0.27518\tvalidation_0-f1_err:0.68493\n",
      "[19]\tvalidation_0-error:0.27475\tvalidation_0-f1_err:0.67827\n",
      "[20]\tvalidation_0-error:0.27382\tvalidation_0-f1_err:0.67066\n",
      "[21]\tvalidation_0-error:0.27319\tvalidation_0-f1_err:0.66499\n",
      "[22]\tvalidation_0-error:0.26779\tvalidation_0-f1_err:0.58099\n",
      "[23]\tvalidation_0-error:0.26481\tvalidation_0-f1_err:0.52825\n",
      "[24]\tvalidation_0-error:0.26451\tvalidation_0-f1_err:0.53148\n",
      "[25]\tvalidation_0-error:0.26382\tvalidation_0-f1_err:0.53280\n",
      "[26]\tvalidation_0-error:0.26316\tvalidation_0-f1_err:0.53310\n",
      "[27]\tvalidation_0-error:0.26247\tvalidation_0-f1_err:0.53281\n",
      "[28]\tvalidation_0-error:0.26198\tvalidation_0-f1_err:0.53226\n",
      "[29]\tvalidation_0-error:0.26129\tvalidation_0-f1_err:0.53098\n",
      "[30]\tvalidation_0-error:0.26086\tvalidation_0-f1_err:0.53092\n",
      "[31]\tvalidation_0-error:0.26026\tvalidation_0-f1_err:0.52960\n",
      "[32]\tvalidation_0-error:0.25972\tvalidation_0-f1_err:0.52837\n",
      "[33]\tvalidation_0-error:0.25944\tvalidation_0-f1_err:0.52699\n",
      "[34]\tvalidation_0-error:0.25903\tvalidation_0-f1_err:0.52599\n",
      "[35]\tvalidation_0-error:0.25839\tvalidation_0-f1_err:0.52466\n",
      "[36]\tvalidation_0-error:0.25809\tvalidation_0-f1_err:0.52393\n",
      "[37]\tvalidation_0-error:0.25567\tvalidation_0-f1_err:0.48551\n",
      "[38]\tvalidation_0-error:0.25482\tvalidation_0-f1_err:0.48540\n",
      "[39]\tvalidation_0-error:0.25415\tvalidation_0-f1_err:0.48546\n",
      "[40]\tvalidation_0-error:0.25320\tvalidation_0-f1_err:0.48415\n",
      "[41]\tvalidation_0-error:0.25197\tvalidation_0-f1_err:0.48206\n",
      "[42]\tvalidation_0-error:0.25106\tvalidation_0-f1_err:0.48140\n",
      "[43]\tvalidation_0-error:0.25033\tvalidation_0-f1_err:0.48003\n",
      "[44]\tvalidation_0-error:0.25002\tvalidation_0-f1_err:0.47972\n",
      "[45]\tvalidation_0-error:0.24946\tvalidation_0-f1_err:0.47857\n",
      "[46]\tvalidation_0-error:0.24925\tvalidation_0-f1_err:0.47832\n",
      "[47]\tvalidation_0-error:0.24878\tvalidation_0-f1_err:0.47717\n",
      "[48]\tvalidation_0-error:0.24806\tvalidation_0-f1_err:0.47633\n",
      "[49]\tvalidation_0-error:0.24754\tvalidation_0-f1_err:0.47487\n",
      "[50]\tvalidation_0-error:0.24695\tvalidation_0-f1_err:0.47367\n",
      "[51]\tvalidation_0-error:0.24682\tvalidation_0-f1_err:0.47353\n",
      "[52]\tvalidation_0-error:0.24615\tvalidation_0-f1_err:0.47237\n",
      "[53]\tvalidation_0-error:0.24407\tvalidation_0-f1_err:0.44613\n",
      "[54]\tvalidation_0-error:0.24348\tvalidation_0-f1_err:0.44617\n",
      "[55]\tvalidation_0-error:0.24318\tvalidation_0-f1_err:0.44601\n",
      "[56]\tvalidation_0-error:0.24153\tvalidation_0-f1_err:0.42795\n",
      "[57]\tvalidation_0-error:0.24065\tvalidation_0-f1_err:0.41572\n",
      "[58]\tvalidation_0-error:0.24001\tvalidation_0-f1_err:0.41605\n",
      "[59]\tvalidation_0-error:0.23921\tvalidation_0-f1_err:0.40724\n",
      "[60]\tvalidation_0-error:0.23822\tvalidation_0-f1_err:0.40657\n",
      "[61]\tvalidation_0-error:0.23753\tvalidation_0-f1_err:0.40649\n",
      "[62]\tvalidation_0-error:0.23698\tvalidation_0-f1_err:0.39992\n",
      "[63]\tvalidation_0-error:0.23635\tvalidation_0-f1_err:0.39539\n",
      "[64]\tvalidation_0-error:0.23540\tvalidation_0-f1_err:0.39453\n",
      "[65]\tvalidation_0-error:0.23478\tvalidation_0-f1_err:0.39092\n",
      "[66]\tvalidation_0-error:0.23391\tvalidation_0-f1_err:0.38967\n",
      "[67]\tvalidation_0-error:0.23321\tvalidation_0-f1_err:0.38901\n",
      "[68]\tvalidation_0-error:0.23240\tvalidation_0-f1_err:0.38795\n",
      "[69]\tvalidation_0-error:0.23163\tvalidation_0-f1_err:0.38682\n",
      "[70]\tvalidation_0-error:0.23119\tvalidation_0-f1_err:0.38627\n",
      "[71]\tvalidation_0-error:0.23020\tvalidation_0-f1_err:0.38496\n",
      "[72]\tvalidation_0-error:0.22964\tvalidation_0-f1_err:0.38433\n",
      "[73]\tvalidation_0-error:0.22900\tvalidation_0-f1_err:0.38352\n",
      "[74]\tvalidation_0-error:0.22839\tvalidation_0-f1_err:0.38304\n",
      "[75]\tvalidation_0-error:0.22765\tvalidation_0-f1_err:0.38167\n",
      "[76]\tvalidation_0-error:0.22726\tvalidation_0-f1_err:0.38117\n",
      "[77]\tvalidation_0-error:0.22707\tvalidation_0-f1_err:0.37832\n",
      "[78]\tvalidation_0-error:0.22665\tvalidation_0-f1_err:0.37793\n",
      "[79]\tvalidation_0-error:0.22544\tvalidation_0-f1_err:0.37611\n",
      "[80]\tvalidation_0-error:0.22500\tvalidation_0-f1_err:0.37552\n",
      "[81]\tvalidation_0-error:0.22480\tvalidation_0-f1_err:0.37339\n",
      "[82]\tvalidation_0-error:0.22395\tvalidation_0-f1_err:0.37191\n",
      "[83]\tvalidation_0-error:0.22329\tvalidation_0-f1_err:0.37083\n",
      "[84]\tvalidation_0-error:0.22257\tvalidation_0-f1_err:0.36981\n",
      "[85]\tvalidation_0-error:0.22229\tvalidation_0-f1_err:0.36934\n",
      "[86]\tvalidation_0-error:0.22159\tvalidation_0-f1_err:0.36814\n",
      "[87]\tvalidation_0-error:0.22121\tvalidation_0-f1_err:0.36768\n",
      "[88]\tvalidation_0-error:0.22091\tvalidation_0-f1_err:0.36734\n",
      "[89]\tvalidation_0-error:0.22003\tvalidation_0-f1_err:0.36580\n",
      "[90]\tvalidation_0-error:0.21964\tvalidation_0-f1_err:0.36533\n",
      "[91]\tvalidation_0-error:0.21925\tvalidation_0-f1_err:0.36466\n",
      "[92]\tvalidation_0-error:0.21874\tvalidation_0-f1_err:0.36380\n",
      "[93]\tvalidation_0-error:0.21830\tvalidation_0-f1_err:0.36315\n",
      "[94]\tvalidation_0-error:0.21745\tvalidation_0-f1_err:0.36184\n",
      "[95]\tvalidation_0-error:0.21713\tvalidation_0-f1_err:0.36009\n",
      "[96]\tvalidation_0-error:0.21669\tvalidation_0-f1_err:0.35964\n",
      "[97]\tvalidation_0-error:0.21613\tvalidation_0-f1_err:0.35867\n",
      "[98]\tvalidation_0-error:0.21590\tvalidation_0-f1_err:0.35824\n",
      "[99]\tvalidation_0-error:0.21559\tvalidation_0-f1_err:0.35763\n",
      "[100]\tvalidation_0-error:0.21497\tvalidation_0-f1_err:0.35667\n",
      "[101]\tvalidation_0-error:0.21460\tvalidation_0-f1_err:0.35616\n",
      "[102]\tvalidation_0-error:0.21420\tvalidation_0-f1_err:0.35552\n",
      "[103]\tvalidation_0-error:0.21348\tvalidation_0-f1_err:0.35451\n",
      "[104]\tvalidation_0-error:0.21304\tvalidation_0-f1_err:0.35376\n",
      "[105]\tvalidation_0-error:0.21226\tvalidation_0-f1_err:0.35247\n",
      "[106]\tvalidation_0-error:0.21169\tvalidation_0-f1_err:0.35167\n",
      "[107]\tvalidation_0-error:0.21121\tvalidation_0-f1_err:0.35090\n",
      "[108]\tvalidation_0-error:0.21089\tvalidation_0-f1_err:0.35054\n",
      "[109]\tvalidation_0-error:0.21075\tvalidation_0-f1_err:0.35050\n",
      "[110]\tvalidation_0-error:0.21040\tvalidation_0-f1_err:0.34989\n",
      "[111]\tvalidation_0-error:0.21018\tvalidation_0-f1_err:0.34930\n",
      "[112]\tvalidation_0-error:0.20980\tvalidation_0-f1_err:0.34855\n",
      "[113]\tvalidation_0-error:0.20961\tvalidation_0-f1_err:0.34833\n",
      "[114]\tvalidation_0-error:0.20932\tvalidation_0-f1_err:0.34692\n",
      "[115]\tvalidation_0-error:0.20903\tvalidation_0-f1_err:0.34666\n",
      "[116]\tvalidation_0-error:0.20866\tvalidation_0-f1_err:0.34615\n",
      "[117]\tvalidation_0-error:0.20842\tvalidation_0-f1_err:0.34580\n",
      "[118]\tvalidation_0-error:0.20811\tvalidation_0-f1_err:0.34526\n",
      "[119]\tvalidation_0-error:0.20787\tvalidation_0-f1_err:0.34514\n",
      "[120]\tvalidation_0-error:0.20746\tvalidation_0-f1_err:0.34462\n",
      "[121]\tvalidation_0-error:0.20693\tvalidation_0-f1_err:0.34370\n",
      "[122]\tvalidation_0-error:0.20673\tvalidation_0-f1_err:0.34336\n",
      "[123]\tvalidation_0-error:0.20615\tvalidation_0-f1_err:0.34254\n",
      "[124]\tvalidation_0-error:0.20583\tvalidation_0-f1_err:0.34209\n",
      "[125]\tvalidation_0-error:0.20512\tvalidation_0-f1_err:0.34093\n",
      "[126]\tvalidation_0-error:0.20449\tvalidation_0-f1_err:0.33986\n",
      "[127]\tvalidation_0-error:0.20413\tvalidation_0-f1_err:0.33934\n",
      "[128]\tvalidation_0-error:0.20377\tvalidation_0-f1_err:0.33879\n",
      "[129]\tvalidation_0-error:0.20319\tvalidation_0-f1_err:0.33785\n",
      "[130]\tvalidation_0-error:0.20281\tvalidation_0-f1_err:0.33716\n",
      "[131]\tvalidation_0-error:0.20249\tvalidation_0-f1_err:0.33661\n",
      "[132]\tvalidation_0-error:0.20212\tvalidation_0-f1_err:0.33618\n",
      "[133]\tvalidation_0-error:0.20181\tvalidation_0-f1_err:0.33497\n",
      "[134]\tvalidation_0-error:0.20152\tvalidation_0-f1_err:0.33448\n",
      "[135]\tvalidation_0-error:0.20098\tvalidation_0-f1_err:0.33371\n",
      "[136]\tvalidation_0-error:0.20082\tvalidation_0-f1_err:0.33350\n",
      "[137]\tvalidation_0-error:0.20044\tvalidation_0-f1_err:0.33292\n",
      "[138]\tvalidation_0-error:0.20002\tvalidation_0-f1_err:0.33228\n",
      "[139]\tvalidation_0-error:0.19999\tvalidation_0-f1_err:0.33230\n",
      "[140]\tvalidation_0-error:0.19952\tvalidation_0-f1_err:0.33147\n",
      "[141]\tvalidation_0-error:0.19941\tvalidation_0-f1_err:0.33092\n",
      "[142]\tvalidation_0-error:0.19861\tvalidation_0-f1_err:0.32963\n",
      "[143]\tvalidation_0-error:0.19829\tvalidation_0-f1_err:0.32906\n",
      "[144]\tvalidation_0-error:0.19795\tvalidation_0-f1_err:0.32848\n",
      "[145]\tvalidation_0-error:0.19731\tvalidation_0-f1_err:0.32742\n",
      "[146]\tvalidation_0-error:0.19676\tvalidation_0-f1_err:0.32660\n",
      "[147]\tvalidation_0-error:0.19662\tvalidation_0-f1_err:0.32606\n",
      "[148]\tvalidation_0-error:0.19631\tvalidation_0-f1_err:0.32558\n",
      "[149]\tvalidation_0-error:0.19582\tvalidation_0-f1_err:0.32489\n",
      "[150]\tvalidation_0-error:0.19554\tvalidation_0-f1_err:0.32460\n",
      "[151]\tvalidation_0-error:0.19522\tvalidation_0-f1_err:0.32400\n",
      "[152]\tvalidation_0-error:0.19478\tvalidation_0-f1_err:0.32328\n",
      "[153]\tvalidation_0-error:0.19461\tvalidation_0-f1_err:0.32268\n",
      "[154]\tvalidation_0-error:0.19415\tvalidation_0-f1_err:0.32209\n",
      "[155]\tvalidation_0-error:0.19379\tvalidation_0-f1_err:0.32147\n",
      "[156]\tvalidation_0-error:0.19374\tvalidation_0-f1_err:0.32146\n",
      "[157]\tvalidation_0-error:0.19336\tvalidation_0-f1_err:0.32078\n",
      "[158]\tvalidation_0-error:0.19315\tvalidation_0-f1_err:0.32034\n",
      "[159]\tvalidation_0-error:0.19282\tvalidation_0-f1_err:0.31970\n",
      "[160]\tvalidation_0-error:0.19227\tvalidation_0-f1_err:0.31887\n",
      "[161]\tvalidation_0-error:0.19192\tvalidation_0-f1_err:0.31835\n",
      "[162]\tvalidation_0-error:0.19142\tvalidation_0-f1_err:0.31755\n",
      "[163]\tvalidation_0-error:0.19125\tvalidation_0-f1_err:0.31729\n",
      "[164]\tvalidation_0-error:0.19106\tvalidation_0-f1_err:0.31705\n",
      "[165]\tvalidation_0-error:0.19062\tvalidation_0-f1_err:0.31633\n",
      "[166]\tvalidation_0-error:0.19038\tvalidation_0-f1_err:0.31601\n",
      "[167]\tvalidation_0-error:0.19003\tvalidation_0-f1_err:0.31542\n",
      "[168]\tvalidation_0-error:0.18954\tvalidation_0-f1_err:0.31467\n",
      "[169]\tvalidation_0-error:0.18939\tvalidation_0-f1_err:0.31445\n",
      "[170]\tvalidation_0-error:0.18908\tvalidation_0-f1_err:0.31394\n",
      "[171]\tvalidation_0-error:0.18883\tvalidation_0-f1_err:0.31359\n",
      "[172]\tvalidation_0-error:0.18834\tvalidation_0-f1_err:0.31269\n",
      "[173]\tvalidation_0-error:0.18818\tvalidation_0-f1_err:0.31246\n",
      "[174]\tvalidation_0-error:0.18794\tvalidation_0-f1_err:0.31210\n",
      "[175]\tvalidation_0-error:0.18759\tvalidation_0-f1_err:0.31154\n",
      "[176]\tvalidation_0-error:0.18733\tvalidation_0-f1_err:0.31111\n",
      "[177]\tvalidation_0-error:0.18683\tvalidation_0-f1_err:0.31030\n",
      "[178]\tvalidation_0-error:0.18663\tvalidation_0-f1_err:0.31000\n",
      "[179]\tvalidation_0-error:0.18652\tvalidation_0-f1_err:0.30991\n",
      "[180]\tvalidation_0-error:0.18605\tvalidation_0-f1_err:0.30903\n",
      "[181]\tvalidation_0-error:0.18566\tvalidation_0-f1_err:0.30854\n",
      "[182]\tvalidation_0-error:0.18530\tvalidation_0-f1_err:0.30796\n",
      "[183]\tvalidation_0-error:0.18522\tvalidation_0-f1_err:0.30768\n",
      "[184]\tvalidation_0-error:0.18507\tvalidation_0-f1_err:0.30739\n",
      "[185]\tvalidation_0-error:0.18493\tvalidation_0-f1_err:0.30717\n",
      "[186]\tvalidation_0-error:0.18474\tvalidation_0-f1_err:0.30693\n",
      "[187]\tvalidation_0-error:0.18447\tvalidation_0-f1_err:0.30643\n",
      "[188]\tvalidation_0-error:0.18420\tvalidation_0-f1_err:0.30606\n",
      "[189]\tvalidation_0-error:0.18391\tvalidation_0-f1_err:0.30545\n",
      "[190]\tvalidation_0-error:0.18368\tvalidation_0-f1_err:0.30511\n",
      "[191]\tvalidation_0-error:0.18347\tvalidation_0-f1_err:0.30479\n",
      "[192]\tvalidation_0-error:0.18310\tvalidation_0-f1_err:0.30402\n",
      "[193]\tvalidation_0-error:0.18284\tvalidation_0-f1_err:0.30354\n",
      "[194]\tvalidation_0-error:0.18264\tvalidation_0-f1_err:0.30325\n",
      "[195]\tvalidation_0-error:0.18253\tvalidation_0-f1_err:0.30304\n",
      "[196]\tvalidation_0-error:0.18226\tvalidation_0-f1_err:0.30263\n",
      "[197]\tvalidation_0-error:0.18202\tvalidation_0-f1_err:0.30221\n",
      "[198]\tvalidation_0-error:0.18175\tvalidation_0-f1_err:0.30179\n",
      "[199]\tvalidation_0-error:0.18148\tvalidation_0-f1_err:0.30131\n",
      "[200]\tvalidation_0-error:0.18086\tvalidation_0-f1_err:0.30030\n",
      "[201]\tvalidation_0-error:0.18058\tvalidation_0-f1_err:0.29987\n",
      "[202]\tvalidation_0-error:0.18043\tvalidation_0-f1_err:0.29957\n",
      "[203]\tvalidation_0-error:0.18008\tvalidation_0-f1_err:0.29904\n",
      "[204]\tvalidation_0-error:0.17971\tvalidation_0-f1_err:0.29850\n",
      "[205]\tvalidation_0-error:0.17964\tvalidation_0-f1_err:0.29840\n",
      "[206]\tvalidation_0-error:0.17921\tvalidation_0-f1_err:0.29776\n",
      "[207]\tvalidation_0-error:0.17900\tvalidation_0-f1_err:0.29743\n",
      "[208]\tvalidation_0-error:0.17862\tvalidation_0-f1_err:0.29681\n",
      "[209]\tvalidation_0-error:0.17840\tvalidation_0-f1_err:0.29654\n",
      "[210]\tvalidation_0-error:0.17798\tvalidation_0-f1_err:0.29595\n",
      "[211]\tvalidation_0-error:0.17782\tvalidation_0-f1_err:0.29565\n",
      "[212]\tvalidation_0-error:0.17749\tvalidation_0-f1_err:0.29514\n",
      "[213]\tvalidation_0-error:0.17705\tvalidation_0-f1_err:0.29442\n",
      "[214]\tvalidation_0-error:0.17680\tvalidation_0-f1_err:0.29397\n",
      "[215]\tvalidation_0-error:0.17632\tvalidation_0-f1_err:0.29323\n",
      "[216]\tvalidation_0-error:0.17604\tvalidation_0-f1_err:0.29268\n",
      "[217]\tvalidation_0-error:0.17564\tvalidation_0-f1_err:0.29202\n",
      "[218]\tvalidation_0-error:0.17529\tvalidation_0-f1_err:0.29134\n",
      "[219]\tvalidation_0-error:0.17519\tvalidation_0-f1_err:0.29115\n",
      "[220]\tvalidation_0-error:0.17499\tvalidation_0-f1_err:0.29081\n",
      "[221]\tvalidation_0-error:0.17458\tvalidation_0-f1_err:0.29010\n",
      "[222]\tvalidation_0-error:0.17424\tvalidation_0-f1_err:0.28957\n",
      "[223]\tvalidation_0-error:0.17378\tvalidation_0-f1_err:0.28885\n",
      "[224]\tvalidation_0-error:0.17357\tvalidation_0-f1_err:0.28859\n",
      "[225]\tvalidation_0-error:0.17338\tvalidation_0-f1_err:0.28835\n",
      "[226]\tvalidation_0-error:0.17323\tvalidation_0-f1_err:0.28801\n",
      "[227]\tvalidation_0-error:0.17296\tvalidation_0-f1_err:0.28771\n",
      "[228]\tvalidation_0-error:0.17288\tvalidation_0-f1_err:0.28749\n",
      "[229]\tvalidation_0-error:0.17228\tvalidation_0-f1_err:0.28659\n",
      "[230]\tvalidation_0-error:0.17195\tvalidation_0-f1_err:0.28607\n",
      "[231]\tvalidation_0-error:0.17186\tvalidation_0-f1_err:0.28599\n",
      "[232]\tvalidation_0-error:0.17169\tvalidation_0-f1_err:0.28560\n",
      "[233]\tvalidation_0-error:0.17148\tvalidation_0-f1_err:0.28522\n",
      "[234]\tvalidation_0-error:0.17123\tvalidation_0-f1_err:0.28471\n",
      "[235]\tvalidation_0-error:0.17103\tvalidation_0-f1_err:0.28436\n",
      "[236]\tvalidation_0-error:0.17046\tvalidation_0-f1_err:0.28344\n",
      "[237]\tvalidation_0-error:0.17008\tvalidation_0-f1_err:0.28276\n",
      "[238]\tvalidation_0-error:0.16996\tvalidation_0-f1_err:0.28263\n",
      "[239]\tvalidation_0-error:0.16992\tvalidation_0-f1_err:0.28264\n",
      "[240]\tvalidation_0-error:0.16969\tvalidation_0-f1_err:0.28225\n",
      "[241]\tvalidation_0-error:0.16944\tvalidation_0-f1_err:0.28192\n",
      "[242]\tvalidation_0-error:0.16920\tvalidation_0-f1_err:0.28155\n",
      "[243]\tvalidation_0-error:0.16869\tvalidation_0-f1_err:0.28073\n",
      "[244]\tvalidation_0-error:0.16844\tvalidation_0-f1_err:0.28027\n",
      "[245]\tvalidation_0-error:0.16827\tvalidation_0-f1_err:0.28003\n",
      "[246]\tvalidation_0-error:0.16804\tvalidation_0-f1_err:0.27966\n",
      "[247]\tvalidation_0-error:0.16805\tvalidation_0-f1_err:0.27972\n",
      "[248]\tvalidation_0-error:0.16764\tvalidation_0-f1_err:0.27902\n",
      "[249]\tvalidation_0-error:0.16736\tvalidation_0-f1_err:0.27853\n",
      "[250]\tvalidation_0-error:0.16712\tvalidation_0-f1_err:0.27803\n",
      "[251]\tvalidation_0-error:0.16689\tvalidation_0-f1_err:0.27761\n",
      "[252]\tvalidation_0-error:0.16669\tvalidation_0-f1_err:0.27730\n",
      "[253]\tvalidation_0-error:0.16627\tvalidation_0-f1_err:0.27658\n",
      "[254]\tvalidation_0-error:0.16595\tvalidation_0-f1_err:0.27620\n",
      "[255]\tvalidation_0-error:0.16590\tvalidation_0-f1_err:0.27611\n",
      "[256]\tvalidation_0-error:0.16567\tvalidation_0-f1_err:0.27566\n",
      "[257]\tvalidation_0-error:0.16538\tvalidation_0-f1_err:0.27520\n",
      "[258]\tvalidation_0-error:0.16517\tvalidation_0-f1_err:0.27479\n",
      "[259]\tvalidation_0-error:0.16498\tvalidation_0-f1_err:0.27452\n",
      "[260]\tvalidation_0-error:0.16468\tvalidation_0-f1_err:0.27404\n",
      "[261]\tvalidation_0-error:0.16427\tvalidation_0-f1_err:0.27344\n",
      "[262]\tvalidation_0-error:0.16399\tvalidation_0-f1_err:0.27300\n",
      "[263]\tvalidation_0-error:0.16384\tvalidation_0-f1_err:0.27274\n",
      "[264]\tvalidation_0-error:0.16360\tvalidation_0-f1_err:0.27232\n",
      "[265]\tvalidation_0-error:0.16328\tvalidation_0-f1_err:0.27186\n",
      "[266]\tvalidation_0-error:0.16299\tvalidation_0-f1_err:0.27134\n",
      "[267]\tvalidation_0-error:0.16275\tvalidation_0-f1_err:0.27092\n",
      "[268]\tvalidation_0-error:0.16251\tvalidation_0-f1_err:0.27059\n",
      "[269]\tvalidation_0-error:0.16239\tvalidation_0-f1_err:0.27039\n",
      "[270]\tvalidation_0-error:0.16225\tvalidation_0-f1_err:0.27020\n",
      "[271]\tvalidation_0-error:0.16172\tvalidation_0-f1_err:0.26936\n",
      "[272]\tvalidation_0-error:0.16159\tvalidation_0-f1_err:0.26913\n",
      "[273]\tvalidation_0-error:0.16129\tvalidation_0-f1_err:0.26856\n",
      "[274]\tvalidation_0-error:0.16106\tvalidation_0-f1_err:0.26819\n",
      "[275]\tvalidation_0-error:0.16101\tvalidation_0-f1_err:0.26810\n",
      "[276]\tvalidation_0-error:0.16075\tvalidation_0-f1_err:0.26768\n",
      "[277]\tvalidation_0-error:0.16055\tvalidation_0-f1_err:0.26737\n",
      "[278]\tvalidation_0-error:0.16024\tvalidation_0-f1_err:0.26698\n",
      "[279]\tvalidation_0-error:0.16000\tvalidation_0-f1_err:0.26667\n",
      "[280]\tvalidation_0-error:0.15973\tvalidation_0-f1_err:0.26621\n",
      "[281]\tvalidation_0-error:0.15944\tvalidation_0-f1_err:0.26566\n",
      "[282]\tvalidation_0-error:0.15897\tvalidation_0-f1_err:0.26481\n",
      "[283]\tvalidation_0-error:0.15889\tvalidation_0-f1_err:0.26480\n",
      "[284]\tvalidation_0-error:0.15863\tvalidation_0-f1_err:0.26433\n",
      "[285]\tvalidation_0-error:0.15849\tvalidation_0-f1_err:0.26412\n",
      "[286]\tvalidation_0-error:0.15811\tvalidation_0-f1_err:0.26349\n",
      "[287]\tvalidation_0-error:0.15787\tvalidation_0-f1_err:0.26314\n",
      "[288]\tvalidation_0-error:0.15745\tvalidation_0-f1_err:0.26245\n",
      "[289]\tvalidation_0-error:0.15709\tvalidation_0-f1_err:0.26190\n",
      "[290]\tvalidation_0-error:0.15687\tvalidation_0-f1_err:0.26154\n",
      "[291]\tvalidation_0-error:0.15692\tvalidation_0-f1_err:0.26163\n",
      "[292]\tvalidation_0-error:0.15674\tvalidation_0-f1_err:0.26136\n",
      "[293]\tvalidation_0-error:0.15615\tvalidation_0-f1_err:0.26039\n",
      "[294]\tvalidation_0-error:0.15586\tvalidation_0-f1_err:0.25991\n",
      "[295]\tvalidation_0-error:0.15576\tvalidation_0-f1_err:0.25976\n",
      "[296]\tvalidation_0-error:0.15541\tvalidation_0-f1_err:0.25924\n",
      "[297]\tvalidation_0-error:0.15520\tvalidation_0-f1_err:0.25883\n",
      "[298]\tvalidation_0-error:0.15500\tvalidation_0-f1_err:0.25848\n",
      "[299]\tvalidation_0-error:0.15468\tvalidation_0-f1_err:0.25796\n"
     ]
    },
    {
     "data": {
      "text/plain": [
       "XGBClassifier(base_score=0.5, booster='gbtree', colsample_bylevel=1,\n",
       "              colsample_bynode=1, colsample_bytree=0.1162, gamma=0, gpu_id=0,\n",
       "              importance_type='gain', interaction_constraints='',\n",
       "              learning_rate=0.300000012, max_delta_step=0, max_depth=6,\n",
       "              min_child_weight=1, missing=nan,\n",
       "              monotone_constraints='(0,0,0,0,0,0,0,0,0,0,0,0,0,0,0,0,0,0,0,0,0,0,0,0,0,0,0,0,0,0,0,0,0...,0,0,0,0,0,0,0,0,0,0,0,0,0,0,0,0,0,0,0,0,0,0,0,0,0,0,0,0,0,0,0,0,0,0,0,0,0,0,0,0,0,0,0,0,0,0,0,0,0,0,0,0,0,0,0,0,0,0,0,0,0,0,0,0,0,0,0,0,0,0,0,0,0,0,0,0,0,0,0,0,0,0,0,0,0)',\n",
       "              n_estimators=300, n_jobs=0, num_parallel_tree=1, random_state=0,\n",
       "              reg_alpha=0, reg_lambda=1, scale_pos_weight=1, subsample=1,\n",
       "              tree_method='gpu_hist', validate_parameters=1, verbosity=None)"
      ]
     },
     "execution_count": 63,
     "metadata": {},
     "output_type": "execute_result"
    }
   ],
   "source": [
    "clf.fit(new_features,meta_labels,\n",
    "       eval_set=[(new_features,meta_labels)],\n",
    "       eval_metric=F1_eval,\n",
    "       verbose=True)"
   ]
  },
  {
   "cell_type": "code",
   "execution_count": 64,
   "metadata": {},
   "outputs": [],
   "source": [
    "clf.save_model('XGB_Meta_Classifier_v4.json')"
   ]
  },
  {
   "cell_type": "code",
   "execution_count": 77,
   "metadata": {},
   "outputs": [],
   "source": [
    "meta_XGB_preds = clf.predict(new_features)"
   ]
  },
  {
   "cell_type": "code",
   "execution_count": 79,
   "metadata": {},
   "outputs": [],
   "source": [
    "#Consensus (Meta model & Resnet)\n",
    "final_predictions = (meta_XGB_preds&prediction_int.flatten())"
   ]
  },
  {
   "cell_type": "code",
   "execution_count": 81,
   "metadata": {},
   "outputs": [
    {
     "data": {
      "text/plain": [
       "0.6439115752957024"
      ]
     },
     "execution_count": 81,
     "metadata": {},
     "output_type": "execute_result"
    }
   ],
   "source": [
    "accuracy_score(actual,final_predictions)"
   ]
  },
  {
   "cell_type": "code",
   "execution_count": 82,
   "metadata": {},
   "outputs": [],
   "source": [
    "def utility_score_bincount(date, weight, resp, action):\n",
    "    count_i = len(np.unique(date))\n",
    "    # print('weight: ', weight)\n",
    "    # print('resp: ', resp)\n",
    "    # print('action: ', action)\n",
    "    # print('weight * resp * action: ', weight * resp * action)\n",
    "    Pi = np.bincount(date, weight * resp * action)\n",
    "    t = np.sum(Pi) / np.sqrt(np.sum(Pi ** 2)) * np.sqrt(250 / count_i)\n",
    "    u = np.clip(t, 0, 6) * np.sum(Pi)\n",
    "    return u"
   ]
  },
  {
   "cell_type": "code",
   "execution_count": 83,
   "metadata": {},
   "outputs": [
    {
     "data": {
      "text/plain": [
       "13524.74763396213"
      ]
     },
     "execution_count": 83,
     "metadata": {},
     "output_type": "execute_result"
    }
   ],
   "source": [
    "#Top LB scores ~11k... This is likely overfit (test set already seen by both models... Good for baseline/POC)\n",
    "utility_score_bincount(date=test_set.date.values,weight=test_set.weight.values,\n",
    "                                               resp=test_set.resp.values,action=final_predictions)"
   ]
  }
 ],
 "metadata": {
  "kernelspec": {
   "display_name": "Python [conda env:py38]",
   "language": "python",
   "name": "conda-env-py38-py"
  },
  "language_info": {
   "codemirror_mode": {
    "name": "ipython",
    "version": 3
   },
   "file_extension": ".py",
   "mimetype": "text/x-python",
   "name": "python",
   "nbconvert_exporter": "python",
   "pygments_lexer": "ipython3",
   "version": "3.8.6"
  }
 },
 "nbformat": 4,
 "nbformat_minor": 4
}
