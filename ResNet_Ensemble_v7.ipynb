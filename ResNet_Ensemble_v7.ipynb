{
 "cells": [
  {
   "cell_type": "code",
   "execution_count": 20,
   "metadata": {},
   "outputs": [],
   "source": [
    "import os\n",
    "import time\n",
    "import pickle\n",
    "import random\n",
    "import numpy as np\n",
    "import pandas as pd\n",
    "from tqdm import tqdm, trange\n",
    "from sklearn.metrics import log_loss, roc_auc_score, f1_score, accuracy_score\n",
    "\n",
    "from mlfinlab.clustering.feature_clusters import get_feature_clusters\n",
    "\n",
    "from scipy.cluster.hierarchy import linkage, fcluster\n",
    "from scipy.spatial.distance import squareform\n",
    "\n",
    "import torch\n",
    "import torch.nn as nn\n",
    "from torch.autograd import Variable\n",
    "from torch.utils.data import DataLoader\n",
    "from torch.nn import CrossEntropyLoss, MSELoss\n",
    "from torch.nn.modules.loss import _WeightedLoss\n",
    "import torch.nn.functional as F"
   ]
  },
  {
   "cell_type": "code",
   "execution_count": 12,
   "metadata": {},
   "outputs": [],
   "source": [
    "DATA_PATH = 'input/'"
   ]
  },
  {
   "cell_type": "code",
   "execution_count": 13,
   "metadata": {},
   "outputs": [],
   "source": [
    "BATCH_SIZE = 8192\n",
    "EPOCHS = 200\n",
    "LR = 1e-3\n",
    "WEIGHT_DECAY = 1e-5\n",
    "EARLYSTOP_NUM = 3\n",
    "nFOLDS = 5\n",
    "device = torch.device('cuda')"
   ]
  },
  {
   "cell_type": "code",
   "execution_count": 14,
   "metadata": {},
   "outputs": [
    {
     "name": "stdout",
     "output_type": "stream",
     "text": [
      "Reading input data...\n",
      "Optimizing memory usage...\n",
      "Complete\n"
     ]
    }
   ],
   "source": [
    "TRAIN = True\n",
    "CACHE_PATH ='models/'\n",
    "print('Reading input data...')\n",
    "train = pd.read_csv(f'{DATA_PATH}train.csv')\n",
    "train = train.query('date > 85').reset_index(drop=True)\n",
    "print('Optimizing memory usage...')\n",
    "train = train.astype({c: np.float32 for c in train.select_dtypes(include='float64').columns})\n",
    "print('Complete')\n",
    "features = [c for c in train.columns if 'feature' in c]\n",
    "f_mean = train[features[1:]].mean()\n",
    "train[features] = train[features].fillna(method='ffill').fillna(0)\n",
    "train = train.query('weight > 0').reset_index(drop=True)\n",
    "train['action'] = (train['resp'] > 0).astype('int') #BCE Target\n",
    "train['action_1'] = (train['resp_1'] > 0).astype('int')\n",
    "train['action_2'] = (train['resp_2'] > 0).astype('int')\n",
    "train['action_3'] = (train['resp_3'] > 0).astype('int')\n",
    "train['action_4'] = (train['resp_4'] > 0).astype('int')"
   ]
  },
  {
   "cell_type": "code",
   "execution_count": 17,
   "metadata": {},
   "outputs": [],
   "source": [
    "target_cols = [target for target in train.columns if 'action' in target]\n",
    "if TRAIN:\n",
    "    feat_cols= [col for col in features]\n",
    "    \n",
    "    train['cross_41_42_43'] = train['feature_41'] + train['feature_42'] + train['feature_43']\n",
    "    \n",
    "    train['cross_1_2'] = train['feature_1'] / (train['feature_2'] + 1e-5)\n",
    "   \n",
    "    feat_cols.extend(['cross_41_42_43','cross_1_2'])"
   ]
  },
  {
   "cell_type": "code",
   "execution_count": 16,
   "metadata": {},
   "outputs": [],
   "source": [
    "def seed_everything(seed=42):\n",
    "    random.seed(seed)\n",
    "    os.environ['PYTHONHASHSEED'] = str(seed)\n",
    "    np.random.seed(seed)\n",
    "    torch.manual_seed(seed)\n",
    "    torch.cuda.manual_seed(seed)\n",
    "    torch.backends.cudnn.deterministic = True\n",
    "seed_everything(seed=1111)"
   ]
  },
  {
   "cell_type": "code",
   "execution_count": 44,
   "metadata": {},
   "outputs": [],
   "source": [
    "class Model(nn.Module):\n",
    "    def __init__(self):\n",
    "        super(Model, self).__init__()\n",
    "        self.batch_norm0 = nn.BatchNorm1d(len(feat_cols))\n",
    "        self.dropout0 = nn.Dropout(0.2)\n",
    "\n",
    "        dropout_rate = 0.2\n",
    "        hidden_size = 256\n",
    "        self.dense1 = nn.Linear(len(feat_cols), hidden_size)\n",
    "        nn.init.kaiming_normal_(self.dense1.weight,mode='fan_out')\n",
    "        self.batch_norm1 = nn.BatchNorm1d(hidden_size)\n",
    "        self.dropout1 = nn.Dropout(dropout_rate)\n",
    "\n",
    "        self.dense2 = nn.Linear(hidden_size+len(feat_cols), hidden_size)\n",
    "        nn.init.kaiming_normal_(self.dense2.weight,mode='fan_out')\n",
    "        self.batch_norm2 = nn.BatchNorm1d(hidden_size)\n",
    "        self.dropout2 = nn.Dropout(dropout_rate)\n",
    "\n",
    "        self.dense3 = nn.Linear(hidden_size+hidden_size, hidden_size)\n",
    "        nn.init.kaiming_normal_(self.dense3.weight,mode='fan_out')\n",
    "        self.batch_norm3 = nn.BatchNorm1d(hidden_size)\n",
    "        self.dropout3 = nn.Dropout(dropout_rate)\n",
    "\n",
    "        self.dense4 = nn.Linear(hidden_size+hidden_size, hidden_size)\n",
    "        nn.init.kaiming_normal_(self.dense4.weight,mode='fan_out')\n",
    "        self.batch_norm4 = nn.BatchNorm1d(hidden_size)\n",
    "        self.dropout4 = nn.Dropout(dropout_rate)\n",
    "\n",
    "        self.dense5 = nn.Linear(hidden_size+hidden_size, len(target_cols))\n",
    "        nn.init.kaiming_normal_(self.dense5.weight,mode='fan_out')\n",
    "\n",
    "        self.Relu = nn.ReLU(inplace=True)\n",
    "        self.PReLU = nn.PReLU()\n",
    "        self.LeakyReLU = nn.LeakyReLU(negative_slope=0.01, inplace=True)\n",
    "        # self.GeLU = nn.GELU()\n",
    "        self.RReLU = nn.RReLU()\n",
    "\n",
    "    def forward(self, x):\n",
    "        x = self.batch_norm0(x)\n",
    "        x = self.dropout0(x)\n",
    "\n",
    "        x1 = self.dense1(x)\n",
    "        x1 = self.batch_norm1(x1)\n",
    "        # x = F.relu(x)\n",
    "        # x = self.PReLU(x)\n",
    "        x1 = self.LeakyReLU(x1)\n",
    "        x1 = self.dropout1(x1)\n",
    "\n",
    "        x = torch.cat([x, x1], 1)\n",
    "\n",
    "        x2 = self.dense2(x)\n",
    "        x2 = self.batch_norm2(x2)\n",
    "        # x = F.relu(x)\n",
    "        # x = self.PReLU(x)\n",
    "        x2 = self.LeakyReLU(x2)\n",
    "        x2 = self.dropout2(x2)\n",
    "\n",
    "        x = torch.cat([x1, x2], 1)\n",
    "\n",
    "        x3 = self.dense3(x)\n",
    "        x3 = self.batch_norm3(x3)\n",
    "        # x = F.relu(x)\n",
    "        # x = self.PReLU(x)\n",
    "        x3 = self.LeakyReLU(x3)\n",
    "        x3 = self.dropout3(x3)\n",
    "\n",
    "        x = torch.cat([x2, x3], 1)\n",
    "\n",
    "        x4 = self.dense4(x)\n",
    "        x4 = self.batch_norm4(x4)\n",
    "        # x = F.relu(x)\n",
    "        # x = self.PReLU(x)\n",
    "        x4 = self.LeakyReLU(x4)\n",
    "        x4 = self.dropout4(x4)\n",
    "\n",
    "        x = torch.cat([x3, x4], 1)\n",
    "\n",
    "        x = self.dense5(x)\n",
    "\n",
    "        return x"
   ]
  },
  {
   "cell_type": "code",
   "execution_count": 3,
   "metadata": {},
   "outputs": [],
   "source": [
    "class EarlyStopping:\n",
    "    def __init__(self, patience=7, mode=\"max\", delta=0.):\n",
    "        self.patience = patience\n",
    "        self.counter = 0\n",
    "        self.mode = mode\n",
    "        self.best_score = None\n",
    "        self.early_stop = False\n",
    "        self.delta = delta\n",
    "        if self.mode == \"min\":\n",
    "            self.val_score = np.Inf\n",
    "        else:\n",
    "            self.val_score = -np.Inf\n",
    "\n",
    "    def __call__(self, epoch_score, model, model_path):\n",
    "\n",
    "        if self.mode == \"min\":\n",
    "            score = -1.0 * epoch_score\n",
    "        else:\n",
    "            score = np.copy(epoch_score)\n",
    "\n",
    "        if self.best_score is None:\n",
    "            self.best_score = score\n",
    "            self.save_checkpoint(epoch_score, model, model_path)\n",
    "        elif score < self.best_score: #  + self.delta\n",
    "            self.counter += 1\n",
    "            print('EarlyStopping counter: {} out of {}'.format(self.counter, self.patience))\n",
    "            if self.counter >= self.patience:\n",
    "                self.early_stop = True\n",
    "        else:\n",
    "            self.best_score = score\n",
    "            # ema.apply_shadow()\n",
    "            self.save_checkpoint(epoch_score, model, model_path)\n",
    "            # ema.restore()\n",
    "            self.counter = 0\n",
    "\n",
    "    def save_checkpoint(self, epoch_score, model, model_path):\n",
    "        if epoch_score not in [-np.inf, np.inf, -np.nan, np.nan]:\n",
    "            print('Validation score improved ({} --> {}). Saving model!'.format(self.val_score, epoch_score))\n",
    "            torch.save(model.state_dict(), model_path)\n",
    "        self.val_score = epoch_score"
   ]
  },
  {
   "cell_type": "code",
   "execution_count": 4,
   "metadata": {},
   "outputs": [],
   "source": [
    "class SmoothBCEwLogits(_WeightedLoss):\n",
    "    def __init__(self, weight=None, reduction='mean', smoothing=0.0):\n",
    "        super().__init__(weight=weight, reduction=reduction)\n",
    "        self.smoothing = smoothing\n",
    "        self.weight = weight\n",
    "        self.reduction = reduction\n",
    "\n",
    "    @staticmethod\n",
    "    def _smooth(targets:torch.Tensor, n_labels:int, smoothing=0.0):\n",
    "        assert 0 <= smoothing < 1\n",
    "        with torch.no_grad():\n",
    "            targets = targets * (1.0 - smoothing) + 0.5 * smoothing\n",
    "        return targets\n",
    "\n",
    "    def forward(self, inputs, targets):\n",
    "        targets = SmoothBCEwLogits._smooth(targets, inputs.size(-1),\n",
    "            self.smoothing)\n",
    "        loss = F.binary_cross_entropy_with_logits(inputs, targets,self.weight)\n",
    "\n",
    "        if  self.reduction == 'sum':\n",
    "            loss = loss.sum()\n",
    "        elif  self.reduction == 'mean':\n",
    "            loss = loss.mean()\n",
    "\n",
    "        return loss"
   ]
  },
  {
   "cell_type": "code",
   "execution_count": 5,
   "metadata": {},
   "outputs": [],
   "source": [
    "def train_fn(model, optimizer, loss_fn, dataloader, device):\n",
    "    model.train()\n",
    "    final_loss = 0\n",
    "    \n",
    "    for data in dataloader:\n",
    "        optimizer.zero_grad()\n",
    "        X,y = data['features'].to(device),data['label'].to(device)\n",
    "        outputs = model(X)\n",
    "        loss = loss_fn(outputs,y)\n",
    "        loss.backward()\n",
    "        optimizer.step()\n",
    "        \n",
    "        final_loss += loss.item()\n",
    "    final_loss/=len(dataloader)\n",
    "        \n",
    "    return final_loss\n",
    "        "
   ]
  },
  {
   "cell_type": "code",
   "execution_count": 6,
   "metadata": {},
   "outputs": [],
   "source": [
    "def inference(model, dataloader, device,loss_fn=None):\n",
    "    model.eval()\n",
    "    preds = []\n",
    "    val_loss = 0\n",
    "    for data in dataloader:\n",
    "        X,y = data['features'].to(device),data['label'].to(device)\n",
    "        with torch.no_grad():\n",
    "            outputs = model(X)\n",
    "        if loss_fn:\n",
    "            loss = loss_fn(outputs,y)\n",
    "        \n",
    "            val_loss += loss.item()\n",
    "        \n",
    "        preds.append(outputs.sigmoid().detach().cpu().numpy())\n",
    "        \n",
    "        \n",
    "        \n",
    "    preds = np.concatenate(preds).reshape(-1,len(target_cols))\n",
    "    \n",
    "    if loss_fn:\n",
    "        val_loss/=len(dataloader)\n",
    "    else:\n",
    "        val_loss = None\n",
    "    \n",
    "    \n",
    "    \n",
    "    return val_loss, preds"
   ]
  },
  {
   "cell_type": "code",
   "execution_count": 7,
   "metadata": {},
   "outputs": [],
   "source": [
    "class MarketDataset:\n",
    "    def __init__(self, df):\n",
    "        self.features = df[feat_cols].values\n",
    "\n",
    "        self.label = df[target_cols].values.reshape(-1, len(target_cols))\n",
    "\n",
    "    def __len__(self):\n",
    "        return len(self.label)\n",
    "\n",
    "    def __getitem__(self, idx):\n",
    "        return {\n",
    "            'features': torch.tensor(self.features[idx], dtype=torch.float),\n",
    "            'label': torch.tensor(self.label[idx], dtype=torch.float)\n",
    "        }"
   ]
  },
  {
   "cell_type": "code",
   "execution_count": 8,
   "metadata": {},
   "outputs": [],
   "source": [
    "def utility_score_bincount(date, weight, resp, action):\n",
    "    count_i = len(np.unique(date))\n",
    "    # print('weight: ', weight)\n",
    "    # print('resp: ', resp)\n",
    "    # print('action: ', action)\n",
    "    # print('weight * resp * action: ', weight * resp * action)\n",
    "    Pi = np.bincount(date, weight * resp * action)\n",
    "    t = np.sum(Pi) / np.sqrt(np.sum(Pi ** 2)) * np.sqrt(250 / count_i)\n",
    "    u = np.clip(t, 0, 6) * np.sum(Pi)\n",
    "    return u"
   ]
  },
  {
   "cell_type": "code",
   "execution_count": 39,
   "metadata": {},
   "outputs": [],
   "source": [
    "from sklearn.model_selection import KFold\n",
    "from sklearn.model_selection._split import _BaseKFold, indexable, _num_samples\n",
    "from sklearn.utils.validation import _deprecate_positional_args\n",
    "\n",
    "# modified code for group gaps; source\n",
    "# https://github.com/getgaurav2/scikit-learn/blob/d4a3af5cc9da3a76f0266932644b884c99724c57/sklearn/model_selection/_split.py#L2243\n",
    "class PurgedGroupTimeSeriesSplit(_BaseKFold):\n",
    "    \"\"\"Time Series cross-validator variant with non-overlapping groups.\n",
    "    Allows for a gap in groups to avoid potentially leaking info from\n",
    "    train into test if the model has windowed or lag features.\n",
    "    Provides train/test indices to split time series data samples\n",
    "    that are observed at fixed time intervals according to a\n",
    "    third-party provided group.\n",
    "    In each split, test indices must be higher than before, and thus shuffling\n",
    "    in cross validator is inappropriate.\n",
    "    This cross-validation object is a variation of :class:`KFold`.\n",
    "    In the kth split, it returns first k folds as train set and the\n",
    "    (k+1)th fold as test set.\n",
    "    The same group will not appear in two different folds (the number of\n",
    "    distinct groups has to be at least equal to the number of folds).\n",
    "    Note that unlike standard cross-validation methods, successive\n",
    "    training sets are supersets of those that come before them.\n",
    "    Read more in the :ref:`User Guide <cross_validation>`.\n",
    "    Parameters\n",
    "    ----------\n",
    "    n_splits : int, default=5\n",
    "        Number of splits. Must be at least 2.\n",
    "    max_train_group_size : int, default=Inf\n",
    "        Maximum group size for a single training set.\n",
    "    group_gap : int, default=None\n",
    "        Gap between train and test\n",
    "    max_test_group_size : int, default=Inf\n",
    "        We discard this number of groups from the end of each train split\n",
    "    \"\"\"\n",
    "\n",
    "    @_deprecate_positional_args\n",
    "    def __init__(self,\n",
    "                 n_splits=5,\n",
    "                 *,\n",
    "                 max_train_group_size=np.inf,\n",
    "                 max_test_group_size=np.inf,\n",
    "                 group_gap=None,\n",
    "                 verbose=False\n",
    "                 ):\n",
    "        super().__init__(n_splits, shuffle=False, random_state=None)\n",
    "        self.max_train_group_size = max_train_group_size\n",
    "        self.group_gap = group_gap\n",
    "        self.max_test_group_size = max_test_group_size\n",
    "        self.verbose = verbose\n",
    "\n",
    "    def split(self, X, y=None, groups=None):\n",
    "        \"\"\"Generate indices to split data into training and test set.\n",
    "        Parameters\n",
    "        ----------\n",
    "        X : array-like of shape (n_samples, n_features)\n",
    "            Training data, where n_samples is the number of samples\n",
    "            and n_features is the number of features.\n",
    "        y : array-like of shape (n_samples,)\n",
    "            Always ignored, exists for compatibility.\n",
    "        groups : array-like of shape (n_samples,)\n",
    "            Group labels for the samples used while splitting the dataset into\n",
    "            train/test set.\n",
    "        Yields\n",
    "        ------\n",
    "        train : ndarray\n",
    "            The training set indices for that split.\n",
    "        test : ndarray\n",
    "            The testing set indices for that split.\n",
    "        \"\"\"\n",
    "        if groups is None:\n",
    "            raise ValueError(\n",
    "                \"The 'groups' parameter should not be None\")\n",
    "        X, y, groups = indexable(X, y, groups)\n",
    "        n_samples = _num_samples(X)\n",
    "        n_splits = self.n_splits\n",
    "        group_gap = self.group_gap\n",
    "        max_test_group_size = self.max_test_group_size\n",
    "        max_train_group_size = self.max_train_group_size\n",
    "        n_folds = n_splits + 1\n",
    "        group_dict = {}\n",
    "        u, ind = np.unique(groups, return_index=True)\n",
    "        unique_groups = u[np.argsort(ind)]\n",
    "        n_samples = _num_samples(X)\n",
    "        n_groups = _num_samples(unique_groups)\n",
    "        for idx in np.arange(n_samples):\n",
    "            if (groups[idx] in group_dict):\n",
    "                group_dict[groups[idx]].append(idx)\n",
    "            else:\n",
    "                group_dict[groups[idx]] = [idx]\n",
    "        if n_folds > n_groups:\n",
    "            raise ValueError(\n",
    "                (\"Cannot have number of folds={0} greater than\"\n",
    "                 \" the number of groups={1}\").format(n_folds,\n",
    "                                                     n_groups))\n",
    "\n",
    "        group_test_size = min(n_groups // n_folds, max_test_group_size)\n",
    "        group_test_starts = range(n_groups - n_splits * group_test_size,\n",
    "                                  n_groups, group_test_size)\n",
    "        for group_test_start in group_test_starts:\n",
    "            train_array = []\n",
    "            test_array = []\n",
    "\n",
    "            group_st = max(0, group_test_start - group_gap - max_train_group_size)\n",
    "            for train_group_idx in unique_groups[group_st:(group_test_start - group_gap)]:\n",
    "                train_array_tmp = group_dict[train_group_idx]\n",
    "                \n",
    "                train_array = np.sort(np.unique(\n",
    "                                      np.concatenate((train_array,\n",
    "                                                      train_array_tmp)),\n",
    "                                      axis=None), axis=None)\n",
    "\n",
    "            train_end = train_array.size\n",
    " \n",
    "            for test_group_idx in unique_groups[group_test_start:\n",
    "                                                group_test_start +\n",
    "                                                group_test_size]:\n",
    "                test_array_tmp = group_dict[test_group_idx]\n",
    "                test_array = np.sort(np.unique(\n",
    "                                              np.concatenate((test_array,\n",
    "                                                              test_array_tmp)),\n",
    "                                     axis=None), axis=None)\n",
    "\n",
    "            test_array  = test_array[group_gap:]\n",
    "            \n",
    "            \n",
    "            if self.verbose > 0:\n",
    "                    pass\n",
    "                    \n",
    "            yield [int(i) for i in train_array], [int(i) for i in test_array]"
   ]
  },
  {
   "cell_type": "code",
   "execution_count": 40,
   "metadata": {},
   "outputs": [],
   "source": [
    "gkf = PurgedGroupTimeSeriesSplit(n_splits=5, group_gap=20)\n",
    "splits = list(gkf.split(train[['resp']],groups=train['date'].values))"
   ]
  },
  {
   "cell_type": "code",
   "execution_count": 45,
   "metadata": {},
   "outputs": [
    {
     "name": "stdout",
     "output_type": "stream",
     "text": [
      "Fold: 0\n"
     ]
    },
    {
     "name": "stderr",
     "output_type": "stream",
     "text": [
      "Train loss 3.1047840780682034 Valid loss 1.545263487717201 ROC_score 0.5095102489058656 f1_score 0.43946959902724575 Utility_score 30.64448693665193:   0%|          | 1/200 [00:10<35:10, 10.61s/it]"
     ]
    },
    {
     "name": "stdout",
     "output_type": "stream",
     "text": [
      "Validation score improved (-inf --> 0.5095102489058656). Saving model!\n"
     ]
    },
    {
     "name": "stderr",
     "output_type": "stream",
     "text": [
      "Train loss 1.8096604082319472 Valid loss 0.9916201706590324 ROC_score 0.5117753043300762 f1_score 0.5219295542599828 Utility_score 115.42403041933945:   1%|          | 2/200 [00:21<35:08, 10.65s/it]"
     ]
    },
    {
     "name": "stdout",
     "output_type": "stream",
     "text": [
      "Validation score improved (0.5095102489058656 --> 0.5117753043300762). Saving model!\n"
     ]
    },
    {
     "name": "stderr",
     "output_type": "stream",
     "text": [
      "Train loss 1.4711796045303345 Valid loss 0.8203461601816374 ROC_score 0.511544078299767 f1_score 0.46096018821453516 Utility_score 171.6433217710689:   2%|▏         | 3/200 [00:31<34:47, 10.60s/it] "
     ]
    },
    {
     "name": "stdout",
     "output_type": "stream",
     "text": [
      "EarlyStopping counter: 1 out of 10\n"
     ]
    },
    {
     "name": "stderr",
     "output_type": "stream",
     "text": [
      "Train loss 1.3150888482729595 Valid loss 0.7798215870199532 ROC_score 0.5126343911163671 f1_score 0.5219804846356597 Utility_score 343.94735700383114:   2%|▏         | 4/200 [00:42<34:42, 10.62s/it]"
     ]
    },
    {
     "name": "stdout",
     "output_type": "stream",
     "text": [
      "Validation score improved (0.5117753043300762 --> 0.5126343911163671). Saving model!\n"
     ]
    },
    {
     "name": "stderr",
     "output_type": "stream",
     "text": [
      "Train loss 1.2201794584592183 Valid loss 0.7553497840618265 ROC_score 0.5142317735438937 f1_score 0.5407140971748919 Utility_score 102.70707573601041:   2%|▎         | 5/200 [00:53<34:25, 10.59s/it]"
     ]
    },
    {
     "name": "stdout",
     "output_type": "stream",
     "text": [
      "Validation score improved (0.5126343911163671 --> 0.5142317735438937). Saving model!\n"
     ]
    },
    {
     "name": "stderr",
     "output_type": "stream",
     "text": [
      "Train loss 1.1397203935517206 Valid loss 0.7334557627809459 ROC_score 0.518344346337055 f1_score 0.5932016310461192 Utility_score 170.8527390062527:   3%|▎         | 6/200 [01:03<34:11, 10.57s/it]  "
     ]
    },
    {
     "name": "stdout",
     "output_type": "stream",
     "text": [
      "Validation score improved (0.5142317735438937 --> 0.518344346337055). Saving model!\n"
     ]
    },
    {
     "name": "stderr",
     "output_type": "stream",
     "text": [
      "Train loss 1.0749597946802776 Valid loss 0.7372170419528566 ROC_score 0.5183641728942345 f1_score 0.5579992363497518 Utility_score 325.38715195526584:   4%|▎         | 7/200 [01:14<34:08, 10.62s/it]"
     ]
    },
    {
     "name": "stdout",
     "output_type": "stream",
     "text": [
      "Validation score improved (0.518344346337055 --> 0.5183641728942345). Saving model!\n"
     ]
    },
    {
     "name": "stderr",
     "output_type": "stream",
     "text": [
      "Train loss 1.015164977974362 Valid loss 0.7337924077593047 ROC_score 0.5189459719083731 f1_score 0.546191699178544 Utility_score 487.26185505689887:   4%|▍         | 8/200 [01:24<33:55, 10.60s/it]  "
     ]
    },
    {
     "name": "stdout",
     "output_type": "stream",
     "text": [
      "Validation score improved (0.5183641728942345 --> 0.5189459719083731). Saving model!\n"
     ]
    },
    {
     "name": "stderr",
     "output_type": "stream",
     "text": [
      "Train loss 0.9601218965318468 Valid loss 0.7156365945421416 ROC_score 0.5212755054308659 f1_score 0.5200178634931398 Utility_score 606.6408919388808:   4%|▍         | 9/200 [01:35<33:58, 10.67s/it]"
     ]
    },
    {
     "name": "stdout",
     "output_type": "stream",
     "text": [
      "Validation score improved (0.5189459719083731 --> 0.5212755054308659). Saving model!\n"
     ]
    },
    {
     "name": "stderr",
     "output_type": "stream",
     "text": [
      "Train loss 0.9131044944127401 Valid loss 0.7170177225408882 ROC_score 0.5225240364504682 f1_score 0.5215189873417723 Utility_score 1048.2759704486093:   5%|▌         | 10/200 [01:46<33:41, 10.64s/it]"
     ]
    },
    {
     "name": "stdout",
     "output_type": "stream",
     "text": [
      "Validation score improved (0.5212755054308659 --> 0.5225240364504682). Saving model!\n"
     ]
    },
    {
     "name": "stderr",
     "output_type": "stream",
     "text": [
      "Train loss 0.8771641155083975 Valid loss 0.7148478277798357 ROC_score 0.5213880062987692 f1_score 0.5305358574084698 Utility_score 671.5540295143527:   6%|▌         | 11/200 [01:56<33:24, 10.60s/it] "
     ]
    },
    {
     "name": "stdout",
     "output_type": "stream",
     "text": [
      "EarlyStopping counter: 1 out of 10\n"
     ]
    },
    {
     "name": "stderr",
     "output_type": "stream",
     "text": [
      "Train loss 0.8292695879936218 Valid loss 0.7107912795297031 ROC_score 0.5225744795297448 f1_score 0.501286567885884 Utility_score 673.5405570498783:   6%|▌         | 12/200 [02:07<33:18, 10.63s/it] "
     ]
    },
    {
     "name": "stdout",
     "output_type": "stream",
     "text": [
      "Validation score improved (0.5225240364504682 --> 0.5225744795297448). Saving model!\n"
     ]
    },
    {
     "name": "stderr",
     "output_type": "stream",
     "text": [
      "Train loss 0.812293228175905 Valid loss 0.7056718037046236 ROC_score 0.5230657393109941 f1_score 0.5606404962623712 Utility_score 983.4503500015261:   6%|▋         | 13/200 [02:17<33:01, 10.60s/it]"
     ]
    },
    {
     "name": "stdout",
     "output_type": "stream",
     "text": [
      "Validation score improved (0.5225744795297448 --> 0.5230657393109941). Saving model!\n"
     ]
    },
    {
     "name": "stderr",
     "output_type": "stream",
     "text": [
      "Train loss 0.7929286592536502 Valid loss 0.7016723423168577 ROC_score 0.5232811883842816 f1_score 0.5301256051288761 Utility_score 952.6657525076591:   7%|▋         | 14/200 [02:28<32:56, 10.63s/it]"
     ]
    },
    {
     "name": "stdout",
     "output_type": "stream",
     "text": [
      "Validation score improved (0.5230657393109941 --> 0.5232811883842816). Saving model!\n"
     ]
    },
    {
     "name": "stderr",
     "output_type": "stream",
     "text": [
      "Train loss 0.7720368603865305 Valid loss 0.7045379630450544 ROC_score 0.5240420322911383 f1_score 0.5831287261246121 Utility_score 1039.8787244376708:   8%|▊         | 15/200 [02:39<32:40, 10.60s/it]"
     ]
    },
    {
     "name": "stdout",
     "output_type": "stream",
     "text": [
      "Validation score improved (0.5232811883842816 --> 0.5240420322911383). Saving model!\n"
     ]
    },
    {
     "name": "stderr",
     "output_type": "stream",
     "text": [
      "Train loss 0.7674393720097012 Valid loss 0.6995420743679178 ROC_score 0.5256108608091009 f1_score 0.5709063751374518 Utility_score 1174.4419386343327:   8%|▊         | 16/200 [02:49<32:31, 10.61s/it]"
     ]
    },
    {
     "name": "stdout",
     "output_type": "stream",
     "text": [
      "Validation score improved (0.5240420322911383 --> 0.5256108608091009). Saving model!\n"
     ]
    },
    {
     "name": "stderr",
     "output_type": "stream",
     "text": [
      "Train loss 0.7550021145078871 Valid loss 0.7020670648278862 ROC_score 0.5262668519165946 f1_score 0.5616423141002317 Utility_score 1003.8511289445848:   8%|▊         | 17/200 [03:00<32:32, 10.67s/it]"
     ]
    },
    {
     "name": "stdout",
     "output_type": "stream",
     "text": [
      "Validation score improved (0.5256108608091009 --> 0.5262668519165946). Saving model!\n"
     ]
    },
    {
     "name": "stderr",
     "output_type": "stream",
     "text": [
      "Train loss 0.7487267686261071 Valid loss 0.7004470866301964 ROC_score 0.5266335198006266 f1_score 0.5773442328116732 Utility_score 1099.1909944042293:   9%|▉         | 18/200 [03:11<32:13, 10.62s/it]"
     ]
    },
    {
     "name": "stdout",
     "output_type": "stream",
     "text": [
      "Validation score improved (0.5262668519165946 --> 0.5266335198006266). Saving model!\n"
     ]
    },
    {
     "name": "stderr",
     "output_type": "stream",
     "text": [
      "Train loss 0.7411031557454003 Valid loss 0.7035539581857878 ROC_score 0.5274827950696955 f1_score 0.5965525520436121 Utility_score 1124.7887885567893:  10%|▉         | 19/200 [03:21<32:12, 10.68s/it]"
     ]
    },
    {
     "name": "stdout",
     "output_type": "stream",
     "text": [
      "Validation score improved (0.5266335198006266 --> 0.5274827950696955). Saving model!\n"
     ]
    },
    {
     "name": "stderr",
     "output_type": "stream",
     "text": [
      "Train loss 0.7453839944468604 Valid loss 0.6991936420572216 ROC_score 0.5270683338469699 f1_score 0.5659143768418979 Utility_score 1157.1610517635984:  10%|█         | 20/200 [03:32<31:56, 10.65s/it]"
     ]
    },
    {
     "name": "stdout",
     "output_type": "stream",
     "text": [
      "EarlyStopping counter: 1 out of 10\n"
     ]
    },
    {
     "name": "stderr",
     "output_type": "stream",
     "text": [
      "Train loss 0.7408070829179552 Valid loss 0.7034410135499363 ROC_score 0.5282678314920304 f1_score 0.5996824153224115 Utility_score 881.9224761743862:  10%|█         | 21/200 [03:43<31:37, 10.60s/it] "
     ]
    },
    {
     "name": "stdout",
     "output_type": "stream",
     "text": [
      "Validation score improved (0.5274827950696955 --> 0.5282678314920304). Saving model!\n"
     ]
    },
    {
     "name": "stderr",
     "output_type": "stream",
     "text": [
      "Train loss 0.741720759206348 Valid loss 0.704257202559504 ROC_score 0.5288456980332983 f1_score 0.5695187669226164 Utility_score 1346.601031717268:  11%|█         | 22/200 [03:53<31:31, 10.63s/it]  "
     ]
    },
    {
     "name": "stdout",
     "output_type": "stream",
     "text": [
      "Validation score improved (0.5282678314920304 --> 0.5288456980332983). Saving model!\n"
     ]
    },
    {
     "name": "stderr",
     "output_type": "stream",
     "text": [
      "Train loss 0.7274291945828332 Valid loss 0.6990055955689529 ROC_score 0.5295124805240226 f1_score 0.5919242515055513 Utility_score 999.3243319858371:  12%|█▏        | 23/200 [04:04<31:10, 10.57s/it]"
     ]
    },
    {
     "name": "stdout",
     "output_type": "stream",
     "text": [
      "Validation score improved (0.5288456980332983 --> 0.5295124805240226). Saving model!\n"
     ]
    },
    {
     "name": "stderr",
     "output_type": "stream",
     "text": [
      "Train loss 0.7272843619187673 Valid loss 0.6974007754490293 ROC_score 0.5305235574213228 f1_score 0.5827926760254842 Utility_score 1119.6314383723397:  12%|█▏        | 24/200 [04:14<30:54, 10.54s/it]"
     ]
    },
    {
     "name": "stdout",
     "output_type": "stream",
     "text": [
      "Validation score improved (0.5295124805240226 --> 0.5305235574213228). Saving model!\n"
     ]
    },
    {
     "name": "stderr",
     "output_type": "stream",
     "text": [
      "Train loss 0.7380236950185564 Valid loss 0.6979952824526819 ROC_score 0.5310111379412088 f1_score 0.6003644411553204 Utility_score 917.7994443606643:  12%|█▎        | 25/200 [04:24<30:27, 10.44s/it] "
     ]
    },
    {
     "name": "stdout",
     "output_type": "stream",
     "text": [
      "Validation score improved (0.5305235574213228 --> 0.5310111379412088). Saving model!\n"
     ]
    },
    {
     "name": "stderr",
     "output_type": "stream",
     "text": [
      "Train loss 0.7274727291531033 Valid loss 0.6984892281992682 ROC_score 0.5319120489349319 f1_score 0.5854931859956712 Utility_score 1099.6320636782946:  13%|█▎        | 26/200 [04:35<30:09, 10.40s/it]"
     ]
    },
    {
     "name": "stdout",
     "output_type": "stream",
     "text": [
      "Validation score improved (0.5310111379412088 --> 0.5319120489349319). Saving model!\n"
     ]
    },
    {
     "name": "stderr",
     "output_type": "stream",
     "text": [
      "Train loss 0.7267666326628791 Valid loss 0.7016319283123674 ROC_score 0.5318291369978041 f1_score 0.5899215016575061 Utility_score 890.2352418786982:  14%|█▎        | 27/200 [04:45<30:02, 10.42s/it] "
     ]
    },
    {
     "name": "stdout",
     "output_type": "stream",
     "text": [
      "EarlyStopping counter: 1 out of 10\n"
     ]
    },
    {
     "name": "stderr",
     "output_type": "stream",
     "text": [
      "Train loss 0.7270214160283407 Valid loss 0.699892979243706 ROC_score 0.5325858223995457 f1_score 0.5850340630657486 Utility_score 1015.3091514485225:  14%|█▍        | 28/200 [04:55<29:43, 10.37s/it]"
     ]
    },
    {
     "name": "stdout",
     "output_type": "stream",
     "text": [
      "Validation score improved (0.5319120489349319 --> 0.5325858223995457). Saving model!\n"
     ]
    },
    {
     "name": "stderr",
     "output_type": "stream",
     "text": [
      "Train loss 0.7259536451763577 Valid loss 0.6975438841458025 ROC_score 0.5326225180680694 f1_score 0.582452547269868 Utility_score 839.2608522480647:  14%|█▍        | 29/200 [05:06<29:38, 10.40s/it] "
     ]
    },
    {
     "name": "stdout",
     "output_type": "stream",
     "text": [
      "Validation score improved (0.5325858223995457 --> 0.5326225180680694). Saving model!\n"
     ]
    },
    {
     "name": "stderr",
     "output_type": "stream",
     "text": [
      "Train loss 0.7207510504457686 Valid loss 0.6990988028460535 ROC_score 0.5329596116735451 f1_score 0.572004360154778 Utility_score 1181.1466464259865:  15%|█▌        | 30/200 [05:16<29:21, 10.36s/it]"
     ]
    },
    {
     "name": "stdout",
     "output_type": "stream",
     "text": [
      "Validation score improved (0.5326225180680694 --> 0.5329596116735451). Saving model!\n"
     ]
    },
    {
     "name": "stderr",
     "output_type": "stream",
     "text": [
      "Train loss 0.7209519412782457 Valid loss 0.699924725910713 ROC_score 0.5332347564357526 f1_score 0.5813984159199315 Utility_score 1120.061540473389:  16%|█▌        | 31/200 [05:26<29:09, 10.35s/it] "
     ]
    },
    {
     "name": "stdout",
     "output_type": "stream",
     "text": [
      "Validation score improved (0.5329596116735451 --> 0.5332347564357526). Saving model!\n"
     ]
    },
    {
     "name": "stderr",
     "output_type": "stream",
     "text": [
      "Train loss 0.7236531343724992 Valid loss 0.6981115546719782 ROC_score 0.5335636402107333 f1_score 0.5795845902810774 Utility_score 1388.7774509178785:  16%|█▌        | 32/200 [05:37<29:05, 10.39s/it]"
     ]
    },
    {
     "name": "stdout",
     "output_type": "stream",
     "text": [
      "Validation score improved (0.5332347564357526 --> 0.5335636402107333). Saving model!\n"
     ]
    },
    {
     "name": "stderr",
     "output_type": "stream",
     "text": [
      "Train loss 0.7278478410508897 Valid loss 0.6998028323568147 ROC_score 0.5335572742026689 f1_score 0.5741682492659103 Utility_score 1449.964820229667:  16%|█▋        | 33/200 [05:47<28:46, 10.34s/it] "
     ]
    },
    {
     "name": "stdout",
     "output_type": "stream",
     "text": [
      "EarlyStopping counter: 1 out of 10\n"
     ]
    },
    {
     "name": "stderr",
     "output_type": "stream",
     "text": [
      "Train loss 0.7304007411003113 Valid loss 0.6999992563806731 ROC_score 0.5335518678750063 f1_score 0.5777330660492505 Utility_score 1518.6935428352594:  17%|█▋        | 34/200 [05:57<28:34, 10.33s/it]"
     ]
    },
    {
     "name": "stdout",
     "output_type": "stream",
     "text": [
      "EarlyStopping counter: 2 out of 10\n"
     ]
    },
    {
     "name": "stderr",
     "output_type": "stream",
     "text": [
      "Train loss 0.7185509834024641 Valid loss 0.6992000012562193 ROC_score 0.5343631308251429 f1_score 0.5707949800230777 Utility_score 1250.4345826525541:  18%|█▊        | 35/200 [06:08<28:15, 10.27s/it]"
     ]
    },
    {
     "name": "stdout",
     "output_type": "stream",
     "text": [
      "Validation score improved (0.5335636402107333 --> 0.5343631308251429). Saving model!\n"
     ]
    },
    {
     "name": "stderr",
     "output_type": "stream",
     "text": [
      "Train loss 0.724711560540729 Valid loss 0.6988407229555065 ROC_score 0.5348357266571543 f1_score 0.5868857204892525 Utility_score 1211.5159084285722:  18%|█▊        | 36/200 [06:18<27:58, 10.24s/it] "
     ]
    },
    {
     "name": "stdout",
     "output_type": "stream",
     "text": [
      "Validation score improved (0.5343631308251429 --> 0.5348357266571543). Saving model!\n"
     ]
    },
    {
     "name": "stderr",
     "output_type": "stream",
     "text": [
      "Train loss 0.7233122289180756 Valid loss 0.7000920525912581 ROC_score 0.5352303553489637 f1_score 0.5873027353073063 Utility_score 1410.8832943827051:  18%|█▊        | 37/200 [06:28<27:52, 10.26s/it]"
     ]
    },
    {
     "name": "stdout",
     "output_type": "stream",
     "text": [
      "Validation score improved (0.5348357266571543 --> 0.5352303553489637). Saving model!\n"
     ]
    },
    {
     "name": "stderr",
     "output_type": "stream",
     "text": [
      "Train loss 0.727730929851532 Valid loss 0.6983693714799553 ROC_score 0.53544238273761 f1_score 0.5879540867354861 Utility_score 1494.3772838816437:  19%|█▉        | 38/200 [06:38<27:37, 10.23s/it]   "
     ]
    },
    {
     "name": "stdout",
     "output_type": "stream",
     "text": [
      "Validation score improved (0.5352303553489637 --> 0.53544238273761). Saving model!\n"
     ]
    },
    {
     "name": "stderr",
     "output_type": "stream",
     "text": [
      "Train loss 0.7222207817766402 Valid loss 0.7015978097915649 ROC_score 0.5350706529993404 f1_score 0.5732687042771869 Utility_score 1432.0032580658421:  20%|█▉        | 39/200 [06:49<27:35, 10.28s/it]"
     ]
    },
    {
     "name": "stdout",
     "output_type": "stream",
     "text": [
      "EarlyStopping counter: 1 out of 10\n"
     ]
    },
    {
     "name": "stderr",
     "output_type": "stream",
     "text": [
      "Train loss 0.7175635364320543 Valid loss 0.7021251629138815 ROC_score 0.535419277483313 f1_score 0.5864014445564443 Utility_score 1470.3295113019833:  20%|██        | 40/200 [06:59<27:23, 10.27s/it] "
     ]
    },
    {
     "name": "stdout",
     "output_type": "stream",
     "text": [
      "EarlyStopping counter: 2 out of 10\n"
     ]
    },
    {
     "name": "stderr",
     "output_type": "stream",
     "text": [
      "Train loss 0.7161472505993314 Valid loss 0.7057317598112698 ROC_score 0.5356909732367987 f1_score 0.5835015495358693 Utility_score 1377.879085737869:  20%|██        | 41/200 [07:09<27:05, 10.23s/it]"
     ]
    },
    {
     "name": "stdout",
     "output_type": "stream",
     "text": [
      "Validation score improved (0.53544238273761 --> 0.5356909732367987). Saving model!\n"
     ]
    },
    {
     "name": "stderr",
     "output_type": "stream",
     "text": [
      "Train loss 0.7187962863180373 Valid loss 0.7029114673877584 ROC_score 0.5356919134152202 f1_score 0.5783326323866864 Utility_score 1352.4376780999944:  21%|██        | 42/200 [07:19<27:02, 10.27s/it]"
     ]
    },
    {
     "name": "stdout",
     "output_type": "stream",
     "text": [
      "Validation score improved (0.5356909732367987 --> 0.5356919134152202). Saving model!\n"
     ]
    },
    {
     "name": "stderr",
     "output_type": "stream",
     "text": [
      "Train loss 0.7199353608820174 Valid loss 0.699213288981339 ROC_score 0.5359151508318419 f1_score 0.5717567222664285 Utility_score 1449.007905471944:  22%|██▏       | 43/200 [07:29<26:46, 10.23s/it]  "
     ]
    },
    {
     "name": "stdout",
     "output_type": "stream",
     "text": [
      "Validation score improved (0.5356919134152202 --> 0.5359151508318419). Saving model!\n"
     ]
    },
    {
     "name": "stderr",
     "output_type": "stream",
     "text": [
      "Train loss 0.7161540753311582 Valid loss 0.7002208602839503 ROC_score 0.5357764322956525 f1_score 0.5853070239167708 Utility_score 1461.0439238748518:  22%|██▏       | 44/200 [07:40<26:41, 10.27s/it]"
     ]
    },
    {
     "name": "stdout",
     "output_type": "stream",
     "text": [
      "EarlyStopping counter: 1 out of 10\n"
     ]
    },
    {
     "name": "stderr",
     "output_type": "stream",
     "text": [
      "Train loss 0.7158299717638228 Valid loss 0.7013054202342855 ROC_score 0.5360613609335075 f1_score 0.5711743237763394 Utility_score 1506.1694365690296:  22%|██▎       | 45/200 [07:50<26:25, 10.23s/it]"
     ]
    },
    {
     "name": "stdout",
     "output_type": "stream",
     "text": [
      "Validation score improved (0.5359151508318419 --> 0.5360613609335075). Saving model!\n"
     ]
    },
    {
     "name": "stderr",
     "output_type": "stream",
     "text": [
      "Train loss 0.7195680836836497 Valid loss 0.698906801897904 ROC_score 0.5364534628032882 f1_score 0.5694044469271212 Utility_score 1668.085769905684:  23%|██▎       | 46/200 [08:00<26:19, 10.25s/it]  "
     ]
    },
    {
     "name": "stdout",
     "output_type": "stream",
     "text": [
      "Validation score improved (0.5360613609335075 --> 0.5364534628032882). Saving model!\n"
     ]
    },
    {
     "name": "stderr",
     "output_type": "stream",
     "text": [
      "Train loss 0.7208026448885599 Valid loss 0.7004677653312683 ROC_score 0.5362239095158146 f1_score 0.5806843043885938 Utility_score 1667.8667473526214:  24%|██▎       | 47/200 [08:11<26:19, 10.32s/it]"
     ]
    },
    {
     "name": "stdout",
     "output_type": "stream",
     "text": [
      "EarlyStopping counter: 1 out of 10\n"
     ]
    },
    {
     "name": "stderr",
     "output_type": "stream",
     "text": [
      "Train loss 0.7200417055024041 Valid loss 0.7001582363556171 ROC_score 0.5363791118961045 f1_score 0.5703746640670285 Utility_score 1670.863918850921:  24%|██▍       | 48/200 [08:21<26:07, 10.31s/it] "
     ]
    },
    {
     "name": "stdout",
     "output_type": "stream",
     "text": [
      "EarlyStopping counter: 2 out of 10\n"
     ]
    },
    {
     "name": "stderr",
     "output_type": "stream",
     "text": [
      "Train loss 0.7221127053101858 Valid loss 0.7016769072105145 ROC_score 0.5369764911973267 f1_score 0.582160828883375 Utility_score 1683.344447364914:  24%|██▍       | 49/200 [08:31<25:53, 10.29s/it] "
     ]
    },
    {
     "name": "stdout",
     "output_type": "stream",
     "text": [
      "Validation score improved (0.5364534628032882 --> 0.5369764911973267). Saving model!\n"
     ]
    },
    {
     "name": "stderr",
     "output_type": "stream",
     "text": [
      "Train loss 0.7191622257232666 Valid loss 0.6994548234446295 ROC_score 0.5370700953013712 f1_score 0.5779574669747053 Utility_score 1609.789189946058:  25%|██▌       | 50/200 [08:42<25:45, 10.30s/it]"
     ]
    },
    {
     "name": "stdout",
     "output_type": "stream",
     "text": [
      "Validation score improved (0.5369764911973267 --> 0.5370700953013712). Saving model!\n"
     ]
    },
    {
     "name": "stderr",
     "output_type": "stream",
     "text": [
      "Train loss 0.7189152638117472 Valid loss 0.7043216434018366 ROC_score 0.5371876052740308 f1_score 0.5642759970040201 Utility_score 1620.6897042029973:  26%|██▌       | 51/200 [08:52<25:28, 10.26s/it]"
     ]
    },
    {
     "name": "stdout",
     "output_type": "stream",
     "text": [
      "Validation score improved (0.5370700953013712 --> 0.5371876052740308). Saving model!\n"
     ]
    },
    {
     "name": "stderr",
     "output_type": "stream",
     "text": [
      "Train loss 0.7158376773198446 Valid loss 0.7087128182937359 ROC_score 0.5367961785830242 f1_score 0.5816816695596012 Utility_score 1390.920113928087:  26%|██▌       | 52/200 [09:02<25:20, 10.27s/it] "
     ]
    },
    {
     "name": "stdout",
     "output_type": "stream",
     "text": [
      "EarlyStopping counter: 1 out of 10\n"
     ]
    },
    {
     "name": "stderr",
     "output_type": "stream",
     "text": [
      "Train loss 0.7217712534798516 Valid loss 0.6988796858951963 ROC_score 0.5369318776314502 f1_score 0.5802700675168793 Utility_score 1247.5356689278847:  26%|██▋       | 53/200 [09:12<25:03, 10.22s/it]"
     ]
    },
    {
     "name": "stdout",
     "output_type": "stream",
     "text": [
      "EarlyStopping counter: 2 out of 10\n"
     ]
    },
    {
     "name": "stderr",
     "output_type": "stream",
     "text": [
      "Train loss 0.7222719722323947 Valid loss 0.7038666749822682 ROC_score 0.5369347189912301 f1_score 0.5786691553758702 Utility_score 1243.8944359109682:  27%|██▋       | 54/200 [09:22<24:47, 10.19s/it]"
     ]
    },
    {
     "name": "stdout",
     "output_type": "stream",
     "text": [
      "EarlyStopping counter: 3 out of 10\n"
     ]
    },
    {
     "name": "stderr",
     "output_type": "stream",
     "text": [
      "Train loss 0.7143507103125254 Valid loss 0.7020083480867846 ROC_score 0.5366643605425537 f1_score 0.5711080259652546 Utility_score 1294.983613136317:  28%|██▊       | 55/200 [09:33<24:52, 10.29s/it] "
     ]
    },
    {
     "name": "stdout",
     "output_type": "stream",
     "text": [
      "EarlyStopping counter: 4 out of 10\n"
     ]
    },
    {
     "name": "stderr",
     "output_type": "stream",
     "text": [
      "Train loss 0.7177780800395541 Valid loss 0.7000216225097919 ROC_score 0.5368896288787051 f1_score 0.5522563038883943 Utility_score 1415.7193523920973:  28%|██▊       | 56/200 [09:43<24:38, 10.27s/it]"
     ]
    },
    {
     "name": "stdout",
     "output_type": "stream",
     "text": [
      "EarlyStopping counter: 5 out of 10\n",
      "Epoch    57: reducing learning rate of group 0 to 1.0000e-04.\n"
     ]
    },
    {
     "name": "stderr",
     "output_type": "stream",
     "text": [
      "Train loss 0.7180680566363864 Valid loss 0.7016590792557289 ROC_score 0.537086807633107 f1_score 0.5817458456668914 Utility_score 1309.8560902579975:  28%|██▊       | 57/200 [09:53<24:26, 10.26s/it] "
     ]
    },
    {
     "name": "stdout",
     "output_type": "stream",
     "text": [
      "EarlyStopping counter: 6 out of 10\n"
     ]
    },
    {
     "name": "stderr",
     "output_type": "stream",
     "text": [
      "Train loss 0.7161125606960721 Valid loss 0.7015517271798233 ROC_score 0.5370348466180999 f1_score 0.5806731111657739 Utility_score 1249.252607402545:  29%|██▉       | 58/200 [10:04<24:20, 10.29s/it]"
     ]
    },
    {
     "name": "stdout",
     "output_type": "stream",
     "text": [
      "EarlyStopping counter: 7 out of 10\n"
     ]
    },
    {
     "name": "stderr",
     "output_type": "stream",
     "text": [
      "Train loss 0.718488895230823 Valid loss 0.7004176028843584 ROC_score 0.5371976963120803 f1_score 0.5790679401055788 Utility_score 1298.1730056134807:  30%|██▉       | 59/200 [10:14<24:02, 10.23s/it]"
     ]
    },
    {
     "name": "stdout",
     "output_type": "stream",
     "text": [
      "Validation score improved (0.5371876052740308 --> 0.5371976963120803). Saving model!\n"
     ]
    },
    {
     "name": "stderr",
     "output_type": "stream",
     "text": [
      "Train loss 0.7147798273298476 Valid loss 0.699399130097751 ROC_score 0.5372176457794283 f1_score 0.5768526549098969 Utility_score 1303.334360100232:  30%|███       | 60/200 [10:24<23:56, 10.26s/it] "
     ]
    },
    {
     "name": "stdout",
     "output_type": "stream",
     "text": [
      "Validation score improved (0.5371976963120803 --> 0.5372176457794283). Saving model!\n"
     ]
    },
    {
     "name": "stderr",
     "output_type": "stream",
     "text": [
      "Train loss 0.7149317397011651 Valid loss 0.700171030800918 ROC_score 0.5373022110882338 f1_score 0.5759314660708056 Utility_score 1279.1244567600895:  30%|███       | 61/200 [10:34<23:43, 10.24s/it]"
     ]
    },
    {
     "name": "stdout",
     "output_type": "stream",
     "text": [
      "Validation score improved (0.5372176457794283 --> 0.5373022110882338). Saving model!\n"
     ]
    },
    {
     "name": "stderr",
     "output_type": "stream",
     "text": [
      "Train loss 0.7145892050531175 Valid loss 0.6996919348322111 ROC_score 0.5372321744973758 f1_score 0.5754058426464846 Utility_score 1433.1526872260706:  31%|███       | 62/200 [10:44<23:31, 10.22s/it]"
     ]
    },
    {
     "name": "stdout",
     "output_type": "stream",
     "text": [
      "EarlyStopping counter: 1 out of 10\n"
     ]
    },
    {
     "name": "stderr",
     "output_type": "stream",
     "text": [
      "Train loss 0.7206347054905362 Valid loss 0.700754623988579 ROC_score 0.5373009344774675 f1_score 0.5753339037910636 Utility_score 1392.2499814709051:  32%|███▏      | 63/200 [10:55<23:25, 10.26s/it] "
     ]
    },
    {
     "name": "stdout",
     "output_type": "stream",
     "text": [
      "EarlyStopping counter: 2 out of 10\n"
     ]
    },
    {
     "name": "stderr",
     "output_type": "stream",
     "text": [
      "Train loss 0.7174153195487128 Valid loss 0.7008471283419379 ROC_score 0.5373373855417035 f1_score 0.5739568560125401 Utility_score 1433.1042708488803:  32%|███▏      | 64/200 [11:05<23:15, 10.26s/it]"
     ]
    },
    {
     "name": "stdout",
     "output_type": "stream",
     "text": [
      "Validation score improved (0.5373022110882338 --> 0.5373373855417035). Saving model!\n"
     ]
    },
    {
     "name": "stderr",
     "output_type": "stream",
     "text": [
      "Train loss 0.715438938803143 Valid loss 0.7003521672610579 ROC_score 0.5372958997953331 f1_score 0.5739216073953316 Utility_score 1415.8093033906553:  32%|███▎      | 65/200 [11:15<23:07, 10.28s/it] "
     ]
    },
    {
     "name": "stdout",
     "output_type": "stream",
     "text": [
      "EarlyStopping counter: 1 out of 10\n"
     ]
    },
    {
     "name": "stderr",
     "output_type": "stream",
     "text": [
      "Train loss 0.7162089943885803 Valid loss 0.699964634303389 ROC_score 0.5373250514850505 f1_score 0.5740037066178417 Utility_score 1355.8384653785602:  33%|███▎      | 66/200 [11:26<22:51, 10.24s/it]"
     ]
    },
    {
     "name": "stdout",
     "output_type": "stream",
     "text": [
      "EarlyStopping counter: 2 out of 10\n"
     ]
    },
    {
     "name": "stderr",
     "output_type": "stream",
     "text": [
      "Train loss 0.7144807676474253 Valid loss 0.7012292187789391 ROC_score 0.5374331958795857 f1_score 0.573850520058327 Utility_score 1374.2535587753516:  34%|███▎      | 67/200 [11:36<22:38, 10.21s/it]"
     ]
    },
    {
     "name": "stdout",
     "output_type": "stream",
     "text": [
      "Validation score improved (0.5373373855417035 --> 0.5374331958795857). Saving model!\n"
     ]
    },
    {
     "name": "stderr",
     "output_type": "stream",
     "text": [
      "Train loss 0.7154479920864105 Valid loss 0.6999134195261988 ROC_score 0.5374191257843284 f1_score 0.5774411023855386 Utility_score 1432.1373007276427:  34%|███▍      | 68/200 [11:46<22:34, 10.26s/it]"
     ]
    },
    {
     "name": "stdout",
     "output_type": "stream",
     "text": [
      "EarlyStopping counter: 1 out of 10\n"
     ]
    },
    {
     "name": "stderr",
     "output_type": "stream",
     "text": [
      "Train loss 0.7145825028419495 Valid loss 0.7005160656468622 ROC_score 0.537357983564575 f1_score 0.5748697577008787 Utility_score 1478.579296818699:  34%|███▍      | 69/200 [11:56<22:18, 10.21s/it]  "
     ]
    },
    {
     "name": "stdout",
     "output_type": "stream",
     "text": [
      "EarlyStopping counter: 2 out of 10\n"
     ]
    },
    {
     "name": "stderr",
     "output_type": "stream",
     "text": [
      "Train loss 0.7194573746787177 Valid loss 0.7013945168462293 ROC_score 0.5373746126841905 f1_score 0.5716613050349288 Utility_score 1432.2749586534248:  35%|███▌      | 70/200 [12:06<22:11, 10.24s/it]"
     ]
    },
    {
     "name": "stdout",
     "output_type": "stream",
     "text": [
      "EarlyStopping counter: 3 out of 10\n"
     ]
    },
    {
     "name": "stderr",
     "output_type": "stream",
     "text": [
      "Train loss 0.7170237435234917 Valid loss 0.7010917334721006 ROC_score 0.5375266261121139 f1_score 0.5742934326967862 Utility_score 1329.72760796135:  36%|███▌      | 71/200 [12:17<21:58, 10.22s/it]  "
     ]
    },
    {
     "name": "stdout",
     "output_type": "stream",
     "text": [
      "Validation score improved (0.5374331958795857 --> 0.5375266261121139). Saving model!\n"
     ]
    },
    {
     "name": "stderr",
     "output_type": "stream",
     "text": [
      "Train loss 0.7135207421249814 Valid loss 0.7015671997234739 ROC_score 0.5374885544229887 f1_score 0.5760805825458918 Utility_score 1341.715480840767:  36%|███▌      | 72/200 [12:27<21:49, 10.23s/it]"
     ]
    },
    {
     "name": "stdout",
     "output_type": "stream",
     "text": [
      "EarlyStopping counter: 1 out of 10\n"
     ]
    },
    {
     "name": "stderr",
     "output_type": "stream",
     "text": [
      "Train loss 0.7151493032773336 Valid loss 0.7025705329303084 ROC_score 0.537497168904971 f1_score 0.5738893350015873 Utility_score 1443.078934661328:  36%|███▋      | 73/200 [12:37<21:43, 10.26s/it] "
     ]
    },
    {
     "name": "stdout",
     "output_type": "stream",
     "text": [
      "EarlyStopping counter: 2 out of 10\n"
     ]
    },
    {
     "name": "stderr",
     "output_type": "stream",
     "text": [
      "Train loss 0.7151851091119978 Valid loss 0.7007821880537888 ROC_score 0.5374205481943993 f1_score 0.5759515763674848 Utility_score 1344.002327790811:  37%|███▋      | 74/200 [12:47<21:29, 10.24s/it]"
     ]
    },
    {
     "name": "stdout",
     "output_type": "stream",
     "text": [
      "EarlyStopping counter: 3 out of 10\n"
     ]
    },
    {
     "name": "stderr",
     "output_type": "stream",
     "text": [
      "Train loss 0.7178450094328986 Valid loss 0.701306022446731 ROC_score 0.5376105399428733 f1_score 0.5733146928430983 Utility_score 1399.480018520938:  38%|███▊      | 75/200 [12:58<21:25, 10.28s/it] "
     ]
    },
    {
     "name": "stdout",
     "output_type": "stream",
     "text": [
      "Validation score improved (0.5375266261121139 --> 0.5376105399428733). Saving model!\n"
     ]
    },
    {
     "name": "stderr",
     "output_type": "stream",
     "text": [
      "Train loss 0.7151453627480401 Valid loss 0.7004439275840233 ROC_score 0.5375629801501791 f1_score 0.5742059084437222 Utility_score 1298.4395283595636:  38%|███▊      | 76/200 [13:08<21:15, 10.28s/it]"
     ]
    },
    {
     "name": "stdout",
     "output_type": "stream",
     "text": [
      "EarlyStopping counter: 1 out of 10\n"
     ]
    },
    {
     "name": "stderr",
     "output_type": "stream",
     "text": [
      "Train loss 0.7110500931739807 Valid loss 0.7029857841031305 ROC_score 0.5375057645918025 f1_score 0.5694293196676528 Utility_score 1426.9293888795237:  38%|███▊      | 77/200 [13:18<21:01, 10.26s/it]"
     ]
    },
    {
     "name": "stdout",
     "output_type": "stream",
     "text": [
      "EarlyStopping counter: 2 out of 10\n"
     ]
    },
    {
     "name": "stderr",
     "output_type": "stream",
     "text": [
      "Train loss 0.7187930014398363 Valid loss 0.7012916063440258 ROC_score 0.537449428672719 f1_score 0.5735661965100389 Utility_score 1337.828402448182:  39%|███▉      | 78/200 [13:29<20:55, 10.29s/it]  "
     ]
    },
    {
     "name": "stdout",
     "output_type": "stream",
     "text": [
      "EarlyStopping counter: 3 out of 10\n"
     ]
    },
    {
     "name": "stderr",
     "output_type": "stream",
     "text": [
      "Train loss 0.7166174120373197 Valid loss 0.7019450931713499 ROC_score 0.5375548848671228 f1_score 0.5764769165136424 Utility_score 1263.1687683094035:  40%|███▉      | 79/200 [13:39<20:41, 10.26s/it]"
     ]
    },
    {
     "name": "stdout",
     "output_type": "stream",
     "text": [
      "EarlyStopping counter: 4 out of 10\n"
     ]
    },
    {
     "name": "stderr",
     "output_type": "stream",
     "text": [
      "Train loss 0.7162764701578352 Valid loss 0.6997478501550083 ROC_score 0.5375796471635901 f1_score 0.5765830603545818 Utility_score 1213.496964887971:  40%|████      | 80/200 [13:49<20:35, 10.30s/it] "
     ]
    },
    {
     "name": "stdout",
     "output_type": "stream",
     "text": [
      "EarlyStopping counter: 5 out of 10\n",
      "Epoch    81: reducing learning rate of group 0 to 1.0000e-05.\n"
     ]
    },
    {
     "name": "stderr",
     "output_type": "stream",
     "text": [
      "Train loss 0.7166412538952298 Valid loss 0.7013063019719618 ROC_score 0.5376630794208274 f1_score 0.571354538285328 Utility_score 1367.5117492014222:  40%|████      | 81/200 [13:59<20:21, 10.27s/it]"
     ]
    },
    {
     "name": "stdout",
     "output_type": "stream",
     "text": [
      "Validation score improved (0.5376105399428733 --> 0.5376630794208274). Saving model!\n"
     ]
    },
    {
     "name": "stderr",
     "output_type": "stream",
     "text": [
      "Train loss 0.718930164972941 Valid loss 0.7009960227999193 ROC_score 0.5375462909207943 f1_score 0.5705798970525755 Utility_score 1343.7621933321743:  41%|████      | 82/200 [14:10<20:11, 10.27s/it]"
     ]
    },
    {
     "name": "stdout",
     "output_type": "stream",
     "text": [
      "EarlyStopping counter: 1 out of 10\n"
     ]
    },
    {
     "name": "stderr",
     "output_type": "stream",
     "text": [
      "Train loss 0.7159692082140181 Valid loss 0.7014408399318827 ROC_score 0.537636515096248 f1_score 0.5742589767594523 Utility_score 1308.4126335011279:  42%|████▏     | 83/200 [14:20<20:09, 10.34s/it]"
     ]
    },
    {
     "name": "stdout",
     "output_type": "stream",
     "text": [
      "EarlyStopping counter: 2 out of 10\n"
     ]
    },
    {
     "name": "stderr",
     "output_type": "stream",
     "text": [
      "Train loss 0.715105394522349 Valid loss 0.7034648348545206 ROC_score 0.5375721861616567 f1_score 0.5751357785879028 Utility_score 1405.911094733471:  42%|████▏     | 84/200 [14:31<20:02, 10.37s/it] "
     ]
    },
    {
     "name": "stdout",
     "output_type": "stream",
     "text": [
      "EarlyStopping counter: 3 out of 10\n"
     ]
    },
    {
     "name": "stderr",
     "output_type": "stream",
     "text": [
      "Train loss 0.7146295110384623 Valid loss 0.7013119089192358 ROC_score 0.5375567675544956 f1_score 0.5716266970530687 Utility_score 1368.447063837159:  42%|████▎     | 85/200 [14:41<19:56, 10.41s/it]"
     ]
    },
    {
     "name": "stdout",
     "output_type": "stream",
     "text": [
      "EarlyStopping counter: 4 out of 10\n"
     ]
    },
    {
     "name": "stderr",
     "output_type": "stream",
     "text": [
      "Train loss 0.7154145406352149 Valid loss 0.7011676471808861 ROC_score 0.5375759378650428 f1_score 0.5729823879436653 Utility_score 1211.920923350177:  43%|████▎     | 86/200 [14:51<19:42, 10.37s/it]"
     ]
    },
    {
     "name": "stdout",
     "output_type": "stream",
     "text": [
      "EarlyStopping counter: 5 out of 10\n"
     ]
    },
    {
     "name": "stderr",
     "output_type": "stream",
     "text": [
      "Train loss 0.7180499732494354 Valid loss 0.7029717872882711 ROC_score 0.5377080002073921 f1_score 0.5794404229061907 Utility_score 1241.7691490932516:  44%|████▎     | 87/200 [15:02<19:34, 10.39s/it]"
     ]
    },
    {
     "name": "stdout",
     "output_type": "stream",
     "text": [
      "Validation score improved (0.5376630794208274 --> 0.5377080002073921). Saving model!\n"
     ]
    },
    {
     "name": "stderr",
     "output_type": "stream",
     "text": [
      "Train loss 0.7158958978123136 Valid loss 0.7015902954956581 ROC_score 0.537571251126895 f1_score 0.5765067545769073 Utility_score 1237.7236832656004:  44%|████▍     | 88/200 [15:12<19:27, 10.42s/it] "
     ]
    },
    {
     "name": "stdout",
     "output_type": "stream",
     "text": [
      "EarlyStopping counter: 1 out of 10\n"
     ]
    },
    {
     "name": "stderr",
     "output_type": "stream",
     "text": [
      "Train loss 0.7144562436474694 Valid loss 0.7024243001280159 ROC_score 0.5375486215143923 f1_score 0.5723820070032622 Utility_score 1322.9514540571083:  44%|████▍     | 89/200 [15:23<19:13, 10.39s/it]"
     ]
    },
    {
     "name": "stdout",
     "output_type": "stream",
     "text": [
      "EarlyStopping counter: 2 out of 10\n"
     ]
    },
    {
     "name": "stderr",
     "output_type": "stream",
     "text": [
      "Train loss 0.7189379201995002 Valid loss 0.7015977686849134 ROC_score 0.5376349185140972 f1_score 0.5739131731281754 Utility_score 1398.164426521951:  45%|████▌     | 90/200 [15:33<19:07, 10.43s/it] "
     ]
    },
    {
     "name": "stdout",
     "output_type": "stream",
     "text": [
      "EarlyStopping counter: 3 out of 10\n"
     ]
    },
    {
     "name": "stderr",
     "output_type": "stream",
     "text": [
      "Train loss 0.717588742574056 Valid loss 0.7013107599883244 ROC_score 0.5376565567390139 f1_score 0.5719328354573626 Utility_score 1327.9212293980581:  46%|████▌     | 91/200 [15:43<18:52, 10.39s/it]"
     ]
    },
    {
     "name": "stdout",
     "output_type": "stream",
     "text": [
      "EarlyStopping counter: 4 out of 10\n"
     ]
    },
    {
     "name": "stderr",
     "output_type": "stream",
     "text": [
      "Train loss 0.7115624315208859 Valid loss 0.7017708544073433 ROC_score 0.5376448906009229 f1_score 0.5752494920854636 Utility_score 1339.352938592678:  46%|████▌     | 92/200 [15:54<18:38, 10.35s/it]"
     ]
    },
    {
     "name": "stdout",
     "output_type": "stream",
     "text": [
      "EarlyStopping counter: 5 out of 10\n",
      "Epoch    93: reducing learning rate of group 0 to 1.0000e-06.\n"
     ]
    },
    {
     "name": "stderr",
     "output_type": "stream",
     "text": [
      "Train loss 0.7137698829174042 Valid loss 0.7008548625584307 ROC_score 0.5377018268365583 f1_score 0.5774667164825084 Utility_score 1383.4143830968699:  46%|████▋     | 93/200 [16:04<18:31, 10.39s/it]"
     ]
    },
    {
     "name": "stdout",
     "output_type": "stream",
     "text": [
      "EarlyStopping counter: 6 out of 10\n"
     ]
    },
    {
     "name": "stderr",
     "output_type": "stream",
     "text": [
      "Train loss 0.71712436609798 Valid loss 0.701210642683095 ROC_score 0.5376469313115821 f1_score 0.5759550787125238 Utility_score 1382.0155332365853:  47%|████▋     | 94/200 [16:14<18:17, 10.35s/it]   "
     ]
    },
    {
     "name": "stdout",
     "output_type": "stream",
     "text": [
      "EarlyStopping counter: 7 out of 10\n"
     ]
    },
    {
     "name": "stderr",
     "output_type": "stream",
     "text": [
      "Train loss 0.7134892642498016 Valid loss 0.7011679678127684 ROC_score 0.5376848096742672 f1_score 0.5754059979932364 Utility_score 1320.1269439512262:  48%|████▊     | 95/200 [16:25<18:13, 10.42s/it]"
     ]
    },
    {
     "name": "stdout",
     "output_type": "stream",
     "text": [
      "EarlyStopping counter: 8 out of 10\n"
     ]
    },
    {
     "name": "stderr",
     "output_type": "stream",
     "text": [
      "Train loss 0.7166986465454102 Valid loss 0.7008358363447518 ROC_score 0.5376305443122851 f1_score 0.5727499962581012 Utility_score 1373.3666795539452:  48%|████▊     | 96/200 [16:35<18:01, 10.40s/it]"
     ]
    },
    {
     "name": "stdout",
     "output_type": "stream",
     "text": [
      "EarlyStopping counter: 9 out of 10\n"
     ]
    },
    {
     "name": "stderr",
     "output_type": "stream",
     "text": [
      "Train loss 0.7166986465454102 Valid loss 0.7008358363447518 ROC_score 0.5376305443122851 f1_score 0.5727499962581012 Utility_score 1373.3666795539452:  48%|████▊     | 96/200 [16:46<18:10, 10.48s/it]"
     ]
    },
    {
     "name": "stdout",
     "output_type": "stream",
     "text": [
      "EarlyStopping counter: 10 out of 10\n",
      "Early stopping\n",
      "Fold: 1\n"
     ]
    },
    {
     "name": "stderr",
     "output_type": "stream",
     "text": [
      "\n",
      "Train loss 0.7793364589628966 Valid loss 0.706130609367833 ROC_score 0.5312901101152542 f1_score 0.5422798030395481 Utility_score 119.26793315124333:   0%|          | 1/200 [00:17<56:51, 17.14s/it]"
     ]
    },
    {
     "name": "stdout",
     "output_type": "stream",
     "text": [
      "Validation score improved (-inf --> 0.5312901101152542). Saving model!\n",
      "Epoch    99: reducing learning rate of group 0 to 1.0000e-07.\n"
     ]
    },
    {
     "name": "stderr",
     "output_type": "stream",
     "text": [
      "Train loss 0.772805401812429 Valid loss 0.7044956684112549 ROC_score 0.5314622492592868 f1_score 0.5553344896192877 Utility_score 104.67779715030095:   1%|          | 2/200 [00:34<56:39, 17.17s/it]"
     ]
    },
    {
     "name": "stdout",
     "output_type": "stream",
     "text": [
      "Validation score improved (0.5312901101152542 --> 0.5314622492592868). Saving model!\n"
     ]
    },
    {
     "name": "stderr",
     "output_type": "stream",
     "text": [
      "Train loss 0.7751173584357552 Valid loss 0.7067987449241407 ROC_score 0.5314308223181374 f1_score 0.550599757589267 Utility_score 89.4186348855857:   2%|▏         | 3/200 [00:51<56:20, 17.16s/it]  "
     ]
    },
    {
     "name": "stdout",
     "output_type": "stream",
     "text": [
      "EarlyStopping counter: 1 out of 10\n"
     ]
    },
    {
     "name": "stderr",
     "output_type": "stream",
     "text": [
      "Train loss 0.7762968371743741 Valid loss 0.7061811884244283 ROC_score 0.5313721725937658 f1_score 0.5573967380301217 Utility_score 89.94475366731415:   2%|▏         | 4/200 [01:08<56:07, 17.18s/it]"
     ]
    },
    {
     "name": "stdout",
     "output_type": "stream",
     "text": [
      "EarlyStopping counter: 2 out of 10\n"
     ]
    },
    {
     "name": "stderr",
     "output_type": "stream",
     "text": [
      "Train loss 0.7693684114062268 Valid loss 0.7097935694636721 ROC_score 0.5314150869058194 f1_score 0.5671964565752491 Utility_score 70.4518288485002:   2%|▎         | 5/200 [01:25<55:49, 17.18s/it] "
     ]
    },
    {
     "name": "stdout",
     "output_type": "stream",
     "text": [
      "EarlyStopping counter: 3 out of 10\n"
     ]
    },
    {
     "name": "stderr",
     "output_type": "stream",
     "text": [
      "Train loss 0.7695240248804507 Valid loss 0.7074624552871241 ROC_score 0.5313797703935719 f1_score 0.5641799222758498 Utility_score 64.65595947802257:   3%|▎         | 6/200 [01:43<55:45, 17.25s/it]"
     ]
    },
    {
     "name": "stdout",
     "output_type": "stream",
     "text": [
      "EarlyStopping counter: 4 out of 10\n"
     ]
    },
    {
     "name": "stderr",
     "output_type": "stream",
     "text": [
      "Train loss 0.7799970922262772 Valid loss 0.7076752185821533 ROC_score 0.5311993261524723 f1_score 0.5565163596370634 Utility_score 51.07485927770701:   4%|▎         | 7/200 [02:00<55:26, 17.23s/it]"
     ]
    },
    {
     "name": "stdout",
     "output_type": "stream",
     "text": [
      "EarlyStopping counter: 5 out of 10\n",
      "Epoch   105: reducing learning rate of group 0 to 1.0000e-08.\n"
     ]
    },
    {
     "name": "stderr",
     "output_type": "stream",
     "text": [
      "Train loss 0.7740628486094268 Valid loss 0.7091907858848572 ROC_score 0.5311309563619104 f1_score 0.5609639931415508 Utility_score 91.51570190143613:   4%|▍         | 8/200 [02:17<55:12, 17.25s/it]"
     ]
    },
    {
     "name": "stdout",
     "output_type": "stream",
     "text": [
      "EarlyStopping counter: 6 out of 10\n"
     ]
    },
    {
     "name": "stderr",
     "output_type": "stream",
     "text": [
      "Train loss 0.7706642669180165 Valid loss 0.7075583772225813 ROC_score 0.5314420808259545 f1_score 0.5583453286722873 Utility_score 82.17352432932798:   4%|▍         | 9/200 [02:35<54:53, 17.24s/it]"
     ]
    },
    {
     "name": "stdout",
     "output_type": "stream",
     "text": [
      "EarlyStopping counter: 7 out of 10\n"
     ]
    },
    {
     "name": "stderr",
     "output_type": "stream",
     "text": [
      "Train loss 0.7750515199225881 Valid loss 0.707851742253159 ROC_score 0.5313008480838675 f1_score 0.5542405017388871 Utility_score 75.11819673591009:   5%|▌         | 10/200 [02:52<54:32, 17.22s/it]"
     ]
    },
    {
     "name": "stdout",
     "output_type": "stream",
     "text": [
      "EarlyStopping counter: 8 out of 10\n"
     ]
    },
    {
     "name": "stderr",
     "output_type": "stream",
     "text": [
      "Train loss 0.7727645752222642 Valid loss 0.7060307192079949 ROC_score 0.5314516473688219 f1_score 0.5651153062463735 Utility_score 56.715520648015065:   6%|▌         | 11/200 [03:09<54:12, 17.21s/it]"
     ]
    },
    {
     "name": "stdout",
     "output_type": "stream",
     "text": [
      "EarlyStopping counter: 9 out of 10\n"
     ]
    },
    {
     "name": "stderr",
     "output_type": "stream",
     "text": [
      "Train loss 0.7718852227148802 Valid loss 0.7056481982722427 ROC_score 0.5315503889415678 f1_score 0.5589305998439831 Utility_score 89.12927840607813:   6%|▌         | 12/200 [03:26<53:56, 17.21s/it] "
     ]
    },
    {
     "name": "stdout",
     "output_type": "stream",
     "text": [
      "Validation score improved (0.5314622492592868 --> 0.5315503889415678). Saving model!\n"
     ]
    },
    {
     "name": "stderr",
     "output_type": "stream",
     "text": [
      "Train loss 0.773248421109241 Valid loss 0.7064430207917185 ROC_score 0.5313666625620923 f1_score 0.5605447272108265 Utility_score 72.3442764911494:   6%|▋         | 13/200 [03:43<53:42, 17.23s/it]  "
     ]
    },
    {
     "name": "stdout",
     "output_type": "stream",
     "text": [
      "EarlyStopping counter: 1 out of 10\n"
     ]
    },
    {
     "name": "stderr",
     "output_type": "stream",
     "text": [
      "Train loss 0.775879971359087 Valid loss 0.7106000528191075 ROC_score 0.531167985245387 f1_score 0.5479328278494756 Utility_score 87.90762490095803:   7%|▋         | 14/200 [04:01<53:21, 17.21s/it]"
     ]
    },
    {
     "name": "stdout",
     "output_type": "stream",
     "text": [
      "EarlyStopping counter: 2 out of 10\n"
     ]
    },
    {
     "name": "stderr",
     "output_type": "stream",
     "text": [
      "Train loss 0.7723118053830188 Valid loss 0.7092560764515039 ROC_score 0.5313907432444425 f1_score 0.5678412855973923 Utility_score 60.991880891708455:   8%|▊         | 15/200 [04:18<53:11, 17.25s/it]"
     ]
    },
    {
     "name": "stdout",
     "output_type": "stream",
     "text": [
      "EarlyStopping counter: 3 out of 10\n"
     ]
    },
    {
     "name": "stderr",
     "output_type": "stream",
     "text": [
      "Train loss 0.778587308914765 Valid loss 0.7085066419659238 ROC_score 0.531345365122855 f1_score 0.5561285040540215 Utility_score 81.6863375994158:   8%|▊         | 16/200 [04:35<52:53, 17.25s/it]    "
     ]
    },
    {
     "name": "stdout",
     "output_type": "stream",
     "text": [
      "EarlyStopping counter: 4 out of 10\n"
     ]
    },
    {
     "name": "stderr",
     "output_type": "stream",
     "text": [
      "Train loss 0.7708817150281824 Valid loss 0.7079341899264943 ROC_score 0.5313443610941002 f1_score 0.57175722758584 Utility_score 89.26971394260475:   8%|▊         | 17/200 [04:53<52:44, 17.29s/it]"
     ]
    },
    {
     "name": "stdout",
     "output_type": "stream",
     "text": [
      "EarlyStopping counter: 5 out of 10\n"
     ]
    },
    {
     "name": "stderr",
     "output_type": "stream",
     "text": [
      "Train loss 0.7675656676292419 Valid loss 0.7056013941764832 ROC_score 0.5314925463425049 f1_score 0.5492654411199139 Utility_score 81.642029790837:   9%|▉         | 18/200 [05:10<52:29, 17.30s/it]"
     ]
    },
    {
     "name": "stdout",
     "output_type": "stream",
     "text": [
      "EarlyStopping counter: 6 out of 10\n"
     ]
    },
    {
     "name": "stderr",
     "output_type": "stream",
     "text": [
      "Train loss 0.7710881116597549 Valid loss 0.7081412203384169 ROC_score 0.5314085780360817 f1_score 0.5593224971133022 Utility_score 52.83591171865944:  10%|▉         | 19/200 [05:27<52:11, 17.30s/it]"
     ]
    },
    {
     "name": "stdout",
     "output_type": "stream",
     "text": [
      "EarlyStopping counter: 7 out of 10\n"
     ]
    },
    {
     "name": "stderr",
     "output_type": "stream",
     "text": [
      "Train loss 0.7727605350639509 Valid loss 0.7058340600042632 ROC_score 0.5314897002622792 f1_score 0.5593325198333352 Utility_score 48.500740470109115:  10%|█         | 20/200 [05:44<51:49, 17.28s/it]"
     ]
    },
    {
     "name": "stdout",
     "output_type": "stream",
     "text": [
      "EarlyStopping counter: 8 out of 10\n"
     ]
    },
    {
     "name": "stderr",
     "output_type": "stream",
     "text": [
      "Train loss 0.782904863357544 Valid loss 0.7085334189010389 ROC_score 0.531241069329821 f1_score 0.5548117414561973 Utility_score 85.75395648764636:  10%|█         | 21/200 [06:02<51:26, 17.24s/it]   "
     ]
    },
    {
     "name": "stdout",
     "output_type": "stream",
     "text": [
      "EarlyStopping counter: 9 out of 10\n"
     ]
    },
    {
     "name": "stderr",
     "output_type": "stream",
     "text": [
      "Train loss 0.782904863357544 Valid loss 0.7085334189010389 ROC_score 0.531241069329821 f1_score 0.5548117414561973 Utility_score 85.75395648764636:  10%|█         | 21/200 [06:19<53:53, 18.06s/it]"
     ]
    },
    {
     "name": "stdout",
     "output_type": "stream",
     "text": [
      "EarlyStopping counter: 10 out of 10\n",
      "Early stopping\n",
      "Fold: 2\n"
     ]
    },
    {
     "name": "stderr",
     "output_type": "stream",
     "text": [
      "\n",
      "Train loss 0.7635118459400377 Valid loss 0.7024703965042577 ROC_score 0.5377248321245552 f1_score 0.5886027185303322 Utility_score 1151.0882768670544:   0%|          | 1/200 [00:24<1:19:46, 24.05s/it]"
     ]
    },
    {
     "name": "stdout",
     "output_type": "stream",
     "text": [
      "Validation score improved (-inf --> 0.5377248321245552). Saving model!\n"
     ]
    },
    {
     "name": "stderr",
     "output_type": "stream",
     "text": [
      "Train loss 0.7721181825587624 Valid loss 0.6994858113202181 ROC_score 0.5377032389929244 f1_score 0.5902355839070297 Utility_score 1193.5982514642594:   1%|          | 2/200 [00:48<1:19:29, 24.09s/it]"
     ]
    },
    {
     "name": "stdout",
     "output_type": "stream",
     "text": [
      "EarlyStopping counter: 1 out of 10\n"
     ]
    },
    {
     "name": "stderr",
     "output_type": "stream",
     "text": [
      "Train loss 0.7641145453641289 Valid loss 0.701234114892555 ROC_score 0.5377242417559431 f1_score 0.5934219909173933 Utility_score 1021.4842101001276:   2%|▏         | 3/200 [01:12<1:19:01, 24.07s/it] "
     ]
    },
    {
     "name": "stdout",
     "output_type": "stream",
     "text": [
      "EarlyStopping counter: 2 out of 10\n"
     ]
    },
    {
     "name": "stderr",
     "output_type": "stream",
     "text": [
      "Train loss 0.758762967429663 Valid loss 0.7016859488053755 ROC_score 0.5377164805046434 f1_score 0.5926316152560496 Utility_score 996.4006401497501:   2%|▏         | 4/200 [01:36<1:18:34, 24.05s/it] "
     ]
    },
    {
     "name": "stdout",
     "output_type": "stream",
     "text": [
      "EarlyStopping counter: 3 out of 10\n"
     ]
    },
    {
     "name": "stderr",
     "output_type": "stream",
     "text": [
      "Train loss 0.7732648614205813 Valid loss 0.701484374927752 ROC_score 0.537719931263999 f1_score 0.5897522561651667 Utility_score 1169.337336430871:   2%|▎         | 5/200 [02:00<1:18:12, 24.06s/it] "
     ]
    },
    {
     "name": "stdout",
     "output_type": "stream",
     "text": [
      "EarlyStopping counter: 4 out of 10\n"
     ]
    },
    {
     "name": "stderr",
     "output_type": "stream",
     "text": [
      "Train loss 0.7668434585395613 Valid loss 0.7005247726584926 ROC_score 0.5377379615705071 f1_score 0.5825525820311871 Utility_score 1128.0401434400387:   3%|▎         | 6/200 [02:24<1:17:56, 24.10s/it]"
     ]
    },
    {
     "name": "stdout",
     "output_type": "stream",
     "text": [
      "Validation score improved (0.5377248321245552 --> 0.5377379615705071). Saving model!\n"
     ]
    },
    {
     "name": "stderr",
     "output_type": "stream",
     "text": [
      "Train loss 0.7619284642370123 Valid loss 0.7010328101389336 ROC_score 0.5377269199168966 f1_score 0.5904548679542766 Utility_score 1090.61083078534:   4%|▎         | 7/200 [02:48<1:17:26, 24.07s/it]  "
     ]
    },
    {
     "name": "stdout",
     "output_type": "stream",
     "text": [
      "EarlyStopping counter: 1 out of 10\n"
     ]
    },
    {
     "name": "stderr",
     "output_type": "stream",
     "text": [
      "Train loss 0.7637228965759277 Valid loss 0.701686958471934 ROC_score 0.5376635296012836 f1_score 0.5924339309626777 Utility_score 1025.2361566179077:   4%|▍         | 8/200 [03:12<1:16:59, 24.06s/it]"
     ]
    },
    {
     "name": "stdout",
     "output_type": "stream",
     "text": [
      "EarlyStopping counter: 2 out of 10\n"
     ]
    },
    {
     "name": "stderr",
     "output_type": "stream",
     "text": [
      "Train loss 0.7637900953230105 Valid loss 0.7012215690179304 ROC_score 0.5376048361852879 f1_score 0.5872390742559622 Utility_score 1090.2065886688529:   4%|▍         | 9/200 [03:36<1:16:35, 24.06s/it]"
     ]
    },
    {
     "name": "stdout",
     "output_type": "stream",
     "text": [
      "EarlyStopping counter: 3 out of 10\n"
     ]
    },
    {
     "name": "stderr",
     "output_type": "stream",
     "text": [
      "Train loss 0.7655967787692421 Valid loss 0.7001557386282719 ROC_score 0.5377417577846111 f1_score 0.5896224178533609 Utility_score 1144.6714075488185:   5%|▌         | 10/200 [04:00<1:15:58, 23.99s/it]"
     ]
    },
    {
     "name": "stdout",
     "output_type": "stream",
     "text": [
      "Validation score improved (0.5377379615705071 --> 0.5377417577846111). Saving model!\n"
     ]
    },
    {
     "name": "stderr",
     "output_type": "stream",
     "text": [
      "Train loss 0.7605782864909423 Valid loss 0.7013865330002524 ROC_score 0.5377380041896155 f1_score 0.5905494934977338 Utility_score 1100.0685660414242:   6%|▌         | 11/200 [04:24<1:15:37, 24.01s/it]"
     ]
    },
    {
     "name": "stdout",
     "output_type": "stream",
     "text": [
      "EarlyStopping counter: 1 out of 10\n"
     ]
    },
    {
     "name": "stderr",
     "output_type": "stream",
     "text": [
      "Train loss 0.7677518529327292 Valid loss 0.7016435518409266 ROC_score 0.5377343996201676 f1_score 0.5893027184521306 Utility_score 1146.938494378271:   6%|▌         | 12/200 [04:48<1:15:11, 24.00s/it] "
     ]
    },
    {
     "name": "stdout",
     "output_type": "stream",
     "text": [
      "EarlyStopping counter: 2 out of 10\n"
     ]
    },
    {
     "name": "stderr",
     "output_type": "stream",
     "text": [
      "Train loss 0.7619408518075943 Valid loss 0.7002881530559424 ROC_score 0.5376707793810798 f1_score 0.588613950777243 Utility_score 1143.1352686379507:   6%|▋         | 13/200 [05:12<1:14:55, 24.04s/it]"
     ]
    },
    {
     "name": "stdout",
     "output_type": "stream",
     "text": [
      "EarlyStopping counter: 3 out of 10\n"
     ]
    },
    {
     "name": "stderr",
     "output_type": "stream",
     "text": [
      "Train loss 0.7685674217186476 Valid loss 0.7011573441100843 ROC_score 0.5376616468434371 f1_score 0.5898763819063759 Utility_score 1082.8359630342436:   7%|▋         | 14/200 [05:37<1:15:03, 24.21s/it]"
     ]
    },
    {
     "name": "stdout",
     "output_type": "stream",
     "text": [
      "EarlyStopping counter: 4 out of 10\n"
     ]
    },
    {
     "name": "stderr",
     "output_type": "stream",
     "text": [
      "Train loss 0.7630473524332047 Valid loss 0.7015783028169111 ROC_score 0.537803704973338 f1_score 0.5918272433601066 Utility_score 1066.7056467695202:   8%|▊         | 15/200 [06:01<1:14:48, 24.26s/it] "
     ]
    },
    {
     "name": "stdout",
     "output_type": "stream",
     "text": [
      "Validation score improved (0.5377417577846111 --> 0.537803704973338). Saving model!\n"
     ]
    },
    {
     "name": "stderr",
     "output_type": "stream",
     "text": [
      "Train loss 0.7623750010603353 Valid loss 0.7009373379476143 ROC_score 0.5378064778029213 f1_score 0.5879302081250336 Utility_score 1124.2121059775982:   8%|▊         | 16/200 [06:25<1:14:06, 24.16s/it]"
     ]
    },
    {
     "name": "stdout",
     "output_type": "stream",
     "text": [
      "Validation score improved (0.537803704973338 --> 0.5378064778029213). Saving model!\n"
     ]
    },
    {
     "name": "stderr",
     "output_type": "stream",
     "text": [
      "Train loss 0.7759460720576739 Valid loss 0.7032185431682703 ROC_score 0.5377204191529057 f1_score 0.5919699864260217 Utility_score 1161.2883019773647:   8%|▊         | 17/200 [06:49<1:13:39, 24.15s/it]"
     ]
    },
    {
     "name": "stdout",
     "output_type": "stream",
     "text": [
      "EarlyStopping counter: 1 out of 10\n"
     ]
    },
    {
     "name": "stderr",
     "output_type": "stream",
     "text": [
      "Train loss 0.7655423675712786 Valid loss 0.7005428111914432 ROC_score 0.5377950201915922 f1_score 0.5887335901464849 Utility_score 1093.8208820076366:   9%|▉         | 18/200 [07:13<1:13:11, 24.13s/it]"
     ]
    },
    {
     "name": "stdout",
     "output_type": "stream",
     "text": [
      "EarlyStopping counter: 2 out of 10\n"
     ]
    },
    {
     "name": "stderr",
     "output_type": "stream",
     "text": [
      "Train loss 0.7641445382645256 Valid loss 0.7003924774401116 ROC_score 0.5377506697860863 f1_score 0.595156701371468 Utility_score 1050.9583813637944:  10%|▉         | 19/200 [07:37<1:12:30, 24.04s/it] "
     ]
    },
    {
     "name": "stdout",
     "output_type": "stream",
     "text": [
      "EarlyStopping counter: 3 out of 10\n"
     ]
    },
    {
     "name": "stderr",
     "output_type": "stream",
     "text": [
      "Train loss 0.7661373050589311 Valid loss 0.7021916219682405 ROC_score 0.5376830463677992 f1_score 0.5925477489233163 Utility_score 1067.459273324982:  10%|█         | 20/200 [08:01<1:12:14, 24.08s/it]"
     ]
    },
    {
     "name": "stdout",
     "output_type": "stream",
     "text": [
      "EarlyStopping counter: 4 out of 10\n"
     ]
    },
    {
     "name": "stderr",
     "output_type": "stream",
     "text": [
      "Train loss 0.7651115671584481 Valid loss 0.6991393855123809 ROC_score 0.5376737960557618 f1_score 0.5972971717828449 Utility_score 1026.0521179659158:  10%|█         | 21/200 [08:25<1:11:53, 24.10s/it]"
     ]
    },
    {
     "name": "stdout",
     "output_type": "stream",
     "text": [
      "EarlyStopping counter: 5 out of 10\n"
     ]
    },
    {
     "name": "stderr",
     "output_type": "stream",
     "text": [
      "Train loss 0.7639279749832655 Valid loss 0.7002794869018324 ROC_score 0.5377573460133072 f1_score 0.5901269215608987 Utility_score 1020.6820526063647:  11%|█         | 22/200 [08:49<1:11:24, 24.07s/it]"
     ]
    },
    {
     "name": "stdout",
     "output_type": "stream",
     "text": [
      "EarlyStopping counter: 6 out of 10\n"
     ]
    },
    {
     "name": "stderr",
     "output_type": "stream",
     "text": [
      "Train loss 0.7631961162153044 Valid loss 0.699683938965653 ROC_score 0.5377801743166268 f1_score 0.5875987660400497 Utility_score 1232.6129902038138:  12%|█▏        | 23/200 [09:14<1:11:03, 24.09s/it] "
     ]
    },
    {
     "name": "stdout",
     "output_type": "stream",
     "text": [
      "EarlyStopping counter: 7 out of 10\n"
     ]
    },
    {
     "name": "stderr",
     "output_type": "stream",
     "text": [
      "Train loss 0.7668093105680064 Valid loss 0.699204835024747 ROC_score 0.5377324530070304 f1_score 0.5869882831523763 Utility_score 1107.3259335038256:  12%|█▏        | 24/200 [09:38<1:10:45, 24.12s/it]"
     ]
    },
    {
     "name": "stdout",
     "output_type": "stream",
     "text": [
      "EarlyStopping counter: 8 out of 10\n"
     ]
    },
    {
     "name": "stderr",
     "output_type": "stream",
     "text": [
      "Train loss 0.7584548592567444 Valid loss 0.7002750111348701 ROC_score 0.5376731519849058 f1_score 0.5955616111090372 Utility_score 981.4242450764533:  12%|█▎        | 25/200 [10:02<1:10:08, 24.05s/it]"
     ]
    },
    {
     "name": "stdout",
     "output_type": "stream",
     "text": [
      "EarlyStopping counter: 9 out of 10\n"
     ]
    },
    {
     "name": "stderr",
     "output_type": "stream",
     "text": [
      "Train loss 0.7584548592567444 Valid loss 0.7002750111348701 ROC_score 0.5376731519849058 f1_score 0.5955616111090372 Utility_score 981.4242450764533:  12%|█▎        | 25/200 [10:26<1:13:03, 25.05s/it]"
     ]
    },
    {
     "name": "stdout",
     "output_type": "stream",
     "text": [
      "EarlyStopping counter: 10 out of 10\n",
      "Early stopping\n",
      "Fold: 3\n"
     ]
    },
    {
     "name": "stderr",
     "output_type": "stream",
     "text": [
      "\n",
      "Train loss 0.7598630862498502 Valid loss 0.7013803907803127 ROC_score 0.5344040350460527 f1_score 0.5653004306773841 Utility_score 114.70974893616082:   0%|          | 1/200 [00:31<1:44:11, 31.41s/it]"
     ]
    },
    {
     "name": "stdout",
     "output_type": "stream",
     "text": [
      "Validation score improved (-inf --> 0.5344040350460527). Saving model!\n"
     ]
    },
    {
     "name": "stderr",
     "output_type": "stream",
     "text": [
      "Train loss 0.7622330615279871 Valid loss 0.7007651226861137 ROC_score 0.5344388279080151 f1_score 0.5667659433650072 Utility_score 158.34302463477027:   1%|          | 2/200 [01:02<1:43:29, 31.36s/it]"
     ]
    },
    {
     "name": "stdout",
     "output_type": "stream",
     "text": [
      "Validation score improved (0.5344040350460527 --> 0.5344388279080151). Saving model!\n"
     ]
    },
    {
     "name": "stderr",
     "output_type": "stream",
     "text": [
      "Train loss 0.75963357938539 Valid loss 0.7003287894385202 ROC_score 0.5344231345076486 f1_score 0.5650452524460354 Utility_score 163.0208645997768:   2%|▏         | 3/200 [01:33<1:42:45, 31.30s/it]   "
     ]
    },
    {
     "name": "stdout",
     "output_type": "stream",
     "text": [
      "EarlyStopping counter: 1 out of 10\n"
     ]
    },
    {
     "name": "stderr",
     "output_type": "stream",
     "text": [
      "Train loss 0.76674326625439 Valid loss 0.7022800581795828 ROC_score 0.5344091280701547 f1_score 0.5674928185755322 Utility_score 66.62099057398888:   2%|▏         | 4/200 [02:05<1:42:18, 31.32s/it]"
     ]
    },
    {
     "name": "stdout",
     "output_type": "stream",
     "text": [
      "EarlyStopping counter: 2 out of 10\n"
     ]
    },
    {
     "name": "stderr",
     "output_type": "stream",
     "text": [
      "Train loss 0.7603540108838213 Valid loss 0.7031876768384661 ROC_score 0.5343937628312664 f1_score 0.5652395337434957 Utility_score 165.73197604201607:   2%|▎         | 5/200 [02:36<1:41:38, 31.27s/it]"
     ]
    },
    {
     "name": "stdout",
     "output_type": "stream",
     "text": [
      "EarlyStopping counter: 3 out of 10\n"
     ]
    },
    {
     "name": "stderr",
     "output_type": "stream",
     "text": [
      "Train loss 0.7588391386040854 Valid loss 0.6995905382292611 ROC_score 0.5343751856760798 f1_score 0.564154592435243 Utility_score 140.7893855716277:   3%|▎         | 6/200 [03:07<1:40:55, 31.21s/it]  "
     ]
    },
    {
     "name": "stdout",
     "output_type": "stream",
     "text": [
      "EarlyStopping counter: 4 out of 10\n"
     ]
    },
    {
     "name": "stderr",
     "output_type": "stream",
     "text": [
      "Train loss 0.7606489439623072 Valid loss 0.7004706757409233 ROC_score 0.5344409567093293 f1_score 0.5602750161642416 Utility_score 135.32703575179542:   4%|▎         | 7/200 [03:38<1:40:21, 31.20s/it]"
     ]
    },
    {
     "name": "stdout",
     "output_type": "stream",
     "text": [
      "Validation score improved (0.5344388279080151 --> 0.5344409567093293). Saving model!\n"
     ]
    },
    {
     "name": "stderr",
     "output_type": "stream",
     "text": [
      "Train loss 0.7670366102402363 Valid loss 0.6996991327830724 ROC_score 0.5345349486740831 f1_score 0.5712266808612635 Utility_score 72.73325057789438:   4%|▍         | 8/200 [04:09<1:39:52, 31.21s/it] "
     ]
    },
    {
     "name": "stdout",
     "output_type": "stream",
     "text": [
      "Validation score improved (0.5344409567093293 --> 0.5345349486740831). Saving model!\n"
     ]
    },
    {
     "name": "stderr",
     "output_type": "stream",
     "text": [
      "Train loss 0.7642008591135707 Valid loss 0.7026181697845459 ROC_score 0.5343262420521405 f1_score 0.5608818809025979 Utility_score 136.50134112639114:   4%|▍         | 9/200 [04:41<1:39:30, 31.26s/it]"
     ]
    },
    {
     "name": "stdout",
     "output_type": "stream",
     "text": [
      "EarlyStopping counter: 1 out of 10\n"
     ]
    },
    {
     "name": "stderr",
     "output_type": "stream",
     "text": [
      "Train loss 0.7584788881310629 Valid loss 0.7019121340342931 ROC_score 0.5343121864022378 f1_score 0.5651837071563416 Utility_score 153.34182955333665:   5%|▌         | 10/200 [05:12<1:38:57, 31.25s/it]"
     ]
    },
    {
     "name": "stdout",
     "output_type": "stream",
     "text": [
      "EarlyStopping counter: 2 out of 10\n"
     ]
    },
    {
     "name": "stderr",
     "output_type": "stream",
     "text": [
      "Train loss 0.7614311039994616 Valid loss 0.701665370804923 ROC_score 0.5343406772262927 f1_score 0.5665788943204152 Utility_score 191.01741068303863:   6%|▌         | 11/200 [05:43<1:38:35, 31.30s/it] "
     ]
    },
    {
     "name": "stdout",
     "output_type": "stream",
     "text": [
      "EarlyStopping counter: 3 out of 10\n"
     ]
    },
    {
     "name": "stderr",
     "output_type": "stream",
     "text": [
      "Train loss 0.7605769207718176 Valid loss 0.7010967441967555 ROC_score 0.5343963448918576 f1_score 0.5662324554486675 Utility_score 89.07737172476989:   6%|▌         | 12/200 [06:15<1:38:07, 31.31s/it]"
     ]
    },
    {
     "name": "stdout",
     "output_type": "stream",
     "text": [
      "EarlyStopping counter: 4 out of 10\n"
     ]
    },
    {
     "name": "stderr",
     "output_type": "stream",
     "text": [
      "Train loss 0.7647429474996864 Valid loss 0.7018911787441798 ROC_score 0.5344309939767466 f1_score 0.5644627130085346 Utility_score 160.70005458559586:   6%|▋         | 13/200 [06:46<1:37:29, 31.28s/it]"
     ]
    },
    {
     "name": "stdout",
     "output_type": "stream",
     "text": [
      "EarlyStopping counter: 5 out of 10\n"
     ]
    },
    {
     "name": "stderr",
     "output_type": "stream",
     "text": [
      "Train loss 0.7651411360556927 Valid loss 0.7017895681517464 ROC_score 0.5343371807753713 f1_score 0.5633447422195527 Utility_score 175.85859850969928:   7%|▋         | 14/200 [07:17<1:36:51, 31.24s/it]"
     ]
    },
    {
     "name": "stdout",
     "output_type": "stream",
     "text": [
      "EarlyStopping counter: 6 out of 10\n"
     ]
    },
    {
     "name": "stderr",
     "output_type": "stream",
     "text": [
      "Train loss 0.7594904030134918 Valid loss 0.7035782694816589 ROC_score 0.5344214231647648 f1_score 0.5651534464163154 Utility_score 146.3498933681889:   8%|▊         | 15/200 [07:48<1:36:14, 31.21s/it] "
     ]
    },
    {
     "name": "stdout",
     "output_type": "stream",
     "text": [
      "EarlyStopping counter: 7 out of 10\n"
     ]
    },
    {
     "name": "stderr",
     "output_type": "stream",
     "text": [
      "Train loss 0.7607578022764363 Valid loss 0.7033111044338771 ROC_score 0.5343793372949123 f1_score 0.5645917552685937 Utility_score 160.72859520296674:   8%|▊         | 16/200 [08:20<1:35:48, 31.24s/it]"
     ]
    },
    {
     "name": "stdout",
     "output_type": "stream",
     "text": [
      "EarlyStopping counter: 8 out of 10\n"
     ]
    },
    {
     "name": "stderr",
     "output_type": "stream",
     "text": [
      "Train loss 0.7647770511994668 Valid loss 0.7006284185818263 ROC_score 0.5343037302405981 f1_score 0.5686084538131834 Utility_score 135.40166377640216:   8%|▊         | 17/200 [08:51<1:35:30, 31.31s/it]"
     ]
    },
    {
     "name": "stdout",
     "output_type": "stream",
     "text": [
      "EarlyStopping counter: 9 out of 10\n"
     ]
    },
    {
     "name": "stderr",
     "output_type": "stream",
     "text": [
      "Train loss 0.7647770511994668 Valid loss 0.7006284185818263 ROC_score 0.5343037302405981 f1_score 0.5686084538131834 Utility_score 135.40166377640216:   8%|▊         | 17/200 [09:22<1:40:58, 33.11s/it]"
     ]
    },
    {
     "name": "stdout",
     "output_type": "stream",
     "text": [
      "EarlyStopping counter: 10 out of 10\n",
      "Early stopping\n",
      "Fold: 4\n"
     ]
    },
    {
     "name": "stderr",
     "output_type": "stream",
     "text": [
      "\n",
      "Train loss 0.7567345748345057 Valid loss 0.705186684926351 ROC_score 0.5397147822317527 f1_score 0.5870463866150352 Utility_score 1287.4305187042753:   0%|          | 1/200 [00:40<2:13:23, 40.22s/it]"
     ]
    },
    {
     "name": "stdout",
     "output_type": "stream",
     "text": [
      "Validation score improved (-inf --> 0.5397147822317527). Saving model!\n"
     ]
    },
    {
     "name": "stderr",
     "output_type": "stream",
     "text": [
      "Train loss 0.7540548911525143 Valid loss 0.7046447763076196 ROC_score 0.5396171039406938 f1_score 0.5788536489831294 Utility_score 1540.3498725152558:   1%|          | 2/200 [01:20<2:12:46, 40.24s/it]"
     ]
    },
    {
     "name": "stdout",
     "output_type": "stream",
     "text": [
      "EarlyStopping counter: 1 out of 10\n"
     ]
    },
    {
     "name": "stderr",
     "output_type": "stream",
     "text": [
      "Train loss 0.7579091526567936 Valid loss 0.7050398251949213 ROC_score 0.5395805004615012 f1_score 0.5850302892603837 Utility_score 1266.8241012812068:   2%|▏         | 3/200 [02:00<2:12:11, 40.26s/it]"
     ]
    },
    {
     "name": "stdout",
     "output_type": "stream",
     "text": [
      "EarlyStopping counter: 2 out of 10\n"
     ]
    },
    {
     "name": "stderr",
     "output_type": "stream",
     "text": [
      "Train loss 0.7560597120059861 Valid loss 0.7048614942110502 ROC_score 0.5397481136417763 f1_score 0.5875026514306848 Utility_score 1315.5246223631325:   2%|▏         | 4/200 [02:41<2:12:05, 40.44s/it]"
     ]
    },
    {
     "name": "stdout",
     "output_type": "stream",
     "text": [
      "Validation score improved (0.5397147822317527 --> 0.5397481136417763). Saving model!\n"
     ]
    },
    {
     "name": "stderr",
     "output_type": "stream",
     "text": [
      "Train loss 0.7634350707133611 Valid loss 0.7067357637943366 ROC_score 0.5394459355587963 f1_score 0.5814618301740354 Utility_score 1387.2677461716264:   2%|▎         | 5/200 [03:22<2:11:31, 40.47s/it]"
     ]
    },
    {
     "name": "stdout",
     "output_type": "stream",
     "text": [
      "EarlyStopping counter: 1 out of 10\n"
     ]
    },
    {
     "name": "stderr",
     "output_type": "stream",
     "text": [
      "Train loss 0.7553749974403117 Valid loss 0.702838503397428 ROC_score 0.5397186273384738 f1_score 0.5827525461051473 Utility_score 1333.00295039735:   3%|▎         | 6/200 [04:02<2:10:37, 40.40s/it]   "
     ]
    },
    {
     "name": "stdout",
     "output_type": "stream",
     "text": [
      "EarlyStopping counter: 2 out of 10\n"
     ]
    },
    {
     "name": "stderr",
     "output_type": "stream",
     "text": [
      "Train loss 0.7564788626299964 Valid loss 0.7042869665683844 ROC_score 0.5396227335559137 f1_score 0.5788114269826928 Utility_score 1548.522532128977:   4%|▎         | 7/200 [04:43<2:10:16, 40.50s/it]"
     ]
    },
    {
     "name": "stdout",
     "output_type": "stream",
     "text": [
      "EarlyStopping counter: 3 out of 10\n"
     ]
    },
    {
     "name": "stderr",
     "output_type": "stream",
     "text": [
      "Train loss 0.7657275795936584 Valid loss 0.7058015939516898 ROC_score 0.5392412616034179 f1_score 0.5816595138274443 Utility_score 1231.020628821969:   4%|▍         | 8/200 [05:23<2:09:13, 40.38s/it]"
     ]
    },
    {
     "name": "stdout",
     "output_type": "stream",
     "text": [
      "EarlyStopping counter: 4 out of 10\n"
     ]
    },
    {
     "name": "stderr",
     "output_type": "stream",
     "text": [
      "Train loss 0.7566273750530349 Valid loss 0.704201863362239 ROC_score 0.5396616441482471 f1_score 0.5855163893201548 Utility_score 1298.0078554540978:   4%|▍         | 9/200 [06:03<2:08:08, 40.25s/it]"
     ]
    },
    {
     "name": "stdout",
     "output_type": "stream",
     "text": [
      "EarlyStopping counter: 5 out of 10\n"
     ]
    },
    {
     "name": "stderr",
     "output_type": "stream",
     "text": [
      "Train loss 0.7645325789021121 Valid loss 0.7042880608485296 ROC_score 0.5391840949170648 f1_score 0.5631555893676372 Utility_score 1221.0832283658474:   5%|▌         | 10/200 [06:44<2:07:58, 40.41s/it]"
     ]
    },
    {
     "name": "stdout",
     "output_type": "stream",
     "text": [
      "EarlyStopping counter: 6 out of 10\n"
     ]
    },
    {
     "name": "stderr",
     "output_type": "stream",
     "text": [
      "Train loss 0.7661065330935849 Valid loss 0.7032912235993606 ROC_score 0.5397519391470021 f1_score 0.5780219963849952 Utility_score 1463.4199865778548:   6%|▌         | 11/200 [07:24<2:07:00, 40.32s/it]"
     ]
    },
    {
     "name": "stdout",
     "output_type": "stream",
     "text": [
      "Validation score improved (0.5397481136417763 --> 0.5397519391470021). Saving model!\n"
     ]
    },
    {
     "name": "stderr",
     "output_type": "stream",
     "text": [
      "Train loss 0.7548641057478057 Valid loss 0.7014660208653181 ROC_score 0.539626236436804 f1_score 0.582116421078749 Utility_score 1412.161809898973:   6%|▌         | 12/200 [08:04<2:06:08, 40.26s/it]   "
     ]
    },
    {
     "name": "stdout",
     "output_type": "stream",
     "text": [
      "EarlyStopping counter: 1 out of 10\n"
     ]
    },
    {
     "name": "stderr",
     "output_type": "stream",
     "text": [
      "Train loss 0.7588520919283231 Valid loss 0.7069791295589545 ROC_score 0.5393190765847007 f1_score 0.5846031637334794 Utility_score 1258.49131972803:   6%|▋         | 13/200 [08:44<2:05:45, 40.35s/it]"
     ]
    },
    {
     "name": "stdout",
     "output_type": "stream",
     "text": [
      "EarlyStopping counter: 2 out of 10\n"
     ]
    },
    {
     "name": "stderr",
     "output_type": "stream",
     "text": [
      "Train loss 0.7573762569162581 Valid loss 0.7077487141658099 ROC_score 0.5394831602562088 f1_score 0.5843501144478406 Utility_score 1378.412324169747:   7%|▋         | 14/200 [09:24<2:04:41, 40.22s/it]"
     ]
    },
    {
     "name": "stdout",
     "output_type": "stream",
     "text": [
      "EarlyStopping counter: 3 out of 10\n"
     ]
    },
    {
     "name": "stderr",
     "output_type": "stream",
     "text": [
      "Train loss 0.7600659881201055 Valid loss 0.702461533057384 ROC_score 0.5395268634744227 f1_score 0.5811710372944275 Utility_score 1351.5835306480776:   8%|▊         | 15/200 [10:04<2:04:01, 40.22s/it]"
     ]
    },
    {
     "name": "stdout",
     "output_type": "stream",
     "text": [
      "EarlyStopping counter: 4 out of 10\n"
     ]
    },
    {
     "name": "stderr",
     "output_type": "stream",
     "text": [
      "Train loss 0.7585256124536196 Valid loss 0.7069549988477658 ROC_score 0.5396685936213548 f1_score 0.584589247547542 Utility_score 1363.5261414440045:   8%|▊         | 16/200 [10:45<2:03:37, 40.31s/it]"
     ]
    },
    {
     "name": "stdout",
     "output_type": "stream",
     "text": [
      "EarlyStopping counter: 5 out of 10\n"
     ]
    },
    {
     "name": "stderr",
     "output_type": "stream",
     "text": [
      "Train loss 0.7562695315314664 Valid loss 0.7012532307551458 ROC_score 0.5397047119312772 f1_score 0.5841827710179266 Utility_score 1376.5181206889906:   8%|▊         | 17/200 [11:25<2:02:35, 40.19s/it]"
     ]
    },
    {
     "name": "stdout",
     "output_type": "stream",
     "text": [
      "EarlyStopping counter: 6 out of 10\n"
     ]
    },
    {
     "name": "stderr",
     "output_type": "stream",
     "text": [
      "Train loss 0.7710540547139115 Valid loss 0.7136940023837945 ROC_score 0.5382343942032091 f1_score 0.57213151672109 Utility_score 785.9627905216171:   9%|▉         | 18/200 [12:05<2:01:24, 40.02s/it]   "
     ]
    },
    {
     "name": "stdout",
     "output_type": "stream",
     "text": [
      "EarlyStopping counter: 7 out of 10\n"
     ]
    },
    {
     "name": "stderr",
     "output_type": "stream",
     "text": [
      "Train loss 0.7572123975389533 Valid loss 0.7030824697934664 ROC_score 0.5396957277389127 f1_score 0.5716961327686253 Utility_score 1633.0129126694546:  10%|▉         | 19/200 [12:44<2:00:22, 39.90s/it]"
     ]
    },
    {
     "name": "stdout",
     "output_type": "stream",
     "text": [
      "EarlyStopping counter: 8 out of 10\n"
     ]
    },
    {
     "name": "stderr",
     "output_type": "stream",
     "text": [
      "Train loss 0.7600111290812492 Valid loss 0.7053920840605711 ROC_score 0.5398222591482761 f1_score 0.5833214156059889 Utility_score 1307.8692770033208:  10%|█         | 20/200 [13:24<1:59:19, 39.77s/it]"
     ]
    },
    {
     "name": "stdout",
     "output_type": "stream",
     "text": [
      "Validation score improved (0.5397519391470021 --> 0.5398222591482761). Saving model!\n"
     ]
    },
    {
     "name": "stderr",
     "output_type": "stream",
     "text": [
      "Train loss 0.7574389138155513 Valid loss 0.7043842275937399 ROC_score 0.5396093578696848 f1_score 0.5774348933274202 Utility_score 1276.1321790405616:  10%|█         | 21/200 [14:03<1:58:22, 39.68s/it]"
     ]
    },
    {
     "name": "stdout",
     "output_type": "stream",
     "text": [
      "EarlyStopping counter: 1 out of 10\n"
     ]
    },
    {
     "name": "stderr",
     "output_type": "stream",
     "text": [
      "Train loss 0.7565649913416969 Valid loss 0.7034421761830648 ROC_score 0.5397796827193115 f1_score 0.5826182000390948 Utility_score 1415.7188067118207:  11%|█         | 22/200 [14:43<1:57:32, 39.62s/it]"
     ]
    },
    {
     "name": "stdout",
     "output_type": "stream",
     "text": [
      "EarlyStopping counter: 2 out of 10\n"
     ]
    },
    {
     "name": "stderr",
     "output_type": "stream",
     "text": [
      "Train loss 0.7736666281190183 Valid loss 0.7095484351500486 ROC_score 0.5389479344720818 f1_score 0.586821366143541 Utility_score 1141.8132278383475:  12%|█▏        | 23/200 [15:22<1:56:51, 39.61s/it] "
     ]
    },
    {
     "name": "stdout",
     "output_type": "stream",
     "text": [
      "EarlyStopping counter: 3 out of 10\n"
     ]
    },
    {
     "name": "stderr",
     "output_type": "stream",
     "text": [
      "Train loss 0.7572073924044768 Valid loss 0.7059867886396555 ROC_score 0.5395429259180141 f1_score 0.5840873942943634 Utility_score 1417.4117279337947:  12%|█▏        | 24/200 [16:02<1:55:59, 39.54s/it]"
     ]
    },
    {
     "name": "stdout",
     "output_type": "stream",
     "text": [
      "EarlyStopping counter: 4 out of 10\n"
     ]
    },
    {
     "name": "stderr",
     "output_type": "stream",
     "text": [
      "Train loss 0.7583378433353372 Valid loss 0.7051971570039407 ROC_score 0.539577490446084 f1_score 0.5861466663027755 Utility_score 1332.9859420408466:  12%|█▎        | 25/200 [16:42<1:55:47, 39.70s/it] "
     ]
    },
    {
     "name": "stdout",
     "output_type": "stream",
     "text": [
      "EarlyStopping counter: 5 out of 10\n"
     ]
    },
    {
     "name": "stderr",
     "output_type": "stream",
     "text": [
      "Train loss 0.759545747604635 Valid loss 0.704857988235278 ROC_score 0.5394953652176323 f1_score 0.5862077433755093 Utility_score 1406.8366441267099:  13%|█▎        | 26/200 [17:21<1:55:00, 39.66s/it] "
     ]
    },
    {
     "name": "stdout",
     "output_type": "stream",
     "text": [
      "EarlyStopping counter: 6 out of 10\n"
     ]
    },
    {
     "name": "stderr",
     "output_type": "stream",
     "text": [
      "Train loss 0.7606750788788 Valid loss 0.7038712883606936 ROC_score 0.5396795886647853 f1_score 0.5815546844807596 Utility_score 1491.4678869039362:  14%|█▎        | 27/200 [18:01<1:54:15, 39.63s/it] "
     ]
    },
    {
     "name": "stdout",
     "output_type": "stream",
     "text": [
      "EarlyStopping counter: 7 out of 10\n"
     ]
    },
    {
     "name": "stderr",
     "output_type": "stream",
     "text": [
      "Train loss 0.7574112022088634 Valid loss 0.704699137271979 ROC_score 0.5394869729925064 f1_score 0.5793209859412898 Utility_score 1435.062320814027:  14%|█▍        | 28/200 [18:40<1:53:22, 39.55s/it]"
     ]
    },
    {
     "name": "stdout",
     "output_type": "stream",
     "text": [
      "EarlyStopping counter: 8 out of 10\n"
     ]
    },
    {
     "name": "stderr",
     "output_type": "stream",
     "text": [
      "Train loss 0.7627543405526214 Valid loss 0.7032493841953766 ROC_score 0.5397267063798387 f1_score 0.5864357675404496 Utility_score 1281.6230453614596:  14%|█▍        | 29/200 [19:20<1:52:40, 39.54s/it]"
     ]
    },
    {
     "name": "stdout",
     "output_type": "stream",
     "text": [
      "EarlyStopping counter: 9 out of 10\n"
     ]
    },
    {
     "name": "stderr",
     "output_type": "stream",
     "text": [
      "Train loss 0.7627543405526214 Valid loss 0.7032493841953766 ROC_score 0.5397267063798387 f1_score 0.5864357675404496 Utility_score 1281.6230453614596:  14%|█▍        | 29/200 [19:59<1:57:52, 41.36s/it]"
     ]
    },
    {
     "name": "stdout",
     "output_type": "stream",
     "text": [
      "EarlyStopping counter: 10 out of 10\n",
      "Early stopping\n"
     ]
    },
    {
     "name": "stderr",
     "output_type": "stream",
     "text": [
      "\n"
     ]
    }
   ],
   "source": [
    "device = torch.device(\"cuda\")\n",
    "model = Model().to(device)\n",
    "\n",
    "optimizer = torch.optim.Adam(model.parameters(),lr=LR,weight_decay=WEIGHT_DECAY)\n",
    "\n",
    "scheduler = torch.optim.lr_scheduler.ReduceLROnPlateau(optimizer,mode='max',patience=5,verbose=True)\n",
    "\n",
    "loss_fn = SmoothBCEwLogits(smoothing=0.005)\n",
    "\n",
    "for _fold, (tr,te) in enumerate(splits):\n",
    "    print(f'Fold: {_fold}')\n",
    "    seed_everything(seed=1111+_fold)\n",
    "    #torch.cuda.empty_cache()\n",
    "    \n",
    "\n",
    "\n",
    "    \n",
    "    model_weights = f'{CACHE_PATH}/online_model_v8_{_fold}.pkl'\n",
    "    es = EarlyStopping(patience=10,mode='max')\n",
    "    \n",
    "    train_set = MarketDataset(train_features.loc[tr])\n",
    "    val_set = MarketDataset(train_features.loc[te])\n",
    "    \n",
    "    train_loader = DataLoader(train_set,batch_size=BATCH_SIZE,shuffle=False)\n",
    "    valid_loader = DataLoader(val_set,batch_size=BATCH_SIZE,shuffle=False)\n",
    "    \n",
    "    for epoch in (t:=trange(EPOCHS)):\n",
    "        train_loss = train_fn(model,optimizer,loss_fn,train_loader,device)\n",
    "        \n",
    "        valid_loss, valid_preds = inference(model,valid_loader,device,loss_fn)\n",
    "        \n",
    "        roc_score = roc_auc_score(train.loc[te][target_cols].values,valid_preds)\n",
    "        valid_preds = np.median(valid_preds,axis=1)\n",
    "        valid_preds = np.where(valid_preds >= 0.5, 1, 0).astype(int)\n",
    "        f1 = f1_score(train.loc[te][['action']].values,valid_preds)\n",
    "        scheduler.step(roc_score)\n",
    "        valid_u_score = utility_score_bincount(date=train.loc[te].date.values,weight=train.loc[te].weight.values,\n",
    "                                               resp=train.loc[te].resp.values,action=valid_preds)\n",
    "        nn.utils.clip_grad_norm_(model.parameters(),5)\n",
    "        \n",
    "        es(roc_score,model,model_path=model_weights)\n",
    "        if es.early_stop:\n",
    "            print('Early stopping')\n",
    "            break\n",
    "         \n",
    "        t.set_description(\"Train loss {} Valid loss {} ROC_score {} f1_score {} Utility_score {}\".format(train_loss,valid_loss,roc_score,f1,valid_u_score))\n",
    "    torch.save(model.state_dict(), f'{CACHE_PATH}/model_v8_{_fold}.pkl')"
   ]
  }
 ],
 "metadata": {
  "kernelspec": {
   "display_name": "Python [conda env:py38]",
   "language": "python",
   "name": "conda-env-py38-py"
  },
  "language_info": {
   "codemirror_mode": {
    "name": "ipython",
    "version": 3
   },
   "file_extension": ".py",
   "mimetype": "text/x-python",
   "name": "python",
   "nbconvert_exporter": "python",
   "pygments_lexer": "ipython3",
   "version": "3.8.6"
  }
 },
 "nbformat": 4,
 "nbformat_minor": 4
}
